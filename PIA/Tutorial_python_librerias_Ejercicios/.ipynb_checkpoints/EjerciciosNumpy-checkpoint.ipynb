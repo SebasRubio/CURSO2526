{
 "cells": [
  {
   "cell_type": "markdown",
   "id": "8599fb0d-aecb-4643-8459-1de181695595",
   "metadata": {},
   "source": [
    "### Crea un array de tres filas y cuatro columnas"
   ]
  },
  {
   "cell_type": "markdown",
   "id": "dc6d65a7-c214-43c0-b854-88cba1a1a21f",
   "metadata": {},
   "source": [
    "### Crea un array que sean dos martrices de 3x3"
   ]
  },
  {
   "cell_type": "code",
   "execution_count": null,
   "id": "86ea7a7c-21b8-4e41-bd2d-ef649a7758a9",
   "metadata": {},
   "outputs": [],
   "source": [
    "array_de_matrices = np.array([[[1, 2, 3],\n",
    "                               [4, 5, 6],\n",
    "                               [7, 8, 9]],\n",
    "\n",
    "                              [[10, 11, 12],\n",
    "                               [13, 14, 15],\n",
    "                               [16, 17, 18]]])\n",
    "\n",
    "print(array_de_matrices)\n",
    "print(\"\\nLa forma del array es:\", array_de_matrices.shape)"
   ]
  }
 ],
 "metadata": {
  "kernelspec": {
   "display_name": "Python 3 (ipykernel)",
   "language": "python",
   "name": "python3"
  },
  "language_info": {
   "codemirror_mode": {
    "name": "ipython",
    "version": 3
   },
   "file_extension": ".py",
   "mimetype": "text/x-python",
   "name": "python",
   "nbconvert_exporter": "python",
   "pygments_lexer": "ipython3",
   "version": "3.12.7"
  }
 },
 "nbformat": 4,
 "nbformat_minor": 5
}
