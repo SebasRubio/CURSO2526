{
 "cells": [
  {
   "cell_type": "markdown",
   "metadata": {
    "id": "6NoFHXDhsNVT"
   },
   "source": [
    "Primer programa en python"
   ]
  },
  {
   "cell_type": "markdown",
   "metadata": {},
   "source": [
    "En python la identación es parte de la sintaxis del lenguaje, si esta no se cumple dará error"
   ]
  },
  {
   "cell_type": "code",
   "execution_count": 1,
   "metadata": {
    "id": "x_3Bk0MzKfqg"
   },
   "outputs": [
    {
     "name": "stdin",
     "output_type": "stream",
     "text": [
      "Dime la edad 19\n"
     ]
    },
    {
     "name": "stdout",
     "output_type": "stream",
     "text": [
      "Mayor de edad\n",
      "Fin de programa\n"
     ]
    }
   ],
   "source": [
    "edad=int(input(\"Dime la edad\"))\n",
    "if (edad >= 18):\n",
    "  print(\"Mayor de edad\")\n",
    "print(\"Fin de programa\")\n"
   ]
  },
  {
   "cell_type": "markdown",
   "metadata": {
    "id": "D-teGcLbsTwL"
   },
   "source": [
    "# TIPO DE DATOS NUMÉRICOS"
   ]
  },
  {
   "cell_type": "markdown",
   "metadata": {
    "id": "1nMKsbOxyVtg"
   },
   "source": [
    "##### c Daría un error por que no sabe a qué tipo convertir, está entre comentarios"
   ]
  },
  {
   "cell_type": "code",
   "execution_count": 1,
   "metadata": {
    "id": "eTaHHdWisV1V"
   },
   "outputs": [
    {
     "name": "stdout",
     "output_type": "stream",
     "text": [
      "(4, 1)\n"
     ]
    },
    {
     "data": {
      "text/plain": [
       "15.329709716755891"
      ]
     },
     "execution_count": 1,
     "metadata": {},
     "output_type": "execute_result"
    }
   ],
   "source": [
    "num=-5\n",
    "abs(num)\n",
    "7 / 2\n",
    "7 // 2\n",
    "7 % 2\n",
    "pow(3,3)\n",
    "a=int(7.6)\n",
    "a\n",
    "b=int(\"34\")\n",
    "b\n",
    "#c=int(\"345C\")\n",
    "#c\n",
    "d=float(b)\n",
    "b\n",
    "print(divmod(9,2))\n",
    "import math\n",
    "math.sqrt(235)\n"
   ]
  },
  {
   "cell_type": "markdown",
   "metadata": {
    "id": "Bn9CNWRd5MjV"
   },
   "source": [
    "# TIPOS DE DATOS BOOLEANOS"
   ]
  },
  {
   "cell_type": "code",
   "execution_count": null,
   "metadata": {
    "id": "KUJ_ACMuMgm_"
   },
   "outputs": [],
   "source": [
    "# El valor cero se considera falso\n",
    "#(0,0,0) también es falso\n",
    "#La secuencia vacias también son falso es vacia () [] \"\"\n",
    "#Un diccionario vacio también es falso {}\n",
    "# No se pueden hacer comentarios en bloque estilo /* */"
   ]
  },
  {
   "cell_type": "markdown",
   "metadata": {
    "id": "DntJBhdnxaL6"
   },
   "source": [
    "### Cuando declaramos una variable\n",
    "a=7;\n",
    "### Automaticamente se le adjudica un tipo\n",
    "### La variable se crea desde el momento en que se le asigna un valor\n"
   ]
  },
  {
   "cell_type": "code",
   "execution_count": 2,
   "metadata": {
    "id": "9HnMDz8pxngT"
   },
   "outputs": [
    {
     "name": "stdout",
     "output_type": "stream",
     "text": [
      "7\n"
     ]
    }
   ],
   "source": [
    "a=7\n",
    "print(a)\n",
    "del(a)\n",
    "##print(a) Esto daría un error por que hemos borrado la variable"
   ]
  },
  {
   "cell_type": "markdown",
   "metadata": {
    "id": "txiMbSK5zVGi"
   },
   "source": [
    "####ENTRADA SALIDA ESTANDAR\n",
    "\n",
    "### EL INPUT SIEMPRE DEVUELVE UNA CADENA DE CARACTERES, POR TANTO EN OCASIONES SERÁ NECESARIO CONVERTIRLO\n",
    "#Debes saber que python es case sensitive"
   ]
  },
  {
   "cell_type": "code",
   "execution_count": 3,
   "metadata": {
    "id": "u6_Jy4AVzZ9k"
   },
   "outputs": [
    {
     "name": "stdout",
     "output_type": "stream",
     "text": [
      "Hola mundo\n"
     ]
    },
    {
     "name": "stdin",
     "output_type": "stream",
     "text": [
      "Introduce un valor 34\n"
     ]
    },
    {
     "name": "stdout",
     "output_type": "stream",
     "text": [
      "34\n"
     ]
    },
    {
     "name": "stdin",
     "output_type": "stream",
     "text": [
      "Introduce un numero 23\n"
     ]
    },
    {
     "name": "stdout",
     "output_type": "stream",
     "text": [
      "23\n",
      "22.5000002.5\n",
      "El producto cerveza cantidad=23 precio=13.46\n"
     ]
    }
   ],
   "source": [
    "print(\"Hola mundo\")\n",
    "a=input(\"Introduce un valor\")\n",
    "print(a)\n",
    "b=int(input(\"Introduce un numero\"))\n",
    "print(b)\n",
    "print(\"%d%f%s\" %(2.5,2.5,2.5))\n",
    "print(\"El producto %s cantidad=%d precio=%.2f\" %(\"cerveza\",23,13.456))\n",
    "B=23,4"
   ]
  },
  {
   "cell_type": "markdown",
   "metadata": {
    "id": "Zv939A9x4SyB"
   },
   "source": [
    "##### CADENA DE CARACTERES"
   ]
  },
  {
   "cell_type": "code",
   "execution_count": 4,
   "metadata": {
    "id": "U3UbzNPY4XMG"
   },
   "outputs": [
    {
     "name": "stdout",
     "output_type": "stream",
     "text": [
      "hola que tal\n",
      "hola hola hola \n",
      "l h\n",
      "12\n"
     ]
    }
   ],
   "source": [
    "a=\"hola \"+\"que tal\"\n",
    "print(a)\n",
    "b=\"hola \"*3\n",
    "print(b)\n",
    "print(a[2],a[0])\n",
    "print(len(a))\n"
   ]
  },
  {
   "cell_type": "markdown",
   "metadata": {
    "id": "zfsTlW0mMx_j"
   },
   "source": [
    "##### ESTRUCTURAS DE CONTROL CONDICIONAL"
   ]
  },
  {
   "cell_type": "code",
   "execution_count": 2,
   "metadata": {
    "id": "0hiB3anvMxro"
   },
   "outputs": [
    {
     "name": "stdin",
     "output_type": "stream",
     "text": [
      "Introduce la edad 15\n"
     ]
    },
    {
     "name": "stdout",
     "output_type": "stream",
     "text": [
      "No eres mayor de edad\n",
      "Programa terminado\n"
     ]
    }
   ],
   "source": [
    "edad =int(input(\"Introduce la edad\"))\n",
    "if edad>=18:\n",
    "  print(\"Eres mayor de edad\")\n",
    "else:\n",
    "  print(\"No eres mayor de edad\")\n",
    "print(\"Programa terminado\")\n"
   ]
  },
  {
   "cell_type": "markdown",
   "metadata": {
    "id": "xBXF2hs6O3ls"
   },
   "source": [
    "####NO HAY SWITCH, POR LO QUE HAY QUE HACERLO CON ELIF"
   ]
  },
  {
   "cell_type": "code",
   "execution_count": 5,
   "metadata": {
    "id": "Ss6qQ9wxO-5y"
   },
   "outputs": [
    {
     "name": "stdin",
     "output_type": "stream",
     "text": [
      "Dame tu nota  6\n"
     ]
    },
    {
     "name": "stdout",
     "output_type": "stream",
     "text": [
      "aprobado\n",
      "FIN DEL PROGRAMA\n"
     ]
    }
   ],
   "source": [
    "nota=int(input(\"Dame tu nota \"))\n",
    "if nota>=1 and nota <= 4:\n",
    "  print(\"suspenso\")\n",
    "elif nota==5 or nota ==6:\n",
    "  print(\"aprobado\")\n",
    "elif nota == 7 or nota==8:\n",
    "  print(\"Notable\")\n",
    "elif nota == 9 or nota==10:\n",
    "  print(\"Sobresaliente\")\n",
    "else:\n",
    "  print(\"Nota incorrecta\")\n",
    "print(\"FIN DEL PROGRAMA\")\n"
   ]
  },
  {
   "cell_type": "markdown",
   "metadata": {
    "id": "iCU4VymcQssU"
   },
   "source": [
    "####ESTRUCTURAS REPETITIVAS"
   ]
  },
  {
   "cell_type": "code",
   "execution_count": 6,
   "metadata": {
    "id": "b5SWx2EdUKZu"
   },
   "outputs": [
    {
     "name": "stdout",
     "output_type": "stream",
     "text": [
      "1\n",
      "3\n",
      "5\n",
      "7\n",
      "9\n"
     ]
    }
   ],
   "source": [
    "cont=0\n",
    "while cont<10:\n",
    "  cont=cont+1\n",
    "  if cont % 2!=1:\n",
    "    continue;\n",
    "  print(cont)"
   ]
  },
  {
   "cell_type": "markdown",
   "metadata": {
    "id": "yMiaaqfVVZIW"
   },
   "source": [
    "#####La estructura repetir no se contempla, pero la podemos simular"
   ]
  },
  {
   "cell_type": "code",
   "execution_count": 7,
   "metadata": {
    "id": "Sv5CfH74VgO6"
   },
   "outputs": [
    {
     "name": "stdin",
     "output_type": "stream",
     "text": [
      "Introduce la clave assdd\n"
     ]
    },
    {
     "name": "stdout",
     "output_type": "stream",
     "text": [
      "Bienve\n"
     ]
    }
   ],
   "source": [
    "secreto=\"assdd\"\n",
    "while True:\n",
    "  clave=input(\"Introduce la clave\")\n",
    "  if clave!=secreto:\n",
    "    print(\"Clave incorrecta\")\n",
    "  if clave == secreto:\n",
    "    break;\n",
    "print(\"Bienve\")"
   ]
  },
  {
   "cell_type": "markdown",
   "metadata": {
    "id": "jb0tAj0n1Q_i"
   },
   "source": [
    "#####ESTRUCTURA DE DATOS SECUENCIA"
   ]
  },
  {
   "cell_type": "code",
   "execution_count": 8,
   "metadata": {
    "id": "8S8AMXxt1Wv4"
   },
   "outputs": [
    {
     "name": "stdout",
     "output_type": "stream",
     "text": [
      "i\n",
      "n\n",
      "f\n",
      "o\n",
      "r\n",
      "m\n",
      "á\n",
      "t\n",
      "i\n",
      "c\n",
      "a\n",
      "for\n",
      "frá\n",
      "mática\n",
      "infor\n"
     ]
    },
    {
     "data": {
      "text/plain": [
       "'acitámrofni'"
      ]
     },
     "execution_count": 8,
     "metadata": {},
     "output_type": "execute_result"
    }
   ],
   "source": [
    "cadena=\"informática\"\n",
    "for caracter in cadena:\n",
    "  print(caracter)\n",
    "\"a\" in cadena\n",
    "\"info\" in cadena\n",
    "\"a\" not in cadena\n",
    "print(cadena[2:5])\n",
    "print(cadena[2:7:2]) \n",
    "print(cadena[5:])\n",
    "print(cadena[:5])\n",
    "cadena[::-1]"
   ]
  },
  {
   "cell_type": "markdown",
   "metadata": {
    "id": "LCdvntsB4s_t"
   },
   "source": [
    "####INMUTABILIDAD DE LAS CADENAS DE CARACTERES"
   ]
  },
  {
   "cell_type": "code",
   "execution_count": 9,
   "metadata": {
    "id": "PqcfLngJ4xg9"
   },
   "outputs": [
    {
     "ename": "TypeError",
     "evalue": "'str' object does not support item assignment",
     "output_type": "error",
     "traceback": [
      "\u001b[1;31m---------------------------------------------------------------------------\u001b[0m",
      "\u001b[1;31mTypeError\u001b[0m                                 Traceback (most recent call last)",
      "Cell \u001b[1;32mIn[9], line 2\u001b[0m\n\u001b[0;32m      1\u001b[0m cadena1\u001b[38;5;241m=\u001b[39m\u001b[38;5;124m\"\u001b[39m\u001b[38;5;124mInformática\u001b[39m\u001b[38;5;124m\"\u001b[39m\n\u001b[1;32m----> 2\u001b[0m cadena1[\u001b[38;5;241m0\u001b[39m]\u001b[38;5;241m=\u001b[39m\u001b[38;5;124m\"\u001b[39m\u001b[38;5;124mi\u001b[39m\u001b[38;5;124m\"\u001b[39m\n\u001b[0;32m      3\u001b[0m cadena1\u001b[38;5;241m=\u001b[39mcadena1\u001b[38;5;241m.\u001b[39mupper()\n",
      "\u001b[1;31mTypeError\u001b[0m: 'str' object does not support item assignment"
     ]
    }
   ],
   "source": [
    "cadena1=\"Informática\"\n",
    "cadena1[0]=\"i\"\n",
    "cadena1=cadena1.upper()"
   ]
  },
  {
   "cell_type": "markdown",
   "metadata": {
    "id": "Fi0YFcw9KY7z"
   },
   "source": [
    "#####DIFERENTES MÉTODOS PARA LAS CADENAS"
   ]
  },
  {
   "cell_type": "code",
   "execution_count": 26,
   "metadata": {
    "id": "jsnZk8tFKfJO"
   },
   "outputs": [
    {
     "name": "stdout",
     "output_type": "stream",
     "text": [
      "Hola, ¿como estas?\n",
      "HOLA, ¿COMO ESTAS?\n",
      "Hola Mundo De Nuevo\n"
     ]
    },
    {
     "data": {
      "text/plain": [
       "['12', '23', '67']"
      ]
     },
     "execution_count": 26,
     "metadata": {},
     "output_type": "execute_result"
    }
   ],
   "source": [
    "cad=\"hola, ¿como estas?\"\n",
    "print(cad.capitalize()) #Devuelve una cadena donde la primera letra es mayúscula y el resto minúscula\n",
    "print(cad.swapcase()) #Esta al revés\n",
    "cadena2=\"hola mundo de nuevo\"\n",
    "print(cadena2.title())\n",
    "cadena2.count(\"a\") # Cuenta el número de aes\n",
    "cadena2.count(\"a\",7) #Cuenta el número de aes a partir de la posición siete\n",
    "cadena2.count(\"a\",7,10) #Cuenta el número de aes de la posición 7 a la 10\n",
    "cad.find(\"como\") #Busca la cadena como devuelve a partir de que posición se encuentra\n",
    "cadena2.startswith(\"ho\") #Devuelve verdadero si la cadena empieza por ho, por el contrario falso\n",
    "cadena2.endswith(\"do\") #Devuelve verdadero si la cadena finaliza con do\n",
    "cadena2.replace(\"a\",\"U\") #reemplaza las letras a por la U\n",
    "cadena3=\"   espacios    \"\n",
    "cadena3.strip() #Elimina espacios en blanco, saltos de línea y tabulaciones del inicio y del fin de una cadena de texto\n",
    "hora=\"12:23:67\"\n",
    "ahora=hora.split(\":\") #Devuelve un array con cada uno de los campos\n",
    "ahora"
   ]
  },
  {
   "cell_type": "markdown",
   "metadata": {
    "id": "baGBlqOzSx0p"
   },
   "source": [
    "####LISTAS"
   ]
  },
  {
   "cell_type": "code",
   "execution_count": null,
   "metadata": {
    "id": "h35uJCytLz82"
   },
   "outputs": [],
   "source": [
    "lista1=[]"
   ]
  },
  {
   "cell_type": "code",
   "execution_count": null,
   "metadata": {
    "id": "8mS8jS-GS2Ue"
   },
   "outputs": [],
   "source": [
    "lista2=[1,\"cadena\", True]\n",
    "lista3=[1,2,3,4,5,6]\n",
    "for num in lista3:\n",
    "  print(num)\n",
    "for num, lista in zip(lista3,lista2):\n",
    "  print(num)\n",
    "  print(lista)\n",
    "2 in lista3\n",
    "\"cadena\" in lista2\n",
    "lista3 +[5,6,7]\n",
    "lista3*2\n",
    "lista3[2]\n",
    "lista3[-1]\n",
    "min(lista3)\n",
    "max(lista3)\n",
    "sum(lista3)\n",
    "sorted(lista3)\n",
    "sorted(lista3,reverse=True)\n",
    "tabla=[[1,2,3],[4,5,6],[7,8,9]]\n"
   ]
  },
  {
   "cell_type": "markdown",
   "metadata": {
    "id": "8gL2Y3DKNgej"
   },
   "source": [
    "#Las listas son Mutables, es decir se puede modificar su contenido\n",
    "\n",
    "\n",
    "##Podemos borrar un elemento de la lista, lo que reduce la longitud de la lista\n",
    "\n"
   ]
  },
  {
   "cell_type": "markdown",
   "metadata": {
    "id": "c-7B2nnINewD"
   },
   "source": []
  },
  {
   "cell_type": "code",
   "execution_count": null,
   "metadata": {
    "colab": {
     "base_uri": "https://localhost:8080/"
    },
    "id": "ZJKgbAI1NlOd",
    "outputId": "f67602d8-2e96-4c28-de42-0002ad9bc065"
   },
   "outputs": [],
   "source": [
    "lista1=[1,2,3]\n",
    "lista1[1]=100\n",
    "lista1\n",
    "del lista1[0]\n",
    "lista1\n"
   ]
  },
  {
   "cell_type": "markdown",
   "metadata": {
    "id": "raN4SKaiOrIr"
   },
   "source": [
    "##Los métodos de la listas modifican la propia lista, no devuelven una nueva litas"
   ]
  },
  {
   "cell_type": "code",
   "execution_count": null,
   "metadata": {
    "id": "tJNONskPO37j"
   },
   "outputs": [],
   "source": [
    "lista1.append(5) #Añade el elemento 5 en la siguiente posición de la lista\n",
    "lista1\n",
    "lista2=lista1 #En esta igualdad lo que se esta haciendo es crea un nueva referencia\n",
    "#De modo que si cambiamos lista2 también lo hace lista1\n",
    "lista2.append(6)\n",
    "print(\"imprimiendo lista1\", lista1)\n",
    "print(\"Imprimiento lista2\", lista2)"
   ]
  },
  {
   "cell_type": "markdown",
   "metadata": {
    "id": "gdX2jRbHQlQ4"
   },
   "source": [
    "##Si quiero copiar una lista en otra variable que sean totalmente independientes"
   ]
  },
  {
   "cell_type": "code",
   "execution_count": null,
   "metadata": {
    "id": "5dmZff-rQuNu"
   },
   "outputs": [],
   "source": [
    "lista3=lista1[:]\n",
    "lista3.append(8)\n",
    "print(\"Imprimiendo lista1\",lista1)\n",
    "print(\"Imprimiendo lista3\",lista3)"
   ]
  },
  {
   "cell_type": "markdown",
   "metadata": {
    "id": "Mac1XEMfRgQp"
   },
   "source": [
    "#Métodos de insercción,extracción y ordenación de elementos en las listas"
   ]
  },
  {
   "cell_type": "code",
   "execution_count": null,
   "metadata": {
    "id": "CeCiJdwcRm2E"
   },
   "outputs": [],
   "source": [
    "lista4=[1,2,3,4]\n",
    "lista4.append(5)\n",
    "lista5=[6,7]\n",
    "lista4.extend(lista5) # A la lista 4 le añadimos los elementos de la lista5\n",
    "print(\"Imprimiendo lista 4\", lista4)\n",
    "#Podemos insertar uno/s elementos a partir de una posición\n",
    "lista4.insert(1,100)\n",
    "print(\"Imprimiendo lista 4\",lista4)\n",
    "pop=lista4.pop() #Elimina un elemento del final de la lista, este elemento\n",
    "#lo podemos recoger en una variable\n",
    "print(\"Imprimiendo lista 4\",lista4)\n",
    "print(\"Elemento extraido\",pop)\n",
    "#Con la operación pop también podemos eliminar un elemento de otra posición\n",
    "#cualquiera\n",
    "pop=lista4.pop(1)\n",
    "#La operación remove elimina un elemento de la lista por contenido\n",
    "lista4.remove(4)\n",
    "print(\"Imprimiendo lista 4\",lista4)\n",
    "lista4.reverse()\n",
    "#Cuidado la lista ha cambiado\n",
    "print(\"Imprimiendo lista 4\",lista4)\n",
    "#Ahora la ordenamos\n",
    "lista4.sort()\n",
    "print(\"Imprimiendo lista 4\",lista4)\n",
    "#Probar esta otra operación listar.sort(reverse=True)\n",
    "lista5=[\"hola\",\"que\",\"Tal\",\"Hola\",\"Que\",\"tal\"]\n",
    "lista5.sort()\n",
    "print(\"Imprimiendo lista 5\", lista5)\n",
    "lista4.count(5) #Cuenta las apariciones con el 5\n",
    "lista4.index(5) #Devuelve la posición de la primera aparición del 5\n",
    "lista4.index(5,2)#Busca la primera aparición del 5 desde la posición 3\n",
    "len(lista4)\n"
   ]
  },
  {
   "cell_type": "markdown",
   "metadata": {
    "id": "lhAGl1h1Xlts"
   },
   "source": [
    "##TUPLAS\n",
    "## No se pueden modificar"
   ]
  },
  {
   "cell_type": "code",
   "execution_count": null,
   "metadata": {
    "colab": {
     "base_uri": "https://localhost:8080/"
    },
    "id": "EHOzTVykX15q",
    "outputId": "6b517160-59d9-4f3e-e9da-6c5c51da07aa"
   },
   "outputs": [],
   "source": [
    "tupla1=() #Tupla vacia\n",
    "tupla2=(\"a\",1,5)\n",
    "tupla2[1]\n",
    "tupla2[0:2]\n",
    "len(tupla2)\n",
    "#No se puede hacer tupla2[1]=6\n",
    "tupla2.index(1)\n",
    "tupla2.count(1)\n",
    "#La operación divmod(7,2) devuelve el cociente y el resto en una tupla\n",
    "#Podemos recoger estos valores de la siguiente forma\n",
    "cociente,resto=divmod(7,2)"
   ]
  },
  {
   "cell_type": "markdown",
   "metadata": {
    "id": "Sef9ZqVdaZ34"
   },
   "source": [
    "#Tipo de datos Mapas/Diccionarios, son del tipo clave/valor, es decir para leer un contenido lo hacemos mediante su clave\n",
    "##Es mutable"
   ]
  },
  {
   "cell_type": "code",
   "execution_count": null,
   "metadata": {
    "id": "XX3PtFHmahVO"
   },
   "outputs": [],
   "source": [
    "diccionario={'one':1,'two':2,'three':3}\n",
    "diccionario['two']\n",
    "diccionario1={} #diccionario vacio\n",
    "diccionario1[\"Nombre\"]=\"Antonio\"\n",
    "diccionario1[\"Edad\"]=45\n",
    "len(diccionario)\n",
    "del diccionario[\"three\"]\n",
    "# podemos comprobar si una determinada clave existe en el diccionario\n",
    "\"Nombre\" in diccionario1\n",
    "diccionario1[\"Nombre\"]=\"Ana\"\n",
    "dicc2=diccionario1.copy()"
   ]
  },
  {
   "cell_type": "markdown",
   "metadata": {
    "id": "tmk-8pQEnNiv"
   },
   "source": [
    "#Métodos de los diccionarios"
   ]
  },
  {
   "cell_type": "code",
   "execution_count": null,
   "metadata": {
    "colab": {
     "base_uri": "https://localhost:8080/"
    },
    "id": "c9pRzbDAnRyg",
    "outputId": "d3719aec-6f15-488d-cb9d-97e81b1fa66c"
   },
   "outputs": [],
   "source": [
    "diccionario1.clear() #Borra todos los elementos del diccionario\n",
    "diccionario2={'four':4,'five':5}\n",
    "diccionario.update(diccionario2)\n",
    "print(\"Imprimiendo diccionario\",diccionario)\n",
    "diccionario[\"one\"] #recupera en v1 el valor de la clave \"one\", si la clave no\n",
    "#existe da un excepción\n",
    "#Otra forma de recuperar el valor de la clave\n",
    "v1=diccionario.get(\"four\")\n",
    "#Si el valor de la clave no existe devuelve \"no existe\"\n",
    "v2=diccionario.get(\"ones\",\"no existe\")\n",
    "diccionario.pop(\"five\") #Devuelve el valor con clave one, y lo quita del dicciona.\n",
    "diccionario.pop(\"ones\",\"no se puede \") #Si no existe devuelve el mensaje\n",
    "#Para recorrer las claves\n",
    "for clave in diccionario.keys():\n",
    "  print(clave)\n",
    "#Recorrer los valores\n",
    "for valor in diccionario.values():\n",
    "  print(valor)\n",
    "for clave,valor in diccionario.items():\n",
    "  print(clave,valor)"
   ]
  },
  {
   "cell_type": "markdown",
   "metadata": {
    "id": "PiH4CCtT1xQ4"
   },
   "source": [
    "##EXCEPCIONES\n",
    "###Cuando ocurre un excepción el programa finaliza, tenemos que detectar estas\n",
    "###situaciones con el fín de darle un feeback al usuario"
   ]
  },
  {
   "cell_type": "code",
   "execution_count": null,
   "metadata": {
    "id": "_9aJ_XdA1359"
   },
   "outputs": [],
   "source": [
    "#Este ejemplo daría una excepción si el usuario no introduce un número\n",
    "num=int(input(\"Número\"))\n"
   ]
  },
  {
   "cell_type": "code",
   "execution_count": null,
   "metadata": {
    "colab": {
     "base_uri": "https://localhost:8080/"
    },
    "id": "BJeiMllH3QrC",
    "outputId": "7fad814e-61c2-4ba9-ce1a-6f668449cad7"
   },
   "outputs": [],
   "source": [
    "while True:\n",
    "  try:\n",
    "    x=int(input(\"Introduce un número:\"))\n",
    "    break\n",
    "  except ValueError:\n",
    "    print(\"Debes introducir un número\")"
   ]
  },
  {
   "cell_type": "code",
   "execution_count": null,
   "metadata": {
    "id": "tm0NXekm4TSc"
   },
   "outputs": [],
   "source": [
    "#Una instrucción puede dar lugar a más de una excepción\n",
    "cad=input(\"Dime un número\")\n",
    "try:\n",
    "  print(10/int(cad))\n",
    "except ValueError:\n",
    "  print(\"No se puede convertir a entero\")\n",
    "except ZeroDivisionError:\n",
    "  print(\"No se puede dividir por cero\")\n",
    "else:\n",
    "  print(\"Se ha producido un error desconocido\")\n",
    "finally:\n",
    "  print(\"Se ejecuta siempre al final de la excepción\")"
   ]
  },
  {
   "cell_type": "markdown",
   "metadata": {
    "id": "j7XGlcD36Dw5"
   },
   "source": [
    "#MÓDULOS"
   ]
  },
  {
   "cell_type": "code",
   "execution_count": null,
   "metadata": {
    "colab": {
     "base_uri": "https://localhost:8080/"
    },
    "id": "bnyCMjBI6HCG",
    "outputId": "a45d90c2-3fe3-4669-b6a1-ed60fb102c6e"
   },
   "outputs": [],
   "source": [
    "import math #importamos la libreria math\n",
    "math.sqrt(9)\n",
    "#Si sólo queremos importar un función específica\n",
    "from math import sqrt\n",
    "sqrt(144)\n",
    "import os\n",
    "os.system(\"ls\")"
   ]
  },
  {
   "cell_type": "markdown",
   "metadata": {
    "id": "RNCh25w5Jc4e"
   },
   "source": [
    "#PROGRAMACIÓN ESTRUCTURADA- FUNCIONES\n",
    "###Todos los parámetros son por referencia, por lo que si dentro de una función\n",
    "###alteramos el valor del parámetro, también estamos alterando el parámetro origen\n",
    "###Va a depender sobre todo si el tipo de objeto que pasamos es mutable o no\n",
    "##El return puede devolver más de un valor, puede devolver un tupla"
   ]
  },
  {
   "cell_type": "code",
   "execution_count": null,
   "metadata": {
    "colab": {
     "base_uri": "https://localhost:8080/"
    },
    "id": "OmoqZk1OJqS7",
    "outputId": "05d64a7e-4cf8-456b-9f2d-4d5db5ea6f09"
   },
   "outputs": [],
   "source": [
    "def factorial(n):\n",
    "  resultado=1\n",
    "  for i in range(1,n+1):\n",
    "    resultado*=i\n",
    "  return resultado\n",
    "print(factorial(5))"
   ]
  },
  {
   "cell_type": "markdown",
   "metadata": {
    "id": "xhx4gJIpPQxy"
   },
   "source": [
    "##Forma recursiva"
   ]
  },
  {
   "cell_type": "code",
   "execution_count": null,
   "metadata": {
    "colab": {
     "base_uri": "https://localhost:8080/"
    },
    "id": "ChD3ahd5Og-Y",
    "outputId": "7f690b16-4457-4856-b8ba-c9dcc69c26c3"
   },
   "outputs": [],
   "source": [
    "def factorial_1(n):\n",
    "  if n==0 or n==1:\n",
    "    return 1\n",
    "  else:\n",
    "    return n*factorial_1(n-1)\n",
    "print(factorial_1(5))"
   ]
  },
  {
   "cell_type": "markdown",
   "metadata": {
    "id": "7j3DvKquPesP"
   },
   "source": [
    "#PROGRAMACIÓN ORIENTADA A OBJETOS"
   ]
  },
  {
   "cell_type": "code",
   "execution_count": null,
   "metadata": {
    "id": "SA3_pOqbPjmd"
   },
   "outputs": [],
   "source": [
    "import math\n",
    "class Punto():\n",
    "  \"\"\"Representación de un punto en el plano\"\"\"\n",
    "  def __init__(self,x=0,y=0):\n",
    "    self.x=x\n",
    "    self.y=y\n",
    "  def mostrar(self):\n",
    "    return str(self.x)+\":\"+str(self.y)\n",
    "  def distancia(self,otro):\n",
    "    \"\"\"Devuelve la distancia entre dos puntos\"\"\"\n",
    "    dx=self.x-otro.x\n",
    "    dy=self.y-otro.y\n",
    "    return math.sqrt((dx*dx+dy*dy))"
   ]
  },
  {
   "cell_type": "code",
   "execution_count": null,
   "metadata": {
    "colab": {
     "base_uri": "https://localhost:8080/"
    },
    "id": "NQbhME0wSWy-",
    "outputId": "f777aff8-3f17-44cd-912d-cf6276e8719b"
   },
   "outputs": [],
   "source": [
    "punto1=Punto()\n",
    "punto2=Punto(2,3)\n",
    "punto1.distancia(punto2)"
   ]
  },
  {
   "cell_type": "markdown",
   "metadata": {
    "id": "10FqOyiyifXk"
   },
   "source": [
    "##Al encapsular un objeto el acceso a los atributos es controlado por métodos, de modo que se restringe ciertas operaciones sobre ellos, Los atributos privados son un tipo donde cambiar o leer su valor se debe hacer mediante métodos get y set"
   ]
  },
  {
   "cell_type": "code",
   "execution_count": null,
   "metadata": {
    "id": "AeZnXQFtix3i"
   },
   "outputs": [],
   "source": [
    "class Circulo():\n",
    "  def __init__(self,radio):\n",
    "    self.radio=radio\n",
    "  @property\n",
    "  def radio(self):\n",
    "      print(\"Estoy dando el radio\")\n",
    "      return self.__radio\n",
    "  @radio.setter\n",
    "  def radio(self,radio):\n",
    "      if radio>=0:\n",
    "        self.__radio=radio\n",
    "      else:\n",
    "        print(\"Radio de ser positivo\")\n",
    "        self.__radio=0"
   ]
  },
  {
   "cell_type": "code",
   "execution_count": null,
   "metadata": {
    "colab": {
     "base_uri": "https://localhost:8080/"
    },
    "id": "e3PC4yqVlCQZ",
    "outputId": "ba27d1b0-bd14-45ad-e85d-08f63a564fd2"
   },
   "outputs": [],
   "source": [
    "c1=Circulo(5)\n",
    "c1.radio\n",
    "c1.radio=-4"
   ]
  },
  {
   "cell_type": "markdown",
   "metadata": {
    "id": "jCQVhEdFl304"
   },
   "source": [
    "#HERENCIA Y DELEGACIÓN\n",
    "###La Herencia un objeto hereda de otro objeto, estamos vinculando al nuevo objeto los atributos y métodos del objeto padre\n",
    "###La Delegación un clase contiene como atributos instancias de otra clase, a las que delegará parte de sus funcionalidades"
   ]
  },
  {
   "cell_type": "markdown",
   "metadata": {
    "id": "5ema-ikLl8Kv"
   },
   "source": [
    "## Funciones lambda"
   ]
  },
  {
   "cell_type": "code",
   "execution_count": null,
   "metadata": {
    "id": "usWT03EcmI0T"
   },
   "outputs": [],
   "source": [
    "x = lambda a : a + 10\n",
    "print(x(5))"
   ]
  },
  {
   "cell_type": "code",
   "execution_count": null,
   "metadata": {},
   "outputs": [],
   "source": [
    "x = lambda a, b : a * b\n",
    "print(x(5, 6))"
   ]
  },
  {
   "cell_type": "code",
   "execution_count": null,
   "metadata": {},
   "outputs": [],
   "source": [
    "x = lambda a, b, c : a + b + c\n",
    "print(x(5, 6, 2))"
   ]
  },
  {
   "cell_type": "code",
   "execution_count": null,
   "metadata": {},
   "outputs": [],
   "source": [
    "# En este ejemplo la x toma el valor 2\n",
    "(lambda x: x + 1)(2)"
   ]
  },
  {
   "cell_type": "code",
   "execution_count": null,
   "metadata": {},
   "outputs": [],
   "source": [
    "(lambda x, y: x + y)(2, 3)"
   ]
  },
  {
   "cell_type": "code",
   "execution_count": null,
   "metadata": {},
   "outputs": [],
   "source": [
    "(lambda x:\n",
    "    (x % 2 and 'odd' or 'even'))(3)"
   ]
  },
  {
   "cell_type": "markdown",
   "metadata": {
    "id": "MhEXBgsYLBHK"
   },
   "source": [
    "# Texto muy grande\n",
    "## Texto grande\n",
    "### Texto normal\n",
    "#### Texto pequeño\n",
    "##### Texto muy pequeño\n",
    "*Cursiva*\n",
    "**Negrita**\n",
    "Lista de puntos\n",
    "- punto1\n",
    "- punto2\n"
   ]
  },
  {
   "cell_type": "markdown",
   "metadata": {
    "id": "7Ur8FGanLMIg"
   },
   "source": []
  }
 ],
 "metadata": {
  "colab": {
   "provenance": []
  },
  "kernelspec": {
   "display_name": "Python 3 (ipykernel)",
   "language": "python",
   "name": "python3"
  },
  "language_info": {
   "codemirror_mode": {
    "name": "ipython",
    "version": 3
   },
   "file_extension": ".py",
   "mimetype": "text/x-python",
   "name": "python",
   "nbconvert_exporter": "python",
   "pygments_lexer": "ipython3",
   "version": "3.12.9"
  }
 },
 "nbformat": 4,
 "nbformat_minor": 4
}
