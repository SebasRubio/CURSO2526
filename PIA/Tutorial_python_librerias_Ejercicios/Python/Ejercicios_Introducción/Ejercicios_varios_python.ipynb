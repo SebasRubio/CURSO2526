{
 "cells": [
  {
   "cell_type": "markdown",
   "id": "74c9e068-017f-45df-9b82-58929c3374f4",
   "metadata": {},
   "source": [
    "# EJERCICIOS DE SECUENCIA DE INSTRUCCIONES"
   ]
  },
  {
   "cell_type": "markdown",
   "id": "b1681f5e-b15b-4582-935b-c7fc7ccce313",
   "metadata": {},
   "source": [
    " Ejercicio 1: Realiza un programa que reciba una cantidad de minutos y muestre por pantalla a ## cuantas horas y minutos corresponde."
   ]
  },
  {
   "cell_type": "code",
   "execution_count": null,
   "id": "41ebfc82-fb08-4f02-a4ee-7c8fe2f596b4",
   "metadata": {},
   "outputs": [],
   "source": [
    "minutos = int(input(\"Introduce la cantidad de minutos:\"))\n",
    "res_horas = minutos // 60\n",
    "res_min = minutos % 60\n",
    "print(res_horas,\"horas y\",res_min,\"minutos.\")"
   ]
  },
  {
   "cell_type": "markdown",
   "id": "8d47b01f-1c2d-4853-abe9-3828e0764745",
   "metadata": {},
   "source": [
    "Ejercicio 2:Un vendedor recibe un sueldo base mas un 10% extra por comisión de sus ventas,\n",
    "el vendedor desea saber cuanto dinero obtendrá por concepto de comisiones por \n",
    "las tres ventas que realiza en el mes y el total que recibirá en el mes tomando \n",
    "en cuenta su sueldo base y comisiones."
   ]
  },
  {
   "cell_type": "code",
   "execution_count": null,
   "id": "0e4757f1-19b0-448c-808c-c47d88569986",
   "metadata": {},
   "outputs": [],
   "source": [
    "sueldo_base = float(input(\"Dime el sueldo base:\"))\n",
    "venta1 = float(input(\"Dime precio de la venta 1:\"))\n",
    "venta2 = float(input(\"Dime precio de la venta 2:\"))\n",
    "venta3 = float(input(\"Dime precio de la venta 3:\"))\n",
    "comision = venta1 * 0.1 + venta2 * 0.1 + venta3 * 0.1\n",
    "print(\"Comisión por ventas:\",comision)\n",
    "print(\"Sueldo total:\", sueldo_base + comision)"
   ]
  },
  {
   "cell_type": "markdown",
   "id": "3fa99544-cf33-4e0e-8e6c-1225b39c7b0c",
   "metadata": {},
   "source": [
    "Ejercicio 3: Calcular el perímetro y área de un rectángulo dada su base y su altura."
   ]
  },
  {
   "cell_type": "code",
   "execution_count": null,
   "id": "235f906f-4367-482f-8b69-fe4624fba0fb",
   "metadata": {},
   "outputs": [],
   "source": [
    "base=float(input(\"Introduce la base:\"))\n",
    "altura=float(input(\"Introduce la altura:\"))\n",
    "perimetro = 2 * base * altura\n",
    "area = base * altura\n",
    "print(\"El perimetro es\", perimetro, \"y el area es\", area)"
   ]
  },
  {
   "cell_type": "markdown",
   "id": "7f366727-f431-426e-a7b9-7c91e16e2e22",
   "metadata": {},
   "source": [
    "Ejercicio 4: Dados los catetos de un triángulo rectángulo, calcular su hipotenusa."
   ]
  },
  {
   "cell_type": "code",
   "execution_count": null,
   "id": "98972169-4d82-47c8-8a31-9272bb6a6660",
   "metadata": {},
   "outputs": [],
   "source": [
    "import math\n",
    "cateto1 = float(input(\"Introduce el cateto 1:\"))\n",
    "cateto2 = float(input(\"Introduce el cateto 2:\"))\n",
    "hipotenusa = math.sqrt(cateto1 ** 2 + cateto2 ** 2)\n",
    "print(\"La hipotenusa es\",hipotenusa)"
   ]
  },
  {
   "cell_type": "markdown",
   "id": "e046ad5b-f9a2-45da-8da4-1507e7758492",
   "metadata": {},
   "source": [
    "# EJERCICIOS ESTRUCTURAS DE CONTROL IF"
   ]
  },
  {
   "cell_type": "markdown",
   "id": "0bf7e682-162c-49cc-889a-5bada6b2d923",
   "metadata": {},
   "source": [
    "Ejercicio 5: Algoritmo que pida dos números e indique si el primero es mayor que el segundo."
   ]
  },
  {
   "cell_type": "code",
   "execution_count": null,
   "id": "96a54fc8-2cde-42aa-bec8-9534ae0698dc",
   "metadata": {},
   "outputs": [],
   "source": [
    "num1 = int(input(\"Dime el número 1:\"))\n",
    "num2 = int(input(\"Dime el número 2:\"))\n",
    "if num1>num2:\n",
    "\tprint(\"Número 1 es mayor que número 2\")\n",
    "else:\n",
    "\tprint(\"Número 1 NO es mayor que número 2\")\n"
   ]
  },
  {
   "cell_type": "code",
   "execution_count": null,
   "id": "1fc6cf13-f65a-4199-be9e-53d663059be5",
   "metadata": {},
   "outputs": [],
   "source": [
    "## Ejercicio 2\n",
    "###  Realiza un algoritmo que calcule la potencia, para ello pide por teclado \n",
    "###  la base y el exponente. Pueden ocurrir tres cosas:\n",
    "###  * El exponente sea positivo, sólo tienes que imprimir la potencia.\n",
    "###  * El exponente sea 0, el resultado es 1.\n",
    "###  * El exponente sea negativo, el resultado es 1/potencia con el exponente positivo."
   ]
  },
  {
   "cell_type": "code",
   "execution_count": null,
   "id": "5c6b38ef-1e47-4a76-b2cb-52bd659ddad2",
   "metadata": {},
   "outputs": [],
   "source": [
    "base = int(input('Dime la base:'))\n",
    "exponente = int(input('Dime el exponente:'))\n",
    "if exponente > 0:\n",
    "\tprint('La potencia es %i' % (base ** exponente))\n",
    "else:\n",
    "\tif exponente == 0:\n",
    "\t\tprint('La potencia es 1')\n",
    "\telse:\n",
    "\t\tprint('La potencia es %.2f' % (1/(base ** abs(exponente))))"
   ]
  },
  {
   "cell_type": "markdown",
   "id": "1ea641ae-4b11-447f-8c40-919da7c05a2a",
   "metadata": {},
   "source": [
    "Ejercicio 6:Escribir un programa que lea un año indicar si es bisiesto. <br>\n",
    "Nota: un año es bisiesto si es un número divisible por 4, pero no si es \n",
    "divisible por 100, excepto que también sea divisible por 400."
   ]
  },
  {
   "cell_type": "code",
   "execution_count": null,
   "id": "b0558a7d-d1e9-4d43-9310-d103349d2ebb",
   "metadata": {},
   "outputs": [],
   "source": [
    "year = int(input(\"Introduce el año:\"))\n",
    "if (year % 4 == 0 and not (year % 100 == 0)) or year % 400 == 0:\n",
    "\tprint(\"Año bisiesto.\")\n",
    "else:\n",
    "\tprint(\"Año no bisiesto.\")"
   ]
  },
  {
   "cell_type": "markdown",
   "id": "b0e205d6-3677-4098-af7a-95806ab7929b",
   "metadata": {},
   "source": [
    "Ejercicio 7: Escribe un programa que pida un número entero entre uno y doce e imprima el número de días que tiene el mes correspondiente.<br>\n",
    "Si introducimos otro número nos da un error."
   ]
  },
  {
   "cell_type": "code",
   "execution_count": null,
   "id": "2f5a587f-b8b9-416b-a9e9-38a021d76612",
   "metadata": {},
   "outputs": [],
   "source": [
    "mes = int(input(\"Introduce el número de mes (1-12):\"))\n",
    "if mes == 1 or mes == 3 or mes == 5 or mes == 7 or mes == 8 or mes == 10 or mes == 12:\n",
    "\tprint(\"31 días\")\n",
    "elif mes == 2:\n",
    "\tprint(\"28 o 29 días\")\n",
    "elif mes == 4 or mes == 6 or mes == 9 or mes == 11:\n",
    "\tprint(\"30 días\")\n",
    "else:\n",
    "\tprint(\"Mes incorrecto\")"
   ]
  },
  {
   "cell_type": "markdown",
   "id": "e98caf7e-71d1-44f9-9659-55e087a16f4a",
   "metadata": {},
   "source": [
    "# EJERCICIOS ESTRUCTURAS REPETITIVA"
   ]
  },
  {
   "cell_type": "markdown",
   "id": "9bdf90ad-583a-47e2-9f60-14f31ceadec5",
   "metadata": {},
   "source": [
    "Ejercicio 8: Crea una aplicación que pida un número y calcule su factorial (El factorial de un número es el producto de todos los enteros entre 1 y el propio número y se representa por el número seguido de un signo de exclamación).<br> \n",
    "Por ejemplo 5! = 1x2x3x4x5=120"
   ]
  },
  {
   "cell_type": "code",
   "execution_count": null,
   "id": "2a55d976-15e1-46a3-ae6c-b3c944e38880",
   "metadata": {},
   "outputs": [],
   "source": [
    "resultado = 1;\n",
    "num=int(input(\"Dime un número:\"))\n",
    "contador = 2;\n",
    "while contador <= num:\n",
    "\tresultado = resultado * contador;\n",
    "\tcontador = contador + 1;\n",
    "print(\"El resultado es\", resultado)"
   ]
  },
  {
   "cell_type": "code",
   "execution_count": null,
   "id": "67b40311-8744-4ac5-a612-8eaba0e5cf7d",
   "metadata": {},
   "outputs": [],
   "source": [
    "# OTRA POSIBLE SOLUCIÓN\n",
    "resultado = 1;\n",
    "num=int(input(\"Dime un número:\"))\n",
    "for contador in range(2, num+1):\n",
    "\tresultado = resultado * contador;\n",
    "print(\"El resultado es\", resultado)"
   ]
  },
  {
   "cell_type": "markdown",
   "id": "cf5496a8-2e59-4d44-a294-814907bf179c",
   "metadata": {},
   "source": [
    "Ejercicio 9: Escribir un programa que imprima todos los números pares entre dos números que se le pidan al usuario."
   ]
  },
  {
   "cell_type": "code",
   "execution_count": null,
   "id": "7d631da8-5f64-4651-8c22-1672f46fb62f",
   "metadata": {},
   "outputs": [],
   "source": [
    "num1 = int(input(\"Introduce el número 1:\"))\n",
    "num2 = int(input(\"Introduce el número 2:\"))\n",
    "if num1 % 2 == 1:\n",
    "\tnum1 = num1 + 1;\n",
    "for num in range(num1, num2 + 1, 2):\n",
    "\t\tprint(num,\" \",end=\"\")"
   ]
  },
  {
   "cell_type": "markdown",
   "id": "202b91b9-3b0e-44aa-aff1-54d52bba95c4",
   "metadata": {},
   "source": [
    "Ejercicio 10: Escribe un programa que dados dos números, uno real (base) y un entero positivo \n",
    "(exponente), saque por pantalla el resultado de la potencia. No se puede utilizar el operador de potencia.\n"
   ]
  },
  {
   "cell_type": "code",
   "execution_count": null,
   "id": "d7636630-9b16-46bd-bb68-dd5356185575",
   "metadata": {},
   "outputs": [],
   "source": [
    "base = int(input(\"Dame la base de la potencia:\"))\n",
    "while True:\n",
    "\texponente = int(input(\"Dame el exponente de la potencia:\"))\n",
    "\tif exponente<0:\n",
    "\t\tprint(\"ERROR: El exponente debe ser positivo\")\n",
    "\tif exponente >= 0:\n",
    "\t\tbreak;\n",
    "potencia = 1\n",
    "for i in range(1, exponente + 1):\n",
    "\tpotencia = potencia * base\n",
    "print(\"Potencia:\",potencia)"
   ]
  },
  {
   "cell_type": "markdown",
   "id": "317f5d2a-fd3d-4446-9699-46a2344b08e8",
   "metadata": {},
   "source": [
    "Ejercicio 11: Escribe un programa que diga si un número introducido por teclado es o no primo.<br> \n",
    "Un número primo es aquel que sólo es divisible entre él mismo y la unidad. <br>\n",
    "Nota: Es suficiente probar hasta la raíz cuadrada del número para ver si es divisible por algún otro número."
   ]
  },
  {
   "cell_type": "code",
   "execution_count": null,
   "id": "52507c05-9692-4e31-bd64-8020c6b25ec6",
   "metadata": {},
   "outputs": [],
   "source": [
    "es_primo = True\n",
    "numero_es_primo = int(input(\"Introduce un número para comprobar si es primo:\"))\n",
    "for num in range(2, numero_es_primo):\n",
    "\tif numero_es_primo % num == 0:\n",
    "\t\tes_primo = False\n",
    "if es_primo:\n",
    "\tprint(\"Es Primo\")\n",
    "else:\n",
    "\tprint(\"No es Primo\")"
   ]
  },
  {
   "cell_type": "markdown",
   "id": "45c4ec88-aeaf-4169-860a-b1c2b793e3db",
   "metadata": {},
   "source": [
    "Ejercicio 12: Una persona se encuentra en el kilómetro 70 de una carretera, otra se encuentra en el km 150, los coches tienen sentido opuesto y tienen la misma velocidad. <br>\n",
    "Realizar un programa para determinar en qué kilómetro de esa carretera se encontrarán."
   ]
  },
  {
   "cell_type": "code",
   "execution_count": null,
   "id": "5aac4f58-4413-4668-addd-15fad44c4e44",
   "metadata": {},
   "outputs": [],
   "source": [
    "km1 = 70\n",
    "km2 = 150\n",
    "while km1 != km2:\n",
    "\tkm1 = km1+1\n",
    "\tkm2 = km2-1\n",
    "\n",
    "print(\"Se encuentran en el km:\",km1)"
   ]
  },
  {
   "cell_type": "markdown",
   "id": "00ecbe65-678c-4c44-b9e8-396f75e8558f",
   "metadata": {},
   "source": [
    "# EJERCICIOS SOBRE CADENAS"
   ]
  },
  {
   "cell_type": "markdown",
   "id": "5ad7f90b-adc1-423e-9d1a-1dd4ee8a01a1",
   "metadata": {},
   "source": [
    "Ejercicio 13:Escribir por pantalla cada carácter de una cadena introducida por teclado."
   ]
  },
  {
   "cell_type": "code",
   "execution_count": null,
   "id": "a5abbe93-2f81-46bb-946b-72ee2d00bcdc",
   "metadata": {},
   "outputs": [],
   "source": []
  },
  {
   "cell_type": "markdown",
   "id": "6a1b80c1-93b6-441a-b375-0d952db02f94",
   "metadata": {},
   "source": [
    "Ejercicio 14:Realizar un programa que comprueba si una cadena leída por teclado comienza por una subcadena introducida por teclado."
   ]
  },
  {
   "cell_type": "code",
   "execution_count": null,
   "id": "19456a9e-b9d6-4a30-a2be-d943b063278d",
   "metadata": {},
   "outputs": [],
   "source": []
  },
  {
   "cell_type": "markdown",
   "id": "6cc7233e-d894-4578-a405-82a7f27fc7e8",
   "metadata": {},
   "source": [
    "Ejercicio 15: Pide una cadena y un carácter por teclado (valida que sea un carácter) y muestra cuantas veces aparece el carácter en la cadena."
   ]
  },
  {
   "cell_type": "code",
   "execution_count": null,
   "id": "84572397-22f2-4b6f-be75-c44237ea689b",
   "metadata": {},
   "outputs": [],
   "source": []
  },
  {
   "cell_type": "markdown",
   "id": "5d71270b-b616-4438-97eb-1aae9bf15c4d",
   "metadata": {},
   "source": [
    "Ejercicio 16:Suponiendo que hemos introducido una cadena por teclado que representa una frase(palabras separadas por espacios), realiza un programa que cuente las palabras que tiene."
   ]
  },
  {
   "cell_type": "code",
   "execution_count": null,
   "id": "32f3ba53-d01c-4a3a-b216-3ec83d9ad438",
   "metadata": {},
   "outputs": [],
   "source": []
  },
  {
   "cell_type": "markdown",
   "id": "2af964e1-004b-41a8-9442-e01e7115a266",
   "metadata": {},
   "source": [
    "Ejercicio 17: Si tenemos una cadena con un nombre y apellidos, realizar un programa que muestre las iniciales en mayúsculas."
   ]
  },
  {
   "cell_type": "code",
   "execution_count": null,
   "id": "6c7fac36-02d5-4762-a52e-75f7b394cec0",
   "metadata": {},
   "outputs": [],
   "source": []
  },
  {
   "cell_type": "markdown",
   "id": "4a777cc9-794d-47fa-afae-b45755c5e029",
   "metadata": {},
   "source": [
    "# EJERCICIOS DICCIONARIOS"
   ]
  },
  {
   "cell_type": "markdown",
   "id": "11583b0a-4af5-4349-a216-249e7a65c8fc",
   "metadata": {},
   "source": [
    "Ejercicio 18: Escribe un programa python que pida un número por teclado y que cree un diccionario cuyas claves sean desde el número 1 hasta el número indicado, y los valores sean los cuadrados de las claves.\n"
   ]
  },
  {
   "cell_type": "code",
   "execution_count": null,
   "id": "dfb4d590-41d6-4f6a-b614-36684e749922",
   "metadata": {},
   "outputs": [],
   "source": [
    "numero = int(input(\"Dime un número:\"))\n",
    "cuadrados = {}\n",
    "\n",
    "for num in range(1,numero+1):\n",
    "    cuadrados[num] = num ** 2\n",
    "for num, valor in cuadrados.items():\n",
    "    print(\"%d -> %d\" % (num,valor))"
   ]
  },
  {
   "cell_type": "markdown",
   "id": "1b706784-9563-435a-af29-f295e056479f",
   "metadata": {},
   "source": [
    "Ejercicio 19: Escribe un programa que lea una cadena y devuelva un diccionario con la cantidad de apariciones de cada carácter"
   ]
  },
  {
   "cell_type": "code",
   "execution_count": null,
   "id": "d7a38a73-9acc-4baf-8913-f4604c06cf56",
   "metadata": {},
   "outputs": [],
   "source": [
    "dict = {}\n",
    "cadena = input(\"Dame una cadena:\")\n",
    "for caracter in cadena:\n",
    "\tif caracter in dict:\n",
    "\t\tdict[caracter]+=1\n",
    "\telse:\n",
    "\t\tdict[caracter]=1\t\n",
    "\n",
    "for campo,valor in dict.items():\n",
    "\tprint (campo,\"->\",valor)"
   ]
  },
  {
   "cell_type": "markdown",
   "id": "4a7d3200-eed7-496e-827b-973bc534e58a",
   "metadata": {},
   "source": [
    "# EJERCICIOS CON LISTAS"
   ]
  },
  {
   "cell_type": "markdown",
   "id": "88887a2f-625b-475c-b5ab-21b8a5ac9879",
   "metadata": {},
   "source": [
    "Ejercicio 20: Realizar un programa que inicialice una lista con 10 valores aleatorios (del 1 al 10) y posteriormente muestre en pantalla cada elemento de la lista junto con su cuadrado y su cubo."
   ]
  },
  {
   "cell_type": "code",
   "execution_count": null,
   "id": "f432bb0d-d99f-4e97-9e2d-64dc781ee462",
   "metadata": {},
   "outputs": [],
   "source": [
    "import random\n",
    "lista_numeros = []\n",
    "# Primer recorrido para leer la lista\n",
    "for indice in range(1,11):\n",
    "\tlista_numeros.append(random.randint(1,10))\n",
    "## Segundo recorrido para mostrar el resultado\n",
    "for numero in lista_numeros:\n",
    "\tprint(numero,\" \",numero ** 2,\" \",numero ** 3)"
   ]
  },
  {
   "cell_type": "markdown",
   "id": "501b527f-00cc-410d-bec3-24ab7e8b2ceb",
   "metadata": {},
   "source": [
    "Ejercicio 21:Crea una lista e inicalizala con 5 cadenas de caracteres leídas por teclado. \n",
    "Copia los elementos de la lista en otra lista pero en orden inverso, y muestra sus elementos  por la pantalla."
   ]
  },
  {
   "cell_type": "code",
   "execution_count": null,
   "id": "51e01a7b-604d-4a98-a339-6658cb9b830b",
   "metadata": {},
   "outputs": [],
   "source": [
    "lista1 = []\n",
    "lista2 = []\n",
    "# Recorro la lista1 y leo cada elemento por teclado.\n",
    "for indice in range(1,6):\n",
    "\tlista1.append(input(\"Dame la cadena %d:\" % indice))\n",
    "\t\n",
    "# Copio la lista1 en la lista2 en orden inverso\n",
    "lista2 = lista1[::-1]\n",
    "\n",
    "# Recorro el vector2 para mostrarlo\n",
    "for cadena in lista2:\n",
    "\tprint(cadena)"
   ]
  },
  {
   "cell_type": "markdown",
   "id": "afad7f61-7ed4-41dc-b694-b0f174fe19ca",
   "metadata": {},
   "source": [
    "Ejercicio 21:Se quiere realizar un programa que lea por teclado las 5 notas obtenidas por un alumno (comprendidas entre 0 y 10). A continuación debe mostrar todas las notas, la nota media, la nota más alta que ha sacado y la menor."
   ]
  },
  {
   "cell_type": "code",
   "execution_count": null,
   "id": "e3241199-fa24-417f-8883-af4b6a0e2447",
   "metadata": {},
   "outputs": [],
   "source": [
    "notas = []\n",
    "for indice in range(1,6):\n",
    "\twhile True:\n",
    "\t\tnota = int(input(\"Introduce la nota %d:\" % indice))\n",
    "\t\tif nota>=0 and nota<=10: break\n",
    "\tnotas.append(nota)\n",
    "\n",
    "# Muestro resultados\n",
    "\n",
    "print(\"Notas: \",end=\"\")\n",
    "for nota in notas:\n",
    "\tprint(nota,\" \",end=\"\")\n",
    "print()\n",
    "print(\"Nota media: \",sum(notas)/len(notas))\n",
    "print(\"Nota max: \",max(notas))\n",
    "print(\"Nota min: \",min(notas))"
   ]
  },
  {
   "cell_type": "markdown",
   "id": "e0c19d59-8050-4ae5-8946-c488e52df30f",
   "metadata": {},
   "source": [
    "Ejercicio 22: Diseñar el algoritmo correspondiente a un programa, que:<br>\n",
    "Crea una tabla bidimensional de longitud 5x15 y nombre 'marco'.\n",
    "Carga la tabla con dos únicos valores 0 y 1, donde el valor uno ocupará las posiciones o elementos que delimitan la tabla, es decir, las más externas, mientras que el resto de los elementos contendrán el valor 0.<br>\n",
    "Visualiza el contenido de la matriz en pantalla."
   ]
  },
  {
   "cell_type": "code",
   "execution_count": null,
   "id": "7d6e52bb-44da-47b5-a23e-5219b884c1fa",
   "metadata": {},
   "outputs": [],
   "source": [
    "marco = []\n",
    "num_filas = 5\n",
    "num_cols = 15\n",
    "for indice_fila in range(0,num_filas):\n",
    "\tfila = []\n",
    "\tfor indice_col in range(0,num_cols): \n",
    "\t\t# Si estoy en el extremo izquierdo, derecho, superior o inferior\n",
    "\t\tif indice_fila == 0 or indice_fila == num_filas - 1 or indice_col == 0 or indice_col == num_cols -1:\n",
    "\t\t\tfila.append(1)\n",
    "\t\telse:\n",
    "\t\t\tfila.append(0)\n",
    "\tmarco.append(fila)\n",
    "# Recorro para mostrar tabla\n",
    "for fila in marco:\n",
    "\tfor elemento in fila:\n",
    "\t\tprint(elemento,\" \",end=\"\")\n",
    "\tprint()"
   ]
  },
  {
   "cell_type": "markdown",
   "id": "e691a726-affa-402c-9067-fa8b794cba39",
   "metadata": {},
   "source": [
    "# FUNCIONES"
   ]
  },
  {
   "cell_type": "markdown",
   "id": "92a4a149-e1e4-4e54-abc1-d4dd9d1d2ca3",
   "metadata": {},
   "source": [
    "Ejercicio 23:Función centrar: Recibe una cadena y la imprime centrada en la pantalla.<br>\n",
    "Suponemos que tenemos una pantalla de 80 caracteres de ancho. <br>\n",
    "Para centrar usamos la formula 40 - (Longitud(cad)/2)<br>\n",
    "Parámetros de entrada: cadena a imprimir centrada\n"
   ]
  },
  {
   "cell_type": "code",
   "execution_count": null,
   "id": "b012872d-98a5-4d7d-b38b-7a72ac18da40",
   "metadata": {},
   "outputs": [],
   "source": [
    "def centrar(cad):\n",
    "\tprint(\" \" * int(40 - (len(cad)/2)),cad)\n",
    "\tprint(\" \" * int(40 - (len(cad)/2)),\"=\" * len(cad))\n"
   ]
  },
  {
   "cell_type": "markdown",
   "id": "0ce35a41-56d7-4a79-a420-7e66bf6cdbee",
   "metadata": {},
   "source": [
    "Continuación del ejercicio anterior<br>\n",
    "Crea un función EscribirCentrado, que reciba como parámetro un texto y lo escriba centrado en pantalla (suponiendo una anchura de 80 columnas; pista:<br> \n",
    "deberás escribir 40 - longitud/2 espacios antes del texto. <br>\n",
    "Además subraya el mensaje utilizando el carácter =."
   ]
  },
  {
   "cell_type": "code",
   "execution_count": null,
   "id": "478a3041-e06f-4591-83eb-a1197a7b8dee",
   "metadata": {},
   "outputs": [],
   "source": [
    "mensaje1 = \"Un mensaje centrado\"\n",
    "centrar(mensaje1)\n",
    "mensaje2 = \"Otro mensaje\"\n",
    "centrar(mensaje2)"
   ]
  },
  {
   "cell_type": "markdown",
   "id": "345aea5f-ca94-461f-8e48-7a1ee69d2926",
   "metadata": {},
   "source": [
    "Ejercicio 24:Función EsMultiplo: Recibe dos número e indica si el primero el múltiplo del segundo. Para ello calculo el resto de la división, si es 0 es múltiplo.<br>\n",
    "Parámetros de entrada: dos números <br>\n",
    "Dato devuelto: múltiplo: Valor lógico verdadero si el primero es múltiplo del segundo, Falso en caso contrario."
   ]
  },
  {
   "cell_type": "code",
   "execution_count": null,
   "id": "1a23f72c-3f4f-4396-8722-5907cb21f2dd",
   "metadata": {},
   "outputs": [],
   "source": [
    "def esmultiplo(num1,num2):\n",
    "\tif num1 % num2 == 0:\n",
    "\t\treturn True\n",
    "\telse:\n",
    "\t\treturn False"
   ]
  },
  {
   "cell_type": "markdown",
   "id": "5b4adafa-2671-450e-a738-4b6ca64029cc",
   "metadata": {},
   "source": [
    "Continuación del ejercicio anterior<br>\n",
    "Crea un programa que pida dos número enteros al usuario y diga si alguno de ellos es múltiplo del otro. Crea una función EsMultiplo que reciba los dos números, y devuelve si el primero es múltiplo del segundo."
   ]
  },
  {
   "cell_type": "code",
   "execution_count": null,
   "id": "914e7f94-6768-4bff-9113-82fbb5378fdc",
   "metadata": {},
   "outputs": [],
   "source": [
    "numero1 = int(input(\"Número 1:\"))\n",
    "numero2 = int(input(\"Número 2:\"))\n",
    "if esmultiplo(numero1,numero2):\n",
    "\tprint(numero1,\"es múltiplo de\",numero2)\n",
    "else:\n",
    "\tprint(numero1,\"no es múltiplo de\",numero2)"
   ]
  }
 ],
 "metadata": {
  "kernelspec": {
   "display_name": "Python 3 (ipykernel)",
   "language": "python",
   "name": "python3"
  },
  "language_info": {
   "codemirror_mode": {
    "name": "ipython",
    "version": 3
   },
   "file_extension": ".py",
   "mimetype": "text/x-python",
   "name": "python",
   "nbconvert_exporter": "python",
   "pygments_lexer": "ipython3",
   "version": "3.12.9"
  }
 },
 "nbformat": 4,
 "nbformat_minor": 5
}
