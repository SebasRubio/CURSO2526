{
 "cells": [
  {
   "cell_type": "markdown",
   "id": "8599fb0d-aecb-4643-8459-1de181695595",
   "metadata": {},
   "source": [
    "#### Ejercicio 1: Crea un array de tres filas y cuatro columnas"
   ]
  },
  {
   "cell_type": "code",
   "execution_count": null,
   "id": "4629e6ff-b64c-4c34-92c0-9ded2c72721c",
   "metadata": {},
   "outputs": [],
   "source": [
    "import numpy as np\n",
    "array_1=np.array([[1,2,3,4],[5,6,7,8],[9,10,11,12]])\n",
    "array_1"
   ]
  },
  {
   "cell_type": "code",
   "execution_count": null,
   "id": "6e9db478-3fca-43ea-8862-3d89a9368e2d",
   "metadata": {},
   "outputs": [],
   "source": []
  },
  {
   "cell_type": "markdown",
   "id": "dc6d65a7-c214-43c0-b854-88cba1a1a21f",
   "metadata": {},
   "source": [
    "### Ejercicio 2: Crea un array que sean dos martrices de 3x3"
   ]
  },
  {
   "cell_type": "code",
   "execution_count": null,
   "id": "86ea7a7c-21b8-4e41-bd2d-ef649a7758a9",
   "metadata": {},
   "outputs": [],
   "source": [
    "array_de_matrices = np.array([[[1, 2, 3],\n",
    "                               [4, 5, 6],\n",
    "                               [7, 8, 9]],\n",
    "\n",
    "                              [[10, 11, 12],\n",
    "                               [13, 14, 15],\n",
    "                               [16, 17, 18]]])\n",
    "\n",
    "print(array_de_matrices)\n",
    "print(\"\\nLa forma del array es:\", array_de_matrices.shape)"
   ]
  },
  {
   "cell_type": "markdown",
   "id": "4814bacc-2a1b-4169-893f-0343fb64c1db",
   "metadata": {},
   "source": [
    "### Ejercicio 3: Dado el siguiente DNI  7387402 como un string, conviertelo en un array"
   ]
  },
  {
   "cell_type": "markdown",
   "id": "3ac8d2e1-3e96-4bf3-ba6a-2e139fb62fa1",
   "metadata": {},
   "source": [
    "### Ejercicio 4: ¿Qué dos formas puedes crear una matriz triangular superior?"
   ]
  },
  {
   "cell_type": "code",
   "execution_count": null,
   "id": "860dbc95-6405-4910-b33b-f1cc25308456",
   "metadata": {},
   "outputs": [],
   "source": [
    "### PRIMERA FORMA\n",
    "import numpy as np\n",
    "\n",
    "# Creamos una matriz cuadrada de 4x4\n",
    "n = 4\n",
    "matriz_de_unos = np.ones((n, n), dtype=int)\n",
    "\n",
    "# Aplicamos triu() para obtener la matriz triangular superior\n",
    "matriz_triangular_superior = np.triu(matriz_de_unos)\n",
    "\n",
    "print(matriz_triangular_superior)"
   ]
  },
  {
   "cell_type": "markdown",
   "id": "e2a73de3-a741-46f8-a49d-0f51aab198cc",
   "metadata": {},
   "source": [
    "Al igual que np.tri(), la función np.triu() acepta el argumento k para especificar la diagonal:\n",
    "\n",
    "k = 0: La diagonal principal (por defecto).\n",
    "\n",
    "k > 0: Diagonales por encima de la principal.\n",
    "\n",
    "k < 0: Diagonales por debajo de la principal."
   ]
  },
  {
   "cell_type": "code",
   "execution_count": null,
   "id": "8d7ceecb-441e-44eb-a58b-1ca62dbe271b",
   "metadata": {},
   "outputs": [],
   "source": [
    "import numpy as np\n",
    "\n",
    "# Matriz triangular superior con la diagonal principal en 0s (k=1)\n",
    "n = 4\n",
    "matriz_de_unos = np.ones((n, n), dtype=int)\n",
    "matriz_sin_diagonal = np.triu(matriz_de_unos, k=1)\n",
    "\n",
    "print(matriz_sin_diagonal)"
   ]
  },
  {
   "cell_type": "markdown",
   "id": "62293f12-17b3-4726-b009-32dab02d1b45",
   "metadata": {},
   "source": [
    "## Ejercicio 5: Realizar el producto escalar de dos vectores de 4 componentes"
   ]
  },
  {
   "cell_type": "markdown",
   "id": "39c22946-78cc-480b-b65c-ed5a4b431365",
   "metadata": {},
   "source": [
    "## Ejercicio 6: Crea un array de dimensión 3x2x3 de valores secuenciales y obtener los siguiente valores: 7, 10, 17"
   ]
  },
  {
   "cell_type": "code",
   "execution_count": null,
   "id": "e4ae04ae-3536-467c-a215-4d815dc3c595",
   "metadata": {},
   "outputs": [],
   "source": []
  }
 ],
 "metadata": {
  "kernelspec": {
   "display_name": "Python 3 (ipykernel)",
   "language": "python",
   "name": "python3"
  },
  "language_info": {
   "codemirror_mode": {
    "name": "ipython",
    "version": 3
   },
   "file_extension": ".py",
   "mimetype": "text/x-python",
   "name": "python",
   "nbconvert_exporter": "python",
   "pygments_lexer": "ipython3",
   "version": "3.12.9"
  }
 },
 "nbformat": 4,
 "nbformat_minor": 5
}
