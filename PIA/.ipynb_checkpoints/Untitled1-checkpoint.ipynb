{
 "cells": [
  {
   "cell_type": "markdown",
   "id": "743f5728-da65-4de6-a30e-4031b5d68fa5",
   "metadata": {},
   "source": [
    "## EJERCICIOS CON LISTAS"
   ]
  },
  {
   "cell_type": "markdown",
   "id": "7e0223f2-f9db-4fd8-95e5-ec48a9853416",
   "metadata": {},
   "source": [
    " Ejercicio 1: Realizar un programa que inicialice una lista con 10 valores aleatorios (del 1 al 10)\n",
    " y posteriormente muestre en pantalla cada elemento de la lista junto con su cuadrado \n",
    " y su cubo."
   ]
  },
  {
   "cell_type": "code",
   "execution_count": null,
   "id": "b0805238-5f7c-47da-bceb-a92736f94bb9",
   "metadata": {},
   "outputs": [],
   "source": []
  },
  {
   "cell_type": "markdown",
   "id": "3a9ae93a-c306-4d5c-a64b-08bf87312cdc",
   "metadata": {},
   "source": [
    "Ejercicio 2: Crea una lista e inicalizala con 5 cadenas de caracteres leídas por teclado. \n",
    "Copia los elementos de la lista en otra lista pero en orden inverso, y muestra \n",
    "sus elementos  por la pantalla."
   ]
  },
  {
   "cell_type": "code",
   "execution_count": null,
   "id": "8d91f0b0-f78b-4521-850b-116984eed7d2",
   "metadata": {},
   "outputs": [],
   "source": []
  },
  {
   "cell_type": "markdown",
   "id": "63ce803c-f152-4e73-bd57-a8465b41eb4a",
   "metadata": {},
   "source": [
    "Ejercicio 3: Se quiere realizar un programa que lea por teclado las 5 notas obtenidas por un \n",
    "alumno (comprendidas entre 0 y 10). A continuación debe mostrar todas las notas, \n",
    "la nota media, la nota más alta que ha sacado y la menor."
   ]
  },
  {
   "cell_type": "code",
   "execution_count": null,
   "id": "9fb8197b-dd6e-426e-b5c9-b57192988c10",
   "metadata": {},
   "outputs": [],
   "source": []
  },
  {
   "cell_type": "markdown",
   "id": "7f05fbf2-e8b7-4253-9a7a-5f06e8bf87b8",
   "metadata": {},
   "source": [
    "Ejercicio 4: Programa que declare una lista y la vaya llenando de números hasta que \n",
    "introduzcamos un número negativo. Entonces se debe imprimir el vector \n",
    "(sólo los elementos introducidos)."
   ]
  },
  {
   "cell_type": "code",
   "execution_count": null,
   "id": "e17b429b-a79f-4562-b52e-d877c53e11f5",
   "metadata": {},
   "outputs": [],
   "source": []
  },
  {
   "cell_type": "markdown",
   "id": "7429a374-ad84-4350-baf4-9f0af9f4d482",
   "metadata": {},
   "source": [
    "Ejercicio 5: Crea un programa que pida un número al usuario un número de mes \n",
    "(por ejemplo, el 4) y diga cuántos días tiene (por ejemplo, 30) \n",
    " y el nombre del mes. Debes usar listas. Para simplificarlo vamos \n",
    "a suponer que febrero tiene 28 días."
   ]
  },
  {
   "cell_type": "code",
   "execution_count": null,
   "id": "bc320198-58ee-4d7b-9d0e-1349192cf1f2",
   "metadata": {},
   "outputs": [],
   "source": []
  },
  {
   "cell_type": "markdown",
   "id": "e558e5b6-78ce-4e69-ad19-448d7a8d8bfc",
   "metadata": {},
   "source": [
    "Ejercicio 6: Programa que declare tres listas 'lista1', 'lista2' y 'lista3' de cinco \n",
    "enteros cada uno, pida valores para 'lista1' y 'lista2' y \n",
    "calcule lista3=lista1+lista2."
   ]
  },
  {
   "cell_type": "code",
   "execution_count": null,
   "id": "24a2483c-877c-4fb6-966f-515ba3ff5774",
   "metadata": {},
   "outputs": [],
   "source": []
  },
  {
   "cell_type": "markdown",
   "id": "60133d17-4c2d-43e5-aead-353dd6555bb4",
   "metadata": {},
   "source": [
    "# Ejercicios con diccionarios"
   ]
  },
  {
   "cell_type": "markdown",
   "id": "a854e2d6-5f51-4aac-8871-57f5886960e6",
   "metadata": {},
   "source": [
    "Ejercicio 7: Escribe un programa python que pida un número por teclado y que cree un diccionario cuyas \n",
    "claves sean desde el número 1 hasta el número indicado, y los valores sean los cuadrados de las claves.\n"
   ]
  },
  {
   "cell_type": "code",
   "execution_count": null,
   "id": "2c75c2b6-070b-49bc-8321-31a9293176a4",
   "metadata": {},
   "outputs": [],
   "source": []
  },
  {
   "cell_type": "markdown",
   "id": "dbfcda05-5aa6-45d4-91dc-187daacadd7d",
   "metadata": {},
   "source": [
    "Ejercicio 8: Escribe un programa que lea una cadena y devuelva un diccionario con la cantidad de apariciones \n",
    "de cada carácter en la cadena. "
   ]
  },
  {
   "cell_type": "code",
   "execution_count": null,
   "id": "866d703e-bce3-43c7-a3cc-0ecff3ba2bee",
   "metadata": {},
   "outputs": [],
   "source": []
  },
  {
   "cell_type": "markdown",
   "id": "5071336c-bde3-4260-83eb-89f7aef46c73",
   "metadata": {},
   "source": [
    "# Ejercicios con cadenas"
   ]
  },
  {
   "cell_type": "markdown",
   "id": "dca8130c-e6e6-46e4-be96-f5362cf8f9af",
   "metadata": {},
   "source": [
    "Ejercicio 9: Realizar un programa que comprueba si una cadena leída por teclado comienza por \n",
    "una subcadena introducida por teclado."
   ]
  },
  {
   "cell_type": "code",
   "execution_count": null,
   "id": "e4547d91-3ab6-4074-8826-59027aa4107a",
   "metadata": {},
   "outputs": [],
   "source": []
  },
  {
   "cell_type": "markdown",
   "id": "5035af24-0177-4438-847c-3077b321ed77",
   "metadata": {},
   "source": [
    "Ejercicio 10: Pide una cadena y un carácter por teclado (valida que sea un carácter) \n",
    "y muestra cuantas veces aparece el carácter en la cadena."
   ]
  },
  {
   "cell_type": "code",
   "execution_count": null,
   "id": "07612a02-416d-46cb-944f-d00ee8ef5a63",
   "metadata": {},
   "outputs": [],
   "source": []
  },
  {
   "cell_type": "markdown",
   "id": "db7f895c-e0ff-42fd-8dce-775029ceccfc",
   "metadata": {},
   "source": [
    "Ejercicio 11: Realizar un programa que dada una cadena de caracteres por caracteres, genere \n",
    "otra cadena resultado de invertir la primera."
   ]
  },
  {
   "cell_type": "code",
   "execution_count": null,
   "id": "dd111986-d9dc-4442-b661-a03df09c8620",
   "metadata": {},
   "outputs": [],
   "source": []
  },
  {
   "cell_type": "markdown",
   "id": "7d579b69-fd9d-47ad-a88d-0ab7c75621b5",
   "metadata": {},
   "source": [
    "Ejercicio 12: Introducir una cadena de caracteres e indicar si es un palíndromo. Una palabra \n",
    " palíndroma es aquella que se lee igual adelante que atrás."
   ]
  },
  {
   "cell_type": "markdown",
   "id": "c22c55fb-49a1-4033-aaf4-eb403741b405",
   "metadata": {},
   "source": []
  },
  {
   "cell_type": "markdown",
   "id": "d52c38b8-fced-4172-87e2-9b8105e82567",
   "metadata": {},
   "source": [
    "# Funciones"
   ]
  },
  {
   "cell_type": "markdown",
   "id": "538c9d3a-7464-4de0-bf1b-e0031708a9fa",
   "metadata": {},
   "source": [
    "Ejercicio 13: Función EsMultiplo: Recibe dos número e indica si el primero el múltiplo del \n",
    "segundo. Para ello calculo el resto de la división, si es 0 es múltiplo.\n",
    "Parámetros de entrada: dos números\n",
    "Dato devuelto: múltiplo: Valor lógico verdadero si el primero es múltiplo \n",
    "del segundo, Falso en caso contrario."
   ]
  },
  {
   "cell_type": "code",
   "execution_count": null,
   "id": "55b7caa5-48d0-4aa2-8fa5-6ce029ff6b21",
   "metadata": {},
   "outputs": [],
   "source": []
  },
  {
   "cell_type": "markdown",
   "id": "89b20c72-9f45-4ba5-83d5-9e38405b1c2e",
   "metadata": {},
   "source": [
    "Continuación del ejercicio 13: Crea un programa que pida dos número enteros al usuario y diga si alguno de ellos \n",
    "es múltiplo del otro. Crea una función EsMultiplo que reciba los dos números, \n",
    "y devuelve si el primero es múltiplo del segundo."
   ]
  },
  {
   "cell_type": "markdown",
   "id": "77b2f931-473d-45bc-8f24-72a5175848a0",
   "metadata": {},
   "source": [
    "Ejercicio 14: Función calcularTemperaturaMedia: Recibe dos números reales que representan \n",
    "dos temperaturas y devuelve la temperatura media.\n",
    "Parámetros de entrada: dos temperaturas (real)\n",
    "Dato devuelto: La temperatura media (real)"
   ]
  },
  {
   "cell_type": "code",
   "execution_count": null,
   "id": "97c96eb0-dd15-475b-b8fa-e6fdf5279d97",
   "metadata": {},
   "outputs": [],
   "source": []
  },
  {
   "cell_type": "markdown",
   "id": "d2d6ea19-e381-4bed-a11e-03b5f1fce7ed",
   "metadata": {},
   "source": [
    "Ejercicio 15:  Crear una función que calcule la temperatura media de un día a partir de la \n",
    " temperatura máxima y mínima. Crear un programa principal, que utilizando la \n",
    " función anterior, vaya pidiendo la temperatura máxima y mínima de cada día \n",
    " y vaya mostrando la media. El programa pedirá el número de días que se van \n",
    " a introducir."
   ]
  },
  {
   "cell_type": "code",
   "execution_count": null,
   "id": "3afdea94-0c86-4c8e-bd7f-0040cbefcca8",
   "metadata": {},
   "outputs": [],
   "source": []
  }
 ],
 "metadata": {
  "kernelspec": {
   "display_name": "Python 3 (ipykernel)",
   "language": "python",
   "name": "python3"
  },
  "language_info": {
   "codemirror_mode": {
    "name": "ipython",
    "version": 3
   },
   "file_extension": ".py",
   "mimetype": "text/x-python",
   "name": "python",
   "nbconvert_exporter": "python",
   "pygments_lexer": "ipython3",
   "version": "3.12.9"
  }
 },
 "nbformat": 4,
 "nbformat_minor": 5
}
