{
 "cells": [
  {
   "cell_type": "markdown",
   "id": "9cda85f1-d1c7-4b2e-b917-4c10bc301470",
   "metadata": {},
   "source": [
    "# 📚 Guía Completa: Parámetros de K-Folds en Scikit-Learn"
   ]
  },
  {
   "cell_type": "markdown",
   "id": "f98c38ca-c8b5-443d-982d-bb5b56e6bc56",
   "metadata": {},
   "source": [
    "## 📖 Introducción\n",
    "K-Folds Cross-Validation es una técnica fundamental para evaluar modelos de machine learning. Entender sus parámetros es crucial para una implementación correcta."
   ]
  },
  {
   "cell_type": "markdown",
   "id": "31fafca2-e44f-4b0f-a2cb-deb06caa8199",
   "metadata": {},
   "source": [
    "## 🔧 Parámetros Principales de `KFold`"
   ]
  },
  {
   "cell_type": "markdown",
   "id": "59b081ce-e644-42d4-9d13-2081ba92c47b",
   "metadata": {},
   "source": [
    "### 1. `n_splits` - Número de Divisiones\n",
    "```python\n",
    "# Ejemplo básico\n",
    "from sklearn.model_selection import KFold\n",
    "kf = KFold(n_splits=5)"
   ]
  },
  {
   "cell_type": "markdown",
   "id": "3c4eab8e-f8ee-4158-8b21-b4ff45b7d5f3",
   "metadata": {},
   "source": [
    "El conjunto de datos test no siempre son los mismos en cada iteración se toma un conjunto test diferente\n",
    "Cada pliegue se utiliza una vez como conjunto de validación, mientras que los $K-1$ restantes forman el conjunto de entrenamiento."
   ]
  },
  {
   "cell_type": "markdown",
   "id": "1dd7f364-ca36-42e3-a656-d6b634ee2209",
   "metadata": {},
   "source": [
    "# Valores comúnmente usados\n",
    "```python\n",
    "kf_5 = KFold(n_splits=5)    # 80% train, 20% test por iteración \\\n",
    "kf_10 = KFold(n_splits=10)  # 90% train, 10% test por iteración"
   ]
  },
  {
   "cell_type": "markdown",
   "id": "57c418f5-1ee3-432f-9524-0e329a5fb4dc",
   "metadata": {},
   "source": [
    "-Fold Cross Validation es una técnica de remuestreo utilizada para evaluar modelos de aprendizaje automático en un conjunto de datos limitado. Su propósito es garantizar que la evaluación del modelo no dependa de una única división aleatoria o un conjunto de prueba específico, lo que reduce el sesgo y la varianza en la estimación de rendimiento del modelo.El valor de $K$ (n_splits) es un hiperparámetro crucial:Un $K$ más pequeño (e.g., $K=3$) significa que hay más datos para entrenamiento en cada iteración, pero menos iteraciones y una estimación menos robusta.Un $K$ más grande (e.g., $K=10$ o $K=20$) proporciona una estimación de rendimiento más detallada y menos sesgada, pero es computacionalmente más costoso. $K=5$ o $K=10$ son valores comunes."
   ]
  },
  {
   "cell_type": "code",
   "execution_count": null,
   "id": "67cf0f17-9589-45cf-9203-49297137ea12",
   "metadata": {},
   "outputs": [],
   "source": []
  }
 ],
 "metadata": {
  "kernelspec": {
   "display_name": "Python 3 (ipykernel)",
   "language": "python",
   "name": "python3"
  },
  "language_info": {
   "codemirror_mode": {
    "name": "ipython",
    "version": 3
   },
   "file_extension": ".py",
   "mimetype": "text/x-python",
   "name": "python",
   "nbconvert_exporter": "python",
   "pygments_lexer": "ipython3",
   "version": "3.12.9"
  }
 },
 "nbformat": 4,
 "nbformat_minor": 5
}
