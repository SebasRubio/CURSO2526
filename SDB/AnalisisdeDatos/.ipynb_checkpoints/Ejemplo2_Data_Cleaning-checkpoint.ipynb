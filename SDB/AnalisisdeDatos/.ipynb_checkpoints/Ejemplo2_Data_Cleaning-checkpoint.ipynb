{
 "cells": [
  {
   "cell_type": "markdown",
   "metadata": {
    "id": "MjLgnjlpipDl"
   },
   "source": [
    "# Data Science Nivel 1: Análisis de Datos con Python"
   ]
  },
  {
   "cell_type": "markdown",
   "metadata": {
    "id": "1urTwh8RhH8A"
   },
   "source": [
    "Ejercicio creado por:* **V. D. Betancourt**"
   ]
  },
  {
   "cell_type": "markdown",
   "metadata": {
    "id": "vtKJbWeCipDn"
   },
   "source": [
    "## Capítulo 4. Análisis de Datos"
   ]
  },
  {
   "cell_type": "markdown",
   "metadata": {
    "id": "Fc6a2H5fjcQx"
   },
   "source": [
    "### Notebook. Data Cleaning\n",
    "El proceso de limpieza de datos implica identificar y corregir errores o inconsistencias en los datos,\n",
    "como valores faltantes,duplicados, o incorrectos. El objetivo es asegurar que los datos sean precisos\n",
    "y coherentes antes de realizar el análisis"
   ]
  },
  {
   "cell_type": "markdown",
   "metadata": {
    "id": "jFMIOKgBNWfe"
   },
   "source": [
    "#### Importar"
   ]
  },
  {
   "cell_type": "code",
   "execution_count": null,
   "metadata": {
    "id": "PWJBrD6ZNY01"
   },
   "outputs": [],
   "source": [
    "# Importar Bibliotecas\n",
    "import pandas as pd\n"
   ]
  },
  {
   "cell_type": "markdown",
   "metadata": {
    "id": "wxNb_qCrMkz2"
   },
   "source": [
    "#### Carga de Datos desde GitHub"
   ]
  },
  {
   "cell_type": "code",
   "execution_count": null,
   "metadata": {
    "id": "8yLKrUJAMt_c"
   },
   "outputs": [],
   "source": [
    "# Cargar dataset de Titanic\n",
    "import pandas as pd\n",
    "\n",
    "url = \"https://raw.githubusercontent.com/datasciencedojo/datasets/master/titanic.csv\"\n",
    "titanic = pd.read_csv(url, sep=',')\n"
   ]
  },
  {
   "cell_type": "markdown",
   "metadata": {
    "id": "zuSkWhgyMuN1"
   },
   "source": [
    "El dataset **Titanic** contiene los siguientes campos:\n",
    "\n",
    "* **`PassengerId`** (Identificación del Pasajero): Un número único asignado a cada pasajero.\n",
    "\n",
    "* **`Survived`** (Sobrevivió): Indica si el pasajero sobrevivió (**`1`**) o no (**`0`**).\n",
    "\n",
    "* **`Pclass`** (Clase de Pasaje): La clase del billete del pasajero, indicando un nivel socioeconómico. 1 representa primera clase, 2 segunda clase y 3 tercera clase.\n",
    "\n",
    "* **`Name`** (Nombre): El nombre del pasajero.\n",
    "\n",
    "* **`Sex`** (Sexo): El género del pasajero.\n",
    "\n",
    "* **`Age`** (Edad): La edad del pasajero.\n",
    "\n",
    "* **`SibSp`** (Hermanos/Esposas a bordo): El número total de hermanos, hermanas y esposas/esposos del pasajero a bordo.\n",
    "\n",
    "* **`Parch`** (Padres/Hijos a bordo): El número total de padres e hijos del pasajero a bordo.\n",
    "\n",
    "* **`Ticket`** (Número de Ticket): El número de ticket del pasajero.\n",
    "\n",
    "* **`Fare`** (Tarifa): El precio del billete.\n",
    "\n",
    "* **`Cabin`** (Cabina): El número de cabina.\n",
    "\n",
    "* **`Embarked`** (Puerto de Embarque): El puerto donde el pasajero se embarcó. **`C`** = Cherbourg, **`Q`** = Queenstown, **`S`** = Southampton."
   ]
  },
  {
   "cell_type": "markdown",
   "metadata": {
    "id": "93U0Gp0eGZq8"
   },
   "source": [
    "#### Guardar Respaldo"
   ]
  },
  {
   "cell_type": "markdown",
   "metadata": {
    "id": "kejtjV7bGy77"
   },
   "source": [
    "Hacemos una copia del DataFrame original para tener un backup."
   ]
  },
  {
   "cell_type": "code",
   "execution_count": null,
   "metadata": {
    "id": "3RKlXfJgGb-D"
   },
   "outputs": [],
   "source": [
    "# Guardar respaldo\n",
    "titanic_backup = titanic.copy()\n"
   ]
  },
  {
   "cell_type": "markdown",
   "metadata": {
    "id": "l6xnbjmFMudp"
   },
   "source": [
    "#### Vista Preliminar de los Datos"
   ]
  },
  {
   "cell_type": "code",
   "execution_count": null,
   "metadata": {
    "colab": {
     "base_uri": "https://localhost:8080/"
    },
    "id": "uPGKp9AjBkWI",
    "outputId": "20fbb6a9-53e3-40f9-b7cb-b90ea1e02951"
   },
   "outputs": [
    {
     "name": "stdout",
     "output_type": "stream",
     "text": [
      "   PassengerId  Survived  Pclass  \\\n",
      "0            1         0       3   \n",
      "1            2         1       1   \n",
      "2            3         1       3   \n",
      "3            4         1       1   \n",
      "4            5         0       3   \n",
      "\n",
      "                                                Name     Sex   Age  SibSp  \\\n",
      "0                            Braund, Mr. Owen Harris    male  22.0      1   \n",
      "1  Cumings, Mrs. John Bradley (Florence Briggs Th...  female  38.0      1   \n",
      "2                             Heikkinen, Miss. Laina  female  26.0      0   \n",
      "3       Futrelle, Mrs. Jacques Heath (Lily May Peel)  female  35.0      1   \n",
      "4                           Allen, Mr. William Henry    male  35.0      0   \n",
      "\n",
      "   Parch            Ticket     Fare Cabin Embarked  \n",
      "0      0         A/5 21171   7.2500   NaN        S  \n",
      "1      0          PC 17599  71.2833   C85        C  \n",
      "2      0  STON/O2. 3101282   7.9250   NaN        S  \n",
      "3      0            113803  53.1000  C123        S  \n",
      "4      0            373450   8.0500   NaN        S  \n"
     ]
    }
   ],
   "source": [
    "# Visualizamos las primeras filas del dataset para entender su estructura\n",
    "print(titanic.head())"
   ]
  },
  {
   "cell_type": "markdown",
   "metadata": {
    "id": "ZVNYL5TxB6AC"
   },
   "source": [
    "#### Identificación de Valores Faltantes (Missing Values)"
   ]
  },
  {
   "cell_type": "markdown",
   "metadata": {
    "id": "R2MLfwLLnWGd"
   },
   "source": [
    "En este código, se usa el método **`isnull()`** para crear un DataFrame de valores booleanos, donde **`True`** indica un *valor faltante* y **`False`** indica un *valor presente*.\n",
    "\n",
    "Luego, el método **`sum()`** se aplica a este DataFrame booleano para contar cuántos valores **`True`** (faltantes) hay en cada columna."
   ]
  },
  {
   "cell_type": "code",
   "execution_count": null,
   "metadata": {
    "colab": {
     "base_uri": "https://localhost:8080/"
    },
    "id": "7ViSc6mGB-qg",
    "outputId": "e7b78c05-f847-4fb8-f39e-091effdf5b31"
   },
   "outputs": [
    {
     "name": "stdout",
     "output_type": "stream",
     "text": [
      "Valores faltantes antes de la limpieza:\n",
      "\n",
      "PassengerId      0\n",
      "Survived         0\n",
      "Pclass           0\n",
      "Name             0\n",
      "Sex              0\n",
      "Age            177\n",
      "SibSp            0\n",
      "Parch            0\n",
      "Ticket           0\n",
      "Fare             0\n",
      "Cabin          687\n",
      "Embarked         2\n",
      "dtype: int64\n"
     ]
    }
   ],
   "source": [
    "# Identificamos los valores faltantes\n",
    "print(\"Valores faltantes antes de la limpieza:\\n\")\n",
    "print(titanic.isnull().sum())\n"
   ]
  },
  {
   "cell_type": "markdown",
   "metadata": {
    "id": "xcc-9TNIZuGA"
   },
   "source": [
    "Otra manera de darse cuenta que existen valores faltantes es con **`info()`**. El conteo de los valores no nulos (**`Non-Null`**) debería ser igual para todas las columnas cuando no hay valores faltantes. En este caso, todas las columnas tienen **`891`** valores **`Non-Null`**, excepto **`Age`**, **`Cabin`**, y **`Embarked`**, lo cual implica que estas 3 columnas tienen valores faltantes."
   ]
  },
  {
   "cell_type": "code",
   "execution_count": null,
   "metadata": {
    "colab": {
     "base_uri": "https://localhost:8080/"
    },
    "id": "Diq3Sb2QZG8h",
    "outputId": "1e8d9942-aefd-4362-8677-2225bb09ad50"
   },
   "outputs": [
    {
     "name": "stdout",
     "output_type": "stream",
     "text": [
      "<class 'pandas.core.frame.DataFrame'>\n",
      "RangeIndex: 891 entries, 0 to 890\n",
      "Data columns (total 12 columns):\n",
      " #   Column       Non-Null Count  Dtype  \n",
      "---  ------       --------------  -----  \n",
      " 0   PassengerId  891 non-null    int64  \n",
      " 1   Survived     891 non-null    int64  \n",
      " 2   Pclass       891 non-null    int64  \n",
      " 3   Name         891 non-null    object \n",
      " 4   Sex          891 non-null    object \n",
      " 5   Age          714 non-null    float64\n",
      " 6   SibSp        891 non-null    int64  \n",
      " 7   Parch        891 non-null    int64  \n",
      " 8   Ticket       891 non-null    object \n",
      " 9   Fare         891 non-null    float64\n",
      " 10  Cabin        204 non-null    object \n",
      " 11  Embarked     889 non-null    object \n",
      "dtypes: float64(2), int64(5), object(5)\n",
      "memory usage: 83.7+ KB\n",
      "None\n"
     ]
    }
   ],
   "source": [
    "# Con info() también se ven los valores faltantes\n",
    "print(titanic.info())\n"
   ]
  },
  {
   "cell_type": "markdown",
   "metadata": {
    "id": "6vPgCEzYCGgD"
   },
   "source": [
    "#### Tratamiento de Valores Faltantes"
   ]
  },
  {
   "cell_type": "markdown",
   "metadata": {
    "id": "CniQ6LYMESYB"
   },
   "source": [
    "##### Age: Rellenar con Mediana"
   ]
  },
  {
   "cell_type": "code",
   "execution_count": null,
   "metadata": {
    "colab": {
     "base_uri": "https://localhost:8080/"
    },
    "id": "hxzMr7mFEJmz",
    "outputId": "532382d7-25cb-4b9e-c076-d99ae8607f42"
   },
   "outputs": [
    {
     "name": "stdout",
     "output_type": "stream",
     "text": [
      "Valores faltantes en 'Age' antes de rellenar: 177\n"
     ]
    }
   ],
   "source": [
    "# Valores faltantes en 'Age'\n",
    "print(\"Valores faltantes en 'Age' antes de rellenar:\", titanic['Age'].isnull().sum())\n"
   ]
  },
  {
   "cell_type": "code",
   "execution_count": null,
   "metadata": {
    "id": "3u1qbPkbCLUK"
   },
   "outputs": [],
   "source": [
    "# Rellenamos los valores faltantes en 'Age' con la mediana de la columna\n",
    "titanic['Age'].fillna(titanic['Age'].median(), inplace=True)\n"
   ]
  },
  {
   "cell_type": "code",
   "execution_count": null,
   "metadata": {
    "colab": {
     "base_uri": "https://localhost:8080/"
    },
    "id": "xXK3YHIuERWT",
    "outputId": "613dd081-007b-4793-a28d-ea68cad84fd7"
   },
   "outputs": [
    {
     "name": "stdout",
     "output_type": "stream",
     "text": [
      "Valores faltantes en 'Age' después de rellenar: 0\n"
     ]
    }
   ],
   "source": [
    "# Valores faltantes después de rellenar 'Age'\n",
    "print(\"Valores faltantes en 'Age' después de rellenar:\", titanic['Age'].isnull().sum())\n"
   ]
  },
  {
   "cell_type": "markdown",
   "metadata": {
    "id": "gxNb5LDrEY96"
   },
   "source": [
    "##### Embarked: Rellenar con Moda"
   ]
  },
  {
   "cell_type": "code",
   "execution_count": null,
   "metadata": {
    "colab": {
     "base_uri": "https://localhost:8080/"
    },
    "id": "azkbjAz-KMfl",
    "outputId": "1e3ff500-92a9-4514-f64d-be962397ee1b"
   },
   "outputs": [
    {
     "name": "stdout",
     "output_type": "stream",
     "text": [
      "Valores faltantes en 'Embarked' antes de rellenar: 2\n"
     ]
    }
   ],
   "source": [
    "# Valores faltantes en 'Embarked'\n",
    "print(\"Valores faltantes en 'Embarked' antes de rellenar:\", titanic['Embarked'].isnull().sum())\n"
   ]
  },
  {
   "cell_type": "code",
   "execution_count": null,
   "metadata": {
    "id": "CIOaJ21dCT7l"
   },
   "outputs": [],
   "source": [
    "# Para 'Embarked', dado que es categórica y tiene pocos valores faltantes, los rellenamos con la moda\n",
    "titanic['Embarked'].fillna(titanic['Embarked'].mode()[0], inplace=True)\n"
   ]
  },
  {
   "cell_type": "code",
   "execution_count": null,
   "metadata": {
    "colab": {
     "base_uri": "https://localhost:8080/"
    },
    "id": "aRNIT-8BKNFt",
    "outputId": "804ebc6d-9aeb-4606-e13b-788409aadf14"
   },
   "outputs": [
    {
     "name": "stdout",
     "output_type": "stream",
     "text": [
      "Valores faltantes en 'Embarked' después de rellenar: 0\n"
     ]
    }
   ],
   "source": [
    "# Valores faltantes después de rellenar 'Embarked'\n",
    "print(\"Valores faltantes en 'Embarked' después de rellenar:\", titanic['Embarked'].isnull().sum())\n"
   ]
  },
  {
   "cell_type": "markdown",
   "metadata": {
    "id": "CthbQau8EV54"
   },
   "source": [
    "##### Cabin: Eliminar"
   ]
  },
  {
   "cell_type": "code",
   "execution_count": null,
   "metadata": {
    "colab": {
     "base_uri": "https://localhost:8080/"
    },
    "id": "LM525ZvrEyik",
    "outputId": "398f1157-1b36-4767-a181-b2591d054ba6"
   },
   "outputs": [
    {
     "name": "stdout",
     "output_type": "stream",
     "text": [
      "Valores faltantes en 'Cabin': 687\n"
     ]
    }
   ],
   "source": [
    "# Valores faltantes en 'Cabin'\n",
    "print(\"Valores faltantes en 'Cabin':\", titanic['Cabin'].isnull().sum())\n"
   ]
  },
  {
   "cell_type": "code",
   "execution_count": null,
   "metadata": {
    "id": "6c8ePA8ECPRi"
   },
   "outputs": [],
   "source": [
    "# Eliminamos la columna 'Cabin'\n",
    "# por tener muchos valores faltantes\n",
    "titanic.drop('Cabin', axis=1, inplace=True)\n"
   ]
  },
  {
   "cell_type": "code",
   "execution_count": null,
   "metadata": {
    "colab": {
     "base_uri": "https://localhost:8080/"
    },
    "id": "N9MMFf_sFhYQ",
    "outputId": "794e7933-6d9b-4955-f267-80ba9cc307a2"
   },
   "outputs": [
    {
     "name": "stdout",
     "output_type": "stream",
     "text": [
      "Columnas en el DataFrame después de eliminar 'Cabin':\n",
      "Index(['PassengerId', 'Survived', 'Pclass', 'Name', 'Sex', 'Age', 'SibSp',\n",
      "       'Parch', 'Ticket', 'Fare', 'Embarked'],\n",
      "      dtype='object')\n"
     ]
    }
   ],
   "source": [
    "# Verificamos que la columna 'Cabin' haya sido eliminada\n",
    "print(\"Columnas en el DataFrame después de eliminar 'Cabin':\")\n",
    "print(titanic.columns)\n"
   ]
  },
  {
   "cell_type": "markdown",
   "metadata": {
    "id": "_3y8ru8ICaGy"
   },
   "source": [
    "#### Eliminación de Columnas"
   ]
  },
  {
   "cell_type": "markdown",
   "metadata": {
    "id": "-GaX55h7Eg2I"
   },
   "source": [
    "##### Ticket y Name"
   ]
  },
  {
   "cell_type": "code",
   "execution_count": null,
   "metadata": {
    "id": "BAg7voC8Cc8w"
   },
   "outputs": [],
   "source": [
    "# Supongamos que 'Ticket' y 'Name' no son necesarios para nuestro análisis\n",
    "titanic.drop(['Ticket', 'Name'], axis=1, inplace=True)\n"
   ]
  },
  {
   "cell_type": "code",
   "execution_count": null,
   "metadata": {
    "colab": {
     "base_uri": "https://localhost:8080/"
    },
    "id": "i8SbWRmdKf0O",
    "outputId": "0b406e37-a529-4551-f41e-91d0f8231b3a"
   },
   "outputs": [
    {
     "name": "stdout",
     "output_type": "stream",
     "text": [
      "Columnas en el DataFrame después de eliminar 'Ticket' y 'Name':\n",
      "\n",
      "Index(['PassengerId', 'Survived', 'Pclass', 'Sex', 'Age', 'SibSp', 'Parch',\n",
      "       'Fare', 'Embarked'],\n",
      "      dtype='object')\n"
     ]
    }
   ],
   "source": [
    "# Verificamos las columnas\n",
    "print(\"Columnas en el DataFrame después de eliminar 'Ticket' y 'Name':\\n\")\n",
    "print(titanic.columns)\n"
   ]
  },
  {
   "cell_type": "markdown",
   "metadata": {
    "id": "1drSGQkJCfg2"
   },
   "source": [
    "#### Corrección de Tipos de Datos"
   ]
  },
  {
   "cell_type": "code",
   "execution_count": null,
   "metadata": {
    "colab": {
     "base_uri": "https://localhost:8080/"
    },
    "id": "EK71xl4mMBNu",
    "outputId": "aef885e6-d63b-4d1a-a6b8-db2f40ab9dba"
   },
   "outputs": [
    {
     "name": "stdout",
     "output_type": "stream",
     "text": [
      "Tipos de datos antes de los cambios:\n",
      "Fare      float64\n",
      "Pclass      int64\n",
      "dtype: object\n"
     ]
    }
   ],
   "source": [
    "# Antes de cambiar los tipos de datos\n",
    "print(\"Tipos de datos antes de los cambios:\")\n",
    "print(titanic[['Fare', 'Pclass']].dtypes)\n"
   ]
  },
  {
   "cell_type": "markdown",
   "metadata": {
    "id": "h_2UoZlpEkM-"
   },
   "source": [
    "##### Fare"
   ]
  },
  {
   "cell_type": "code",
   "execution_count": null,
   "metadata": {
    "id": "2HUigGCKCiS9"
   },
   "outputs": [],
   "source": [
    "# Convertir 'Fare' a tipo float (si no lo fuera)\n",
    "titanic['Fare'] = titanic['Fare'].astype(float)\n"
   ]
  },
  {
   "cell_type": "markdown",
   "metadata": {
    "id": "-dutEBlSEmU1"
   },
   "source": [
    "##### Pclass"
   ]
  },
  {
   "cell_type": "code",
   "execution_count": null,
   "metadata": {
    "id": "0A5ZN6L4CmfC"
   },
   "outputs": [],
   "source": [
    "# Convertimos 'Pclass' a tipo 'category' porque representa categorías\n",
    "titanic['Pclass'] = titanic['Pclass'].astype('category')\n"
   ]
  },
  {
   "cell_type": "code",
   "execution_count": null,
   "metadata": {
    "colab": {
     "base_uri": "https://localhost:8080/"
    },
    "id": "R2m5vus2MGA8",
    "outputId": "e5cd1ae0-40a7-4535-bc7e-0e408fb6a7dc"
   },
   "outputs": [
    {
     "name": "stdout",
     "output_type": "stream",
     "text": [
      "\n",
      "Tipos de datos después de los cambios:\n",
      "Fare       float64\n",
      "Pclass    category\n",
      "dtype: object\n"
     ]
    }
   ],
   "source": [
    "# Después de cambiar los tipos de datos\n",
    "print(\"\\nTipos de datos después de los cambios:\")\n",
    "print(titanic[['Fare', 'Pclass']].dtypes)\n"
   ]
  },
  {
   "cell_type": "markdown",
   "metadata": {
    "id": "e72FIeqkEpth"
   },
   "source": [
    "##### Ver Cambios"
   ]
  },
  {
   "cell_type": "code",
   "execution_count": null,
   "metadata": {
    "colab": {
     "base_uri": "https://localhost:8080/"
    },
    "id": "gChmAdY_BiH8",
    "outputId": "845fbd34-c354-4d33-e107-508ce4d72d88"
   },
   "outputs": [
    {
     "name": "stdout",
     "output_type": "stream",
     "text": [
      "<class 'pandas.core.frame.DataFrame'>\n",
      "RangeIndex: 891 entries, 0 to 890\n",
      "Data columns (total 9 columns):\n",
      " #   Column       Non-Null Count  Dtype   \n",
      "---  ------       --------------  -----   \n",
      " 0   PassengerId  891 non-null    int64   \n",
      " 1   Survived     891 non-null    int64   \n",
      " 2   Pclass       891 non-null    category\n",
      " 3   Sex          891 non-null    object  \n",
      " 4   Age          891 non-null    float64 \n",
      " 5   SibSp        891 non-null    int64   \n",
      " 6   Parch        891 non-null    int64   \n",
      " 7   Fare         891 non-null    float64 \n",
      " 8   Embarked     891 non-null    object  \n",
      "dtypes: category(1), float64(2), int64(4), object(2)\n",
      "memory usage: 56.8+ KB\n",
      "None\n"
     ]
    }
   ],
   "source": [
    "# Verificamos los cambios realizados\n",
    "print(titanic.info())\n"
   ]
  }
 ],
 "metadata": {
  "colab": {
   "provenance": [],
   "toc_visible": true
  },
  "kernelspec": {
   "display_name": "Python 3 (ipykernel)",
   "language": "python",
   "name": "python3"
  },
  "language_info": {
   "codemirror_mode": {
    "name": "ipython",
    "version": 3
   },
   "file_extension": ".py",
   "mimetype": "text/x-python",
   "name": "python",
   "nbconvert_exporter": "python",
   "pygments_lexer": "ipython3",
   "version": "3.12.9"
  }
 },
 "nbformat": 4,
 "nbformat_minor": 4
}
