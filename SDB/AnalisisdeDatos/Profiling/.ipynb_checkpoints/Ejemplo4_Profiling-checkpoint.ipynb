{
 "cells": [
  {
   "cell_type": "markdown",
   "metadata": {
    "id": "MjLgnjlpipDl"
   },
   "source": [
    "# Data Science Nivel 1: Análisis de Datos con Python"
   ]
  },
  {
   "cell_type": "markdown",
   "metadata": {
    "id": "1urTwh8RhH8A"
   },
   "source": [
    "Creado por:\n",
    "\n",
    "* **V. D. Betancourt**"
   ]
  },
  {
   "cell_type": "markdown",
   "metadata": {
    "id": "vtKJbWeCipDn"
   },
   "source": [
    "## Capítulo 4. Análisis de Datos"
   ]
  },
  {
   "cell_type": "markdown",
   "metadata": {
    "id": "Fc6a2H5fjcQx"
   },
   "source": [
    "### Notebook. Profiling\n",
    "Nos facilita capturar patrones,detectar outliers y encontrar otros errores"
   ]
  },
  {
   "cell_type": "markdown",
   "metadata": {
    "id": "jFMIOKgBNWfe"
   },
   "source": [
    "#### Instalación"
   ]
  },
  {
   "cell_type": "code",
   "execution_count": 1,
   "metadata": {
    "colab": {
     "base_uri": "https://localhost:8080/"
    },
    "id": "qJpo6aTWRv11",
    "outputId": "9a89367d-51e9-4d30-f167-e13e9c494bd8"
   },
   "outputs": [
    {
     "name": "stdout",
     "output_type": "stream",
     "text": [
      "Collecting dtale\n",
      "  Downloading dtale-3.18.2-py2.py3-none-any.whl.metadata (16 kB)\n",
      "Collecting lz4 (from dtale)\n",
      "  Downloading lz4-4.4.4-cp312-cp312-win_amd64.whl.metadata (3.9 kB)\n",
      "Requirement already satisfied: beautifulsoup4!=4.13.0b2 in c:\\users\\euler\\.conda\\envs\\cursomachinelearning\\lib\\site-packages (from dtale) (4.12.3)\n",
      "Requirement already satisfied: certifi in c:\\users\\euler\\.conda\\envs\\cursomachinelearning\\lib\\site-packages (from dtale) (2025.1.31)\n",
      "Requirement already satisfied: cycler in c:\\users\\euler\\.conda\\envs\\cursomachinelearning\\lib\\site-packages (from dtale) (0.12.1)\n",
      "Collecting dash<=2.18.2 (from dtale)\n",
      "  Downloading dash-2.18.2-py3-none-any.whl.metadata (10 kB)\n",
      "Collecting dash-bootstrap-components<=1.7.1 (from dtale)\n",
      "  Downloading dash_bootstrap_components-1.7.1-py3-none-any.whl.metadata (17 kB)\n",
      "Collecting dash_daq<=0.5.0 (from dtale)\n",
      "  Downloading dash_daq-0.5.0.tar.gz (642 kB)\n",
      "     ---------------------------------------- 0.0/642.7 kB ? eta -:--:--\n",
      "     ------------------------------------- 642.7/642.7 kB 12.3 MB/s eta 0:00:00\n",
      "  Preparing metadata (setup.py): started\n",
      "  Preparing metadata (setup.py): finished with status 'done'\n",
      "Collecting et_xmlfile (from dtale)\n",
      "  Downloading et_xmlfile-2.0.0-py3-none-any.whl.metadata (2.7 kB)\n",
      "Collecting Flask (from dtale)\n",
      "  Downloading flask-3.1.2-py3-none-any.whl.metadata (3.2 kB)\n",
      "Collecting Flask-Compress (from dtale)\n",
      "  Downloading flask_compress-1.18-py3-none-any.whl.metadata (9.2 kB)\n",
      "Collecting future>=0.14.0 (from dtale)\n",
      "  Downloading future-1.0.0-py3-none-any.whl.metadata (4.0 kB)\n",
      "Collecting itsdangerous (from dtale)\n",
      "  Downloading itsdangerous-2.2.0-py3-none-any.whl.metadata (1.9 kB)\n",
      "Collecting kaleido (from dtale)\n",
      "  Downloading kaleido-1.1.0-py3-none-any.whl.metadata (5.6 kB)\n",
      "Requirement already satisfied: matplotlib in c:\\users\\euler\\.conda\\envs\\cursomachinelearning\\lib\\site-packages (from dtale) (3.10.3)\n",
      "Collecting missingno (from dtale)\n",
      "  Downloading missingno-0.5.2-py3-none-any.whl.metadata (639 bytes)\n",
      "Collecting networkx (from dtale)\n",
      "  Downloading networkx-3.5-py3-none-any.whl.metadata (6.3 kB)\n",
      "Requirement already satisfied: numpy in c:\\users\\euler\\.conda\\envs\\cursomachinelearning\\lib\\site-packages (from dtale) (2.2.3)\n",
      "Collecting openpyxl!=3.2.0b1 (from dtale)\n",
      "  Downloading openpyxl-3.1.5-py2.py3-none-any.whl.metadata (2.5 kB)\n",
      "Requirement already satisfied: packaging in c:\\users\\euler\\.conda\\envs\\cursomachinelearning\\lib\\site-packages (from dtale) (24.2)\n",
      "Requirement already satisfied: pandas in c:\\users\\euler\\.conda\\envs\\cursomachinelearning\\lib\\site-packages (from dtale) (2.2.3)\n",
      "Collecting pkginfo (from dtale)\n",
      "  Downloading pkginfo-1.12.1.2-py3-none-any.whl.metadata (13 kB)\n",
      "Collecting plotly (from dtale)\n",
      "  Downloading plotly-6.3.1-py3-none-any.whl.metadata (8.5 kB)\n",
      "Requirement already satisfied: requests in c:\\users\\euler\\.conda\\envs\\cursomachinelearning\\lib\\site-packages (from dtale) (2.32.3)\n",
      "Requirement already satisfied: scikit-learn in c:\\users\\euler\\.conda\\envs\\cursomachinelearning\\lib\\site-packages (from dtale) (1.7.0)\n",
      "Collecting scipy!=1.12.0rc1,!=1.14.0,!=1.14.0rc1,!=1.14.0rc2,<1.16.0 (from dtale)\n",
      "  Downloading scipy-1.15.3-cp312-cp312-win_amd64.whl.metadata (60 kB)\n",
      "Requirement already satisfied: seaborn in c:\\users\\euler\\.conda\\envs\\cursomachinelearning\\lib\\site-packages (from dtale) (0.13.2)\n",
      "Collecting squarify (from dtale)\n",
      "  Downloading squarify-0.4.4-py3-none-any.whl.metadata (600 bytes)\n",
      "Collecting statsmodels (from dtale)\n",
      "  Downloading statsmodels-0.14.5-cp312-cp312-win_amd64.whl.metadata (9.8 kB)\n",
      "Collecting strsimpy (from dtale)\n",
      "  Downloading strsimpy-0.2.1-py3-none-any.whl.metadata (20 kB)\n",
      "Requirement already satisfied: six in c:\\users\\euler\\.conda\\envs\\cursomachinelearning\\lib\\site-packages (from dtale) (1.16.0)\n",
      "Collecting werkzeug (from dtale)\n",
      "  Using cached werkzeug-3.1.3-py3-none-any.whl.metadata (3.7 kB)\n",
      "Collecting xarray (from dtale)\n",
      "  Downloading xarray-2025.10.1-py3-none-any.whl.metadata (12 kB)\n",
      "Collecting xlrd (from dtale)\n",
      "  Downloading xlrd-2.0.2-py2.py3-none-any.whl.metadata (3.5 kB)\n",
      "Requirement already satisfied: soupsieve>1.2 in c:\\users\\euler\\.conda\\envs\\cursomachinelearning\\lib\\site-packages (from beautifulsoup4!=4.13.0b2->dtale) (2.5)\n",
      "Collecting Flask (from dtale)\n",
      "  Downloading flask-3.0.3-py3-none-any.whl.metadata (3.2 kB)\n",
      "Collecting werkzeug (from dtale)\n",
      "  Downloading werkzeug-3.0.6-py3-none-any.whl.metadata (3.7 kB)\n",
      "Collecting dash-html-components==2.0.0 (from dash<=2.18.2->dtale)\n",
      "  Downloading dash_html_components-2.0.0-py3-none-any.whl.metadata (3.8 kB)\n",
      "Collecting dash-core-components==2.0.0 (from dash<=2.18.2->dtale)\n",
      "  Downloading dash_core_components-2.0.0-py3-none-any.whl.metadata (2.9 kB)\n",
      "Collecting dash-table==5.0.0 (from dash<=2.18.2->dtale)\n",
      "  Downloading dash_table-5.0.0-py3-none-any.whl.metadata (2.4 kB)\n",
      "Collecting importlib-metadata (from dash<=2.18.2->dtale)\n",
      "  Downloading importlib_metadata-8.7.0-py3-none-any.whl.metadata (4.8 kB)\n",
      "Requirement already satisfied: typing-extensions>=4.1.1 in c:\\users\\euler\\.conda\\envs\\cursomachinelearning\\lib\\site-packages (from dash<=2.18.2->dtale) (4.12.2)\n",
      "Collecting retrying (from dash<=2.18.2->dtale)\n",
      "  Downloading retrying-1.4.2-py3-none-any.whl.metadata (5.5 kB)\n",
      "Requirement already satisfied: nest-asyncio in c:\\users\\euler\\.conda\\envs\\cursomachinelearning\\lib\\site-packages (from dash<=2.18.2->dtale) (1.6.0)\n",
      "Requirement already satisfied: setuptools in c:\\users\\euler\\.conda\\envs\\cursomachinelearning\\lib\\site-packages (from dash<=2.18.2->dtale) (75.8.0)\n",
      "Requirement already satisfied: Jinja2>=3.1.2 in c:\\users\\euler\\.conda\\envs\\cursomachinelearning\\lib\\site-packages (from Flask->dtale) (3.1.5)\n",
      "Collecting click>=8.1.3 (from Flask->dtale)\n",
      "  Downloading click-8.3.0-py3-none-any.whl.metadata (2.6 kB)\n",
      "Collecting blinker>=1.6.2 (from Flask->dtale)\n",
      "  Downloading blinker-1.9.0-py3-none-any.whl.metadata (1.6 kB)\n",
      "Collecting narwhals>=1.15.1 (from plotly->dtale)\n",
      "  Downloading narwhals-2.7.0-py3-none-any.whl.metadata (11 kB)\n",
      "Requirement already satisfied: MarkupSafe>=2.1.1 in c:\\users\\euler\\.conda\\envs\\cursomachinelearning\\lib\\site-packages (from werkzeug->dtale) (3.0.2)\n",
      "Requirement already satisfied: brotli in c:\\users\\euler\\.conda\\envs\\cursomachinelearning\\lib\\site-packages (from Flask-Compress->dtale) (1.0.9)\n",
      "Collecting pyzstd (from Flask-Compress->dtale)\n",
      "  Downloading pyzstd-0.18.0-cp312-cp312-win_amd64.whl.metadata (2.6 kB)\n",
      "Collecting choreographer>=1.0.10 (from kaleido->dtale)\n",
      "  Downloading choreographer-1.1.2-py3-none-any.whl.metadata (6.7 kB)\n",
      "Collecting logistro>=1.0.8 (from kaleido->dtale)\n",
      "  Downloading logistro-1.1.0-py3-none-any.whl.metadata (2.6 kB)\n",
      "Collecting orjson>=3.10.15 (from kaleido->dtale)\n",
      "  Downloading orjson-3.11.3-cp312-cp312-win_amd64.whl.metadata (43 kB)\n",
      "Collecting pytest-timeout>=2.4.0 (from kaleido->dtale)\n",
      "  Downloading pytest_timeout-2.4.0-py3-none-any.whl.metadata (20 kB)\n",
      "Requirement already satisfied: contourpy>=1.0.1 in c:\\users\\euler\\.conda\\envs\\cursomachinelearning\\lib\\site-packages (from matplotlib->dtale) (1.3.2)\n",
      "Requirement already satisfied: fonttools>=4.22.0 in c:\\users\\euler\\.conda\\envs\\cursomachinelearning\\lib\\site-packages (from matplotlib->dtale) (4.59.0)\n",
      "Requirement already satisfied: kiwisolver>=1.3.1 in c:\\users\\euler\\.conda\\envs\\cursomachinelearning\\lib\\site-packages (from matplotlib->dtale) (1.4.8)\n",
      "Requirement already satisfied: pillow>=8 in c:\\users\\euler\\.conda\\envs\\cursomachinelearning\\lib\\site-packages (from matplotlib->dtale) (11.3.0)\n",
      "Requirement already satisfied: pyparsing>=2.3.1 in c:\\users\\euler\\.conda\\envs\\cursomachinelearning\\lib\\site-packages (from matplotlib->dtale) (3.2.3)\n",
      "Requirement already satisfied: python-dateutil>=2.7 in c:\\users\\euler\\.conda\\envs\\cursomachinelearning\\lib\\site-packages (from matplotlib->dtale) (2.9.0.post0)\n",
      "Requirement already satisfied: pytz>=2020.1 in c:\\users\\euler\\.conda\\envs\\cursomachinelearning\\lib\\site-packages (from pandas->dtale) (2025.1)\n",
      "Requirement already satisfied: tzdata>=2022.7 in c:\\users\\euler\\.conda\\envs\\cursomachinelearning\\lib\\site-packages (from pandas->dtale) (2025.1)\n",
      "Requirement already satisfied: charset-normalizer<4,>=2 in c:\\users\\euler\\.conda\\envs\\cursomachinelearning\\lib\\site-packages (from requests->dtale) (3.3.2)\n",
      "Requirement already satisfied: idna<4,>=2.5 in c:\\users\\euler\\.conda\\envs\\cursomachinelearning\\lib\\site-packages (from requests->dtale) (3.7)\n",
      "Requirement already satisfied: urllib3<3,>=1.21.1 in c:\\users\\euler\\.conda\\envs\\cursomachinelearning\\lib\\site-packages (from requests->dtale) (2.3.0)\n",
      "Requirement already satisfied: joblib>=1.2.0 in c:\\users\\euler\\.conda\\envs\\cursomachinelearning\\lib\\site-packages (from scikit-learn->dtale) (1.5.1)\n",
      "Requirement already satisfied: threadpoolctl>=3.1.0 in c:\\users\\euler\\.conda\\envs\\cursomachinelearning\\lib\\site-packages (from scikit-learn->dtale) (3.6.0)\n",
      "Collecting patsy>=0.5.6 (from statsmodels->dtale)\n",
      "  Downloading patsy-1.0.1-py2.py3-none-any.whl.metadata (3.3 kB)\n",
      "Collecting simplejson>=3.19.3 (from choreographer>=1.0.10->kaleido->dtale)\n",
      "  Downloading simplejson-3.20.2-cp312-cp312-win_amd64.whl.metadata (3.4 kB)\n",
      "Requirement already satisfied: colorama in c:\\users\\euler\\.conda\\envs\\cursomachinelearning\\lib\\site-packages (from click>=8.1.3->Flask->dtale) (0.4.6)\n",
      "Collecting pytest>=7.0.0 (from pytest-timeout>=2.4.0->kaleido->dtale)\n",
      "  Downloading pytest-8.4.2-py3-none-any.whl.metadata (7.7 kB)\n",
      "Collecting zipp>=3.20 (from importlib-metadata->dash<=2.18.2->dtale)\n",
      "  Downloading zipp-3.23.0-py3-none-any.whl.metadata (3.6 kB)\n",
      "Collecting typing-extensions>=4.1.1 (from dash<=2.18.2->dtale)\n",
      "  Downloading typing_extensions-4.15.0-py3-none-any.whl.metadata (3.3 kB)\n",
      "Collecting iniconfig>=1 (from pytest>=7.0.0->pytest-timeout>=2.4.0->kaleido->dtale)\n",
      "  Downloading iniconfig-2.1.0-py3-none-any.whl.metadata (2.7 kB)\n",
      "Collecting pluggy<2,>=1.5 (from pytest>=7.0.0->pytest-timeout>=2.4.0->kaleido->dtale)\n",
      "  Downloading pluggy-1.6.0-py3-none-any.whl.metadata (4.8 kB)\n",
      "Requirement already satisfied: pygments>=2.7.2 in c:\\users\\euler\\.conda\\envs\\cursomachinelearning\\lib\\site-packages (from pytest>=7.0.0->pytest-timeout>=2.4.0->kaleido->dtale) (2.15.1)\n",
      "Downloading dtale-3.18.2-py2.py3-none-any.whl (17.6 MB)\n",
      "   ---------------------------------------- 0.0/17.6 MB ? eta -:--:--\n",
      "   ---- ----------------------------------- 2.1/17.6 MB 13.0 MB/s eta 0:00:02\n",
      "   --------- ------------------------------ 4.2/17.6 MB 10.5 MB/s eta 0:00:02\n",
      "   ------------- -------------------------- 5.8/17.6 MB 9.3 MB/s eta 0:00:02\n",
      "   ----------------- ---------------------- 7.9/17.6 MB 9.4 MB/s eta 0:00:02\n",
      "   --------------------- ------------------ 9.4/17.6 MB 9.5 MB/s eta 0:00:01\n",
      "   -------------------------- ------------- 11.5/17.6 MB 9.6 MB/s eta 0:00:01\n",
      "   ------------------------------ --------- 13.6/17.6 MB 9.5 MB/s eta 0:00:01\n",
      "   ----------------------------------- ---- 15.7/17.6 MB 9.6 MB/s eta 0:00:01\n",
      "   ---------------------------------------- 17.6/17.6 MB 9.7 MB/s eta 0:00:00\n",
      "Downloading dash-2.18.2-py3-none-any.whl (7.8 MB)\n",
      "   ---------------------------------------- 0.0/7.8 MB ? eta -:--:--\n",
      "   ------------------------------ --------- 6.0/7.8 MB 33.5 MB/s eta 0:00:01\n",
      "   ---------------------------------------- 7.8/7.8 MB 28.3 MB/s eta 0:00:00\n",
      "Downloading dash_core_components-2.0.0-py3-none-any.whl (3.8 kB)\n",
      "Downloading dash_html_components-2.0.0-py3-none-any.whl (4.1 kB)\n",
      "Downloading dash_table-5.0.0-py3-none-any.whl (3.9 kB)\n",
      "Downloading dash_bootstrap_components-1.7.1-py3-none-any.whl (229 kB)\n",
      "Downloading flask-3.0.3-py3-none-any.whl (101 kB)\n",
      "Downloading future-1.0.0-py3-none-any.whl (491 kB)\n",
      "Downloading itsdangerous-2.2.0-py3-none-any.whl (16 kB)\n",
      "Downloading openpyxl-3.1.5-py2.py3-none-any.whl (250 kB)\n",
      "Downloading plotly-6.3.1-py3-none-any.whl (9.8 MB)\n",
      "   ---------------------------------------- 0.0/9.8 MB ? eta -:--:--\n",
      "   ----------------- ---------------------- 4.2/9.8 MB 21.0 MB/s eta 0:00:01\n",
      "   --------------------------- ------------ 6.8/9.8 MB 16.8 MB/s eta 0:00:01\n",
      "   ------------------------------ --------- 7.6/9.8 MB 16.2 MB/s eta 0:00:01\n",
      "   ------------------------------- -------- 7.9/9.8 MB 10.1 MB/s eta 0:00:01\n",
      "   ---------------------------------------- 9.8/9.8 MB 9.3 MB/s eta 0:00:00\n",
      "Downloading scipy-1.15.3-cp312-cp312-win_amd64.whl (41.0 MB)\n",
      "   ---------------------------------------- 0.0/41.0 MB ? eta -:--:--\n",
      "    --------------------------------------- 0.8/41.0 MB 3.4 MB/s eta 0:00:12\n",
      "   - -------------------------------------- 1.8/41.0 MB 4.8 MB/s eta 0:00:09\n",
      "   -- ------------------------------------- 2.4/41.0 MB 3.7 MB/s eta 0:00:11\n",
      "   --- ------------------------------------ 3.9/41.0 MB 4.7 MB/s eta 0:00:08\n",
      "   ------ --------------------------------- 6.8/41.0 MB 6.6 MB/s eta 0:00:06\n",
      "   -------- ------------------------------- 9.2/41.0 MB 7.5 MB/s eta 0:00:05\n",
      "   ------------ --------------------------- 12.3/41.0 MB 8.6 MB/s eta 0:00:04\n",
      "   --------------- ------------------------ 15.5/41.0 MB 9.4 MB/s eta 0:00:03\n",
      "   ----------------- ---------------------- 18.4/41.0 MB 10.0 MB/s eta 0:00:03\n",
      "   --------------------- ------------------ 22.3/41.0 MB 10.8 MB/s eta 0:00:02\n",
      "   ------------------------- -------------- 25.7/41.0 MB 11.3 MB/s eta 0:00:02\n",
      "   ---------------------------- ----------- 29.4/41.0 MB 11.8 MB/s eta 0:00:01\n",
      "   ------------------------------- -------- 32.5/41.0 MB 12.1 MB/s eta 0:00:01\n",
      "   ----------------------------------- ---- 36.4/41.0 MB 12.6 MB/s eta 0:00:01\n",
      "   -------------------------------------- - 39.6/41.0 MB 12.7 MB/s eta 0:00:01\n",
      "   ---------------------------------------- 41.0/41.0 MB 12.5 MB/s eta 0:00:00\n",
      "Downloading werkzeug-3.0.6-py3-none-any.whl (227 kB)\n",
      "Downloading et_xmlfile-2.0.0-py3-none-any.whl (18 kB)\n",
      "Downloading flask_compress-1.18-py3-none-any.whl (9.3 kB)\n",
      "Downloading kaleido-1.1.0-py3-none-any.whl (66 kB)\n",
      "Downloading lz4-4.4.4-cp312-cp312-win_amd64.whl (99 kB)\n",
      "Downloading missingno-0.5.2-py3-none-any.whl (8.7 kB)\n",
      "Downloading networkx-3.5-py3-none-any.whl (2.0 MB)\n",
      "   ---------------------------------------- 0.0/2.0 MB ? eta -:--:--\n",
      "   ---------------------------------------- 2.0/2.0 MB 14.2 MB/s eta 0:00:00\n",
      "Downloading pkginfo-1.12.1.2-py3-none-any.whl (32 kB)\n",
      "Downloading squarify-0.4.4-py3-none-any.whl (4.1 kB)\n",
      "Downloading statsmodels-0.14.5-cp312-cp312-win_amd64.whl (9.6 MB)\n",
      "   ---------------------------------------- 0.0/9.6 MB ? eta -:--:--\n",
      "   ------------ --------------------------- 2.9/9.6 MB 15.2 MB/s eta 0:00:01\n",
      "   ---------------- ----------------------- 3.9/9.6 MB 11.8 MB/s eta 0:00:01\n",
      "   ------------------- -------------------- 4.7/9.6 MB 8.6 MB/s eta 0:00:01\n",
      "   ------------------------ --------------- 5.8/9.6 MB 6.8 MB/s eta 0:00:01\n",
      "   -------------------------------- ------- 7.9/9.6 MB 7.5 MB/s eta 0:00:01\n",
      "   ---------------------------------------- 9.6/9.6 MB 7.6 MB/s eta 0:00:00\n",
      "Downloading strsimpy-0.2.1-py3-none-any.whl (45 kB)\n",
      "Downloading xarray-2025.10.1-py3-none-any.whl (1.4 MB)\n",
      "   ---------------------------------------- 0.0/1.4 MB ? eta -:--:--\n",
      "   ---------------------------------------- 1.4/1.4 MB 11.7 MB/s eta 0:00:00\n",
      "Downloading xlrd-2.0.2-py2.py3-none-any.whl (96 kB)\n",
      "Downloading blinker-1.9.0-py3-none-any.whl (8.5 kB)\n",
      "Downloading choreographer-1.1.2-py3-none-any.whl (53 kB)\n",
      "Downloading click-8.3.0-py3-none-any.whl (107 kB)\n",
      "Downloading logistro-1.1.0-py3-none-any.whl (7.9 kB)\n",
      "Downloading narwhals-2.7.0-py3-none-any.whl (412 kB)\n",
      "Downloading orjson-3.11.3-cp312-cp312-win_amd64.whl (131 kB)\n",
      "Downloading patsy-1.0.1-py2.py3-none-any.whl (232 kB)\n",
      "Downloading pytest_timeout-2.4.0-py3-none-any.whl (14 kB)\n",
      "Downloading importlib_metadata-8.7.0-py3-none-any.whl (27 kB)\n",
      "Downloading pyzstd-0.18.0-cp312-cp312-win_amd64.whl (249 kB)\n",
      "Downloading typing_extensions-4.15.0-py3-none-any.whl (44 kB)\n",
      "Downloading retrying-1.4.2-py3-none-any.whl (10 kB)\n",
      "Downloading pytest-8.4.2-py3-none-any.whl (365 kB)\n",
      "Downloading simplejson-3.20.2-cp312-cp312-win_amd64.whl (75 kB)\n",
      "Downloading zipp-3.23.0-py3-none-any.whl (10 kB)\n",
      "Downloading iniconfig-2.1.0-py3-none-any.whl (6.0 kB)\n",
      "Downloading pluggy-1.6.0-py3-none-any.whl (20 kB)\n",
      "Building wheels for collected packages: dash_daq\n",
      "  Building wheel for dash_daq (setup.py): started\n",
      "  Building wheel for dash_daq (setup.py): finished with status 'done'\n",
      "  Created wheel for dash_daq: filename=dash_daq-0.5.0-py3-none-any.whl size=669766 sha256=36abb784e858218d53177227feec6431a80231899f856f72f41df9269ddfa9e3\n",
      "  Stored in directory: c:\\users\\euler\\appdata\\local\\pip\\cache\\wheels\\40\\89\\1a\\4435006b003f97da22dbcad819d26f957dad9d54a1678876fd\n",
      "Successfully built dash_daq\n",
      "Installing collected packages: strsimpy, squarify, dash-table, dash-html-components, dash-core-components, zipp, xlrd, werkzeug, typing-extensions, simplejson, scipy, retrying, pluggy, pkginfo, patsy, orjson, networkx, narwhals, lz4, logistro, itsdangerous, iniconfig, future, et_xmlfile, click, blinker, pyzstd, pytest, plotly, openpyxl, importlib-metadata, Flask, choreographer, xarray, statsmodels, pytest-timeout, Flask-Compress, dash, missingno, kaleido, dash_daq, dash-bootstrap-components, dtale\n",
      "  Attempting uninstall: typing-extensions\n",
      "    Found existing installation: typing_extensions 4.12.2\n",
      "    Uninstalling typing_extensions-4.12.2:\n",
      "      Successfully uninstalled typing_extensions-4.12.2\n",
      "  Attempting uninstall: scipy\n",
      "    Found existing installation: scipy 1.16.0\n",
      "    Uninstalling scipy-1.16.0:\n",
      "      Successfully uninstalled scipy-1.16.0\n",
      "Successfully installed Flask-3.0.3 Flask-Compress-1.18 blinker-1.9.0 choreographer-1.1.2 click-8.3.0 dash-2.18.2 dash-bootstrap-components-1.7.1 dash-core-components-2.0.0 dash-html-components-2.0.0 dash-table-5.0.0 dash_daq-0.5.0 dtale-3.18.2 et_xmlfile-2.0.0 future-1.0.0 importlib-metadata-8.7.0 iniconfig-2.1.0 itsdangerous-2.2.0 kaleido-1.1.0 logistro-1.1.0 lz4-4.4.4 missingno-0.5.2 narwhals-2.7.0 networkx-3.5 openpyxl-3.1.5 orjson-3.11.3 patsy-1.0.1 pkginfo-1.12.1.2 plotly-6.3.1 pluggy-1.6.0 pytest-8.4.2 pytest-timeout-2.4.0 pyzstd-0.18.0 retrying-1.4.2 scipy-1.15.3 simplejson-3.20.2 squarify-0.4.4 statsmodels-0.14.5 strsimpy-0.2.1 typing-extensions-4.15.0 werkzeug-3.0.6 xarray-2025.10.1 xlrd-2.0.2 zipp-3.23.0\n",
      "Collecting sweetviz\n",
      "  Downloading sweetviz-2.3.1-py3-none-any.whl.metadata (24 kB)\n",
      "Requirement already satisfied: pandas!=1.0.0,!=1.0.1,!=1.0.2,>=0.25.3 in c:\\users\\euler\\.conda\\envs\\cursomachinelearning\\lib\\site-packages (from sweetviz) (2.2.3)\n",
      "Requirement already satisfied: numpy>=1.16.0 in c:\\users\\euler\\.conda\\envs\\cursomachinelearning\\lib\\site-packages (from sweetviz) (2.2.3)\n",
      "Requirement already satisfied: matplotlib>=3.1.3 in c:\\users\\euler\\.conda\\envs\\cursomachinelearning\\lib\\site-packages (from sweetviz) (3.10.3)\n",
      "Collecting tqdm>=4.43.0 (from sweetviz)\n",
      "  Downloading tqdm-4.67.1-py3-none-any.whl.metadata (57 kB)\n",
      "Requirement already satisfied: scipy>=1.3.2 in c:\\users\\euler\\.conda\\envs\\cursomachinelearning\\lib\\site-packages (from sweetviz) (1.15.3)\n",
      "Requirement already satisfied: jinja2>=2.11.1 in c:\\users\\euler\\.conda\\envs\\cursomachinelearning\\lib\\site-packages (from sweetviz) (3.1.5)\n",
      "Collecting importlib-resources>=1.2.0 (from sweetviz)\n",
      "  Downloading importlib_resources-6.5.2-py3-none-any.whl.metadata (3.9 kB)\n",
      "Requirement already satisfied: MarkupSafe>=2.0 in c:\\users\\euler\\.conda\\envs\\cursomachinelearning\\lib\\site-packages (from jinja2>=2.11.1->sweetviz) (3.0.2)\n",
      "Requirement already satisfied: contourpy>=1.0.1 in c:\\users\\euler\\.conda\\envs\\cursomachinelearning\\lib\\site-packages (from matplotlib>=3.1.3->sweetviz) (1.3.2)\n",
      "Requirement already satisfied: cycler>=0.10 in c:\\users\\euler\\.conda\\envs\\cursomachinelearning\\lib\\site-packages (from matplotlib>=3.1.3->sweetviz) (0.12.1)\n",
      "Requirement already satisfied: fonttools>=4.22.0 in c:\\users\\euler\\.conda\\envs\\cursomachinelearning\\lib\\site-packages (from matplotlib>=3.1.3->sweetviz) (4.59.0)\n",
      "Requirement already satisfied: kiwisolver>=1.3.1 in c:\\users\\euler\\.conda\\envs\\cursomachinelearning\\lib\\site-packages (from matplotlib>=3.1.3->sweetviz) (1.4.8)\n",
      "Requirement already satisfied: packaging>=20.0 in c:\\users\\euler\\.conda\\envs\\cursomachinelearning\\lib\\site-packages (from matplotlib>=3.1.3->sweetviz) (24.2)\n",
      "Requirement already satisfied: pillow>=8 in c:\\users\\euler\\.conda\\envs\\cursomachinelearning\\lib\\site-packages (from matplotlib>=3.1.3->sweetviz) (11.3.0)\n",
      "Requirement already satisfied: pyparsing>=2.3.1 in c:\\users\\euler\\.conda\\envs\\cursomachinelearning\\lib\\site-packages (from matplotlib>=3.1.3->sweetviz) (3.2.3)\n",
      "Requirement already satisfied: python-dateutil>=2.7 in c:\\users\\euler\\.conda\\envs\\cursomachinelearning\\lib\\site-packages (from matplotlib>=3.1.3->sweetviz) (2.9.0.post0)\n",
      "Requirement already satisfied: pytz>=2020.1 in c:\\users\\euler\\.conda\\envs\\cursomachinelearning\\lib\\site-packages (from pandas!=1.0.0,!=1.0.1,!=1.0.2,>=0.25.3->sweetviz) (2025.1)\n",
      "Requirement already satisfied: tzdata>=2022.7 in c:\\users\\euler\\.conda\\envs\\cursomachinelearning\\lib\\site-packages (from pandas!=1.0.0,!=1.0.1,!=1.0.2,>=0.25.3->sweetviz) (2025.1)\n",
      "Requirement already satisfied: colorama in c:\\users\\euler\\.conda\\envs\\cursomachinelearning\\lib\\site-packages (from tqdm>=4.43.0->sweetviz) (0.4.6)\n",
      "Requirement already satisfied: six>=1.5 in c:\\users\\euler\\.conda\\envs\\cursomachinelearning\\lib\\site-packages (from python-dateutil>=2.7->matplotlib>=3.1.3->sweetviz) (1.16.0)\n",
      "Downloading sweetviz-2.3.1-py3-none-any.whl (15.1 MB)\n",
      "   ---------------------------------------- 0.0/15.1 MB ? eta -:--:--\n",
      "   ---------------------------------------- 0.0/15.1 MB ? eta -:--:--\n",
      "   ---------------------------------------- 0.0/15.1 MB ? eta -:--:--\n",
      "    --------------------------------------- 0.3/15.1 MB ? eta -:--:--\n",
      "    --------------------------------------- 0.3/15.1 MB ? eta -:--:--\n",
      "   - -------------------------------------- 0.5/15.1 MB 885.6 kB/s eta 0:00:17\n",
      "   -- ------------------------------------- 0.8/15.1 MB 838.9 kB/s eta 0:00:18\n",
      "   -- ------------------------------------- 0.8/15.1 MB 838.9 kB/s eta 0:00:18\n",
      "   -- ------------------------------------- 1.0/15.1 MB 868.0 kB/s eta 0:00:17\n",
      "   -- ------------------------------------- 1.0/15.1 MB 868.0 kB/s eta 0:00:17\n",
      "   --- ------------------------------------ 1.3/15.1 MB 729.7 kB/s eta 0:00:19\n",
      "   --- ------------------------------------ 1.3/15.1 MB 729.7 kB/s eta 0:00:19\n",
      "   --- ------------------------------------ 1.3/15.1 MB 729.7 kB/s eta 0:00:19\n",
      "   ---- ----------------------------------- 1.6/15.1 MB 635.7 kB/s eta 0:00:22\n",
      "   ---- ----------------------------------- 1.6/15.1 MB 635.7 kB/s eta 0:00:22\n",
      "   ---- ----------------------------------- 1.6/15.1 MB 635.7 kB/s eta 0:00:22\n",
      "   ---- ----------------------------------- 1.8/15.1 MB 602.9 kB/s eta 0:00:23\n",
      "   ---- ----------------------------------- 1.8/15.1 MB 602.9 kB/s eta 0:00:23\n",
      "   ----- ---------------------------------- 2.1/15.1 MB 584.4 kB/s eta 0:00:23\n",
      "   --------- ------------------------------ 3.4/15.1 MB 936.5 kB/s eta 0:00:13\n",
      "   ------------- -------------------------- 5.2/15.1 MB 1.4 MB/s eta 0:00:08\n",
      "   ------------------- -------------------- 7.3/15.1 MB 1.9 MB/s eta 0:00:05\n",
      "   ------------------------ --------------- 9.4/15.1 MB 2.3 MB/s eta 0:00:03\n",
      "   ------------------------------ --------- 11.5/15.1 MB 2.7 MB/s eta 0:00:02\n",
      "   ------------------------------------ --- 13.6/15.1 MB 3.0 MB/s eta 0:00:01\n",
      "   ---------------------------------------- 15.1/15.1 MB 3.2 MB/s eta 0:00:00\n",
      "Downloading importlib_resources-6.5.2-py3-none-any.whl (37 kB)\n",
      "Downloading tqdm-4.67.1-py3-none-any.whl (78 kB)\n",
      "Installing collected packages: tqdm, importlib-resources, sweetviz\n",
      "Successfully installed importlib-resources-6.5.2 sweetviz-2.3.1 tqdm-4.67.1\n"
     ]
    }
   ],
   "source": [
    "# Instalación de las librerías necesarias, no vienen instaladas en google colab\n",
    "!pip install dtale\n",
    "!pip install sweetviz\n"
   ]
  },
  {
   "cell_type": "code",
   "execution_count": 4,
   "metadata": {
    "id": "-MGJgK_XRkya"
   },
   "outputs": [],
   "source": [
    "# Importación de librerías\n",
    "import pandas as pd\n",
    "import dtale\n",
    "import sweetviz"
   ]
  },
  {
   "cell_type": "markdown",
   "metadata": {
    "id": "wxNb_qCrMkz2"
   },
   "source": [
    "#### Carga de Datos"
   ]
  },
  {
   "cell_type": "code",
   "execution_count": 5,
   "metadata": {
    "id": "8yLKrUJAMt_c"
   },
   "outputs": [],
   "source": [
    "# Cargar dataset\n",
    "import pandas as pd\n",
    "\n",
    "url = 'https://raw.githubusercontent.com/datasciencedojo/datasets/master/titanic.csv'\n",
    "df_titanic = pd.read_csv(url, sep=',')\n"
   ]
  },
  {
   "cell_type": "markdown",
   "metadata": {
    "id": "9fOaKHzjdLPt"
   },
   "source": [
    "#### D-Tale"
   ]
  },
  {
   "cell_type": "markdown",
   "metadata": {
    "id": "e_AvPyxPdnLx"
   },
   "source": [
    "##### Generar Reporte"
   ]
  },
  {
   "cell_type": "markdown",
   "metadata": {
    "id": "DGVbCQGCN694"
   },
   "source": [
    "El siguiente código proporcionará un enlace con el reporte de D-Tale. Puedes darle clic para visualizarlo, o copiar y pegar la url en otra ventana."
   ]
  },
  {
   "cell_type": "code",
   "execution_count": null,
   "metadata": {
    "colab": {
     "base_uri": "https://localhost:8080/"
    },
    "id": "ct-pJC_OdRJq",
    "outputId": "44e2b319-bd3b-4d04-fd0f-c16f48d18452"
   },
   "outputs": [],
   "source": [
    "# Inicialización de D-Tale\n",
    "d = dtale.show(df_titanic,browser=True)\n",
    "d\n",
    "#dtale.show(\n",
    "#    df_titanic, \n",
    "#    host='0.0.0.0', \n",
    "#    port=50000, \n",
    "#    subprocess=False, \n",
    "#    force=True\n",
    "#) \n",
    "#Si no se abre pon a mano en un navegador http://localhost:50000/"
   ]
  },
  {
   "cell_type": "markdown",
   "metadata": {
    "id": "moK-spjkdvCb"
   },
   "source": [
    "#### SweetViz"
   ]
  },
  {
   "cell_type": "markdown",
   "metadata": {
    "id": "66178K29dynK"
   },
   "source": [
    "##### Generar Reporte"
   ]
  },
  {
   "cell_type": "markdown",
   "metadata": {
    "id": "6N5xFX5RSzJn"
   },
   "source": [
    "Con el siguiente código, podrás generar el reporte SweetViz del DataFrame del Titanic."
   ]
  },
  {
   "cell_type": "code",
   "execution_count": null,
   "metadata": {
    "colab": {
     "base_uri": "https://localhost:8080/",
     "height": 49,
     "referenced_widgets": [
      "2e2280829c234dd785b9a9e96fd4eeb2",
      "51dd624366464c149a623654e5aae427",
      "575cc1d71e2948aca1c8542624846f84",
      "357be71ac17245f8baf51be82ef4c3de",
      "3df627e440d24a1c96d0c968814d4ef4",
      "6bac1b6e6e1a4a088df17362f05d0ba4",
      "6b2e95bd352a484eae5ac9e8108bb1ba",
      "e081c3bb232743848f39f2be593af2a1",
      "aa84fdb630ae4ff49391e68634aec35c",
      "c94515477ccf42ab995fb8daa73f665e",
      "b37961a0c155424bab2cabea80a2c626"
     ]
    },
    "id": "8L_-KCFHd6fl",
    "outputId": "3a3417e3-f23a-40c5-c2b9-75557d25782e"
   },
   "outputs": [
    {
     "data": {
      "application/vnd.jupyter.widget-view+json": {
       "model_id": "2e2280829c234dd785b9a9e96fd4eeb2",
       "version_major": 2,
       "version_minor": 0
      },
      "text/plain": [
       "                                             |          | [  0%]   00:00 -> (? left)"
      ]
     },
     "metadata": {},
     "output_type": "display_data"
    }
   ],
   "source": [
    "# Creación del reporte de análisis con Sweetviz\n",
    "reporte = sweetviz.analyze([df_titanic, \"Titanic\"])\n"
   ]
  },
  {
   "cell_type": "markdown",
   "metadata": {
    "id": "ghDcO_lvd8pw"
   },
   "source": [
    "##### Visualizar Archivo HTML"
   ]
  },
  {
   "cell_type": "code",
   "execution_count": null,
   "metadata": {
    "colab": {
     "base_uri": "https://localhost:8080/"
    },
    "id": "xlC9oXb7dxyn",
    "outputId": "28203a7c-0698-4bfd-da04-aa52ca314092"
   },
   "outputs": [
    {
     "name": "stdout",
     "output_type": "stream",
     "text": [
      "Report Reporte_Titanic.html was generated! NOTEBOOK/COLAB USERS: the web browser MAY not pop up, regardless, the report IS saved in your notebook/colab files.\n"
     ]
    }
   ],
   "source": [
    "# Generación de un archivo HTML con el reporte\n",
    "reporte.show_html('Reporte_Titanic.html')\n"
   ]
  },
  {
   "cell_type": "markdown",
   "metadata": {
    "id": "fdt3bFHrOR0i"
   },
   "source": [
    "Después de ejecutar el código, puedes ir al bloque de **Archivos** en el entorno de Colab, donde te aparecerá el reporte HTML con el nombre que hayas elegido, en este caso: **`Reporte_Titanic.html`**.\n",
    "\n",
    "Luego, posicionando el cursor sobre el nombre del reporte en Archivos, da clic en los 3 puntos y luego clic en **Descargar**. Guarda en tu computadora local. Y luego, abre el reporte HTML para comenzar a explorarlo."
   ]
  }
 ],
 "metadata": {
  "colab": {
   "provenance": [],
   "toc_visible": true
  },
  "kernelspec": {
   "display_name": "Python 3 (ipykernel)",
   "language": "python",
   "name": "python3"
  },
  "language_info": {
   "codemirror_mode": {
    "name": "ipython",
    "version": 3
   },
   "file_extension": ".py",
   "mimetype": "text/x-python",
   "name": "python",
   "nbconvert_exporter": "python",
   "pygments_lexer": "ipython3",
   "version": "3.12.9"
  },
  "widgets": {
   "application/vnd.jupyter.widget-state+json": {
    "2e2280829c234dd785b9a9e96fd4eeb2": {
     "model_module": "@jupyter-widgets/controls",
     "model_module_version": "1.5.0",
     "model_name": "HBoxModel",
     "state": {
      "_dom_classes": [],
      "_model_module": "@jupyter-widgets/controls",
      "_model_module_version": "1.5.0",
      "_model_name": "HBoxModel",
      "_view_count": null,
      "_view_module": "@jupyter-widgets/controls",
      "_view_module_version": "1.5.0",
      "_view_name": "HBoxView",
      "box_style": "",
      "children": [
       "IPY_MODEL_51dd624366464c149a623654e5aae427",
       "IPY_MODEL_575cc1d71e2948aca1c8542624846f84",
       "IPY_MODEL_357be71ac17245f8baf51be82ef4c3de"
      ],
      "layout": "IPY_MODEL_3df627e440d24a1c96d0c968814d4ef4"
     }
    },
    "357be71ac17245f8baf51be82ef4c3de": {
     "model_module": "@jupyter-widgets/controls",
     "model_module_version": "1.5.0",
     "model_name": "HTMLModel",
     "state": {
      "_dom_classes": [],
      "_model_module": "@jupyter-widgets/controls",
      "_model_module_version": "1.5.0",
      "_model_name": "HTMLModel",
      "_view_count": null,
      "_view_module": "@jupyter-widgets/controls",
      "_view_module_version": "1.5.0",
      "_view_name": "HTMLView",
      "description": "",
      "description_tooltip": null,
      "layout": "IPY_MODEL_c94515477ccf42ab995fb8daa73f665e",
      "placeholder": "​",
      "style": "IPY_MODEL_b37961a0c155424bab2cabea80a2c626",
      "value": " [100%]   00:00 -&gt; (00:00 left)"
     }
    },
    "3df627e440d24a1c96d0c968814d4ef4": {
     "model_module": "@jupyter-widgets/base",
     "model_module_version": "1.2.0",
     "model_name": "LayoutModel",
     "state": {
      "_model_module": "@jupyter-widgets/base",
      "_model_module_version": "1.2.0",
      "_model_name": "LayoutModel",
      "_view_count": null,
      "_view_module": "@jupyter-widgets/base",
      "_view_module_version": "1.2.0",
      "_view_name": "LayoutView",
      "align_content": null,
      "align_items": null,
      "align_self": null,
      "border": null,
      "bottom": null,
      "display": "inline-flex",
      "flex": null,
      "flex_flow": "row wrap",
      "grid_area": null,
      "grid_auto_columns": null,
      "grid_auto_flow": null,
      "grid_auto_rows": null,
      "grid_column": null,
      "grid_gap": null,
      "grid_row": null,
      "grid_template_areas": null,
      "grid_template_columns": null,
      "grid_template_rows": null,
      "height": null,
      "justify_content": null,
      "justify_items": null,
      "left": null,
      "margin": null,
      "max_height": null,
      "max_width": null,
      "min_height": null,
      "min_width": null,
      "object_fit": null,
      "object_position": null,
      "order": null,
      "overflow": null,
      "overflow_x": null,
      "overflow_y": null,
      "padding": null,
      "right": null,
      "top": null,
      "visibility": null,
      "width": "100%"
     }
    },
    "51dd624366464c149a623654e5aae427": {
     "model_module": "@jupyter-widgets/controls",
     "model_module_version": "1.5.0",
     "model_name": "HTMLModel",
     "state": {
      "_dom_classes": [],
      "_model_module": "@jupyter-widgets/controls",
      "_model_module_version": "1.5.0",
      "_model_name": "HTMLModel",
      "_view_count": null,
      "_view_module": "@jupyter-widgets/controls",
      "_view_module_version": "1.5.0",
      "_view_name": "HTMLView",
      "description": "",
      "description_tooltip": null,
      "layout": "IPY_MODEL_6bac1b6e6e1a4a088df17362f05d0ba4",
      "placeholder": "​",
      "style": "IPY_MODEL_6b2e95bd352a484eae5ac9e8108bb1ba",
      "value": "Done! Use &#x27;show&#x27; commands to display/save.   "
     }
    },
    "575cc1d71e2948aca1c8542624846f84": {
     "model_module": "@jupyter-widgets/controls",
     "model_module_version": "1.5.0",
     "model_name": "FloatProgressModel",
     "state": {
      "_dom_classes": [],
      "_model_module": "@jupyter-widgets/controls",
      "_model_module_version": "1.5.0",
      "_model_name": "FloatProgressModel",
      "_view_count": null,
      "_view_module": "@jupyter-widgets/controls",
      "_view_module_version": "1.5.0",
      "_view_name": "ProgressView",
      "bar_style": "success",
      "description": "",
      "description_tooltip": null,
      "layout": "IPY_MODEL_e081c3bb232743848f39f2be593af2a1",
      "max": 1,
      "min": 0,
      "orientation": "horizontal",
      "style": "IPY_MODEL_aa84fdb630ae4ff49391e68634aec35c",
      "value": 1
     }
    },
    "6b2e95bd352a484eae5ac9e8108bb1ba": {
     "model_module": "@jupyter-widgets/controls",
     "model_module_version": "1.5.0",
     "model_name": "DescriptionStyleModel",
     "state": {
      "_model_module": "@jupyter-widgets/controls",
      "_model_module_version": "1.5.0",
      "_model_name": "DescriptionStyleModel",
      "_view_count": null,
      "_view_module": "@jupyter-widgets/base",
      "_view_module_version": "1.2.0",
      "_view_name": "StyleView",
      "description_width": ""
     }
    },
    "6bac1b6e6e1a4a088df17362f05d0ba4": {
     "model_module": "@jupyter-widgets/base",
     "model_module_version": "1.2.0",
     "model_name": "LayoutModel",
     "state": {
      "_model_module": "@jupyter-widgets/base",
      "_model_module_version": "1.2.0",
      "_model_name": "LayoutModel",
      "_view_count": null,
      "_view_module": "@jupyter-widgets/base",
      "_view_module_version": "1.2.0",
      "_view_name": "LayoutView",
      "align_content": null,
      "align_items": null,
      "align_self": null,
      "border": null,
      "bottom": null,
      "display": null,
      "flex": null,
      "flex_flow": null,
      "grid_area": null,
      "grid_auto_columns": null,
      "grid_auto_flow": null,
      "grid_auto_rows": null,
      "grid_column": null,
      "grid_gap": null,
      "grid_row": null,
      "grid_template_areas": null,
      "grid_template_columns": null,
      "grid_template_rows": null,
      "height": null,
      "justify_content": null,
      "justify_items": null,
      "left": null,
      "margin": null,
      "max_height": null,
      "max_width": null,
      "min_height": null,
      "min_width": null,
      "object_fit": null,
      "object_position": null,
      "order": null,
      "overflow": null,
      "overflow_x": null,
      "overflow_y": null,
      "padding": null,
      "right": null,
      "top": null,
      "visibility": null,
      "width": null
     }
    },
    "aa84fdb630ae4ff49391e68634aec35c": {
     "model_module": "@jupyter-widgets/controls",
     "model_module_version": "1.5.0",
     "model_name": "ProgressStyleModel",
     "state": {
      "_model_module": "@jupyter-widgets/controls",
      "_model_module_version": "1.5.0",
      "_model_name": "ProgressStyleModel",
      "_view_count": null,
      "_view_module": "@jupyter-widgets/base",
      "_view_module_version": "1.2.0",
      "_view_name": "StyleView",
      "bar_color": null,
      "description_width": ""
     }
    },
    "b37961a0c155424bab2cabea80a2c626": {
     "model_module": "@jupyter-widgets/controls",
     "model_module_version": "1.5.0",
     "model_name": "DescriptionStyleModel",
     "state": {
      "_model_module": "@jupyter-widgets/controls",
      "_model_module_version": "1.5.0",
      "_model_name": "DescriptionStyleModel",
      "_view_count": null,
      "_view_module": "@jupyter-widgets/base",
      "_view_module_version": "1.2.0",
      "_view_name": "StyleView",
      "description_width": ""
     }
    },
    "c94515477ccf42ab995fb8daa73f665e": {
     "model_module": "@jupyter-widgets/base",
     "model_module_version": "1.2.0",
     "model_name": "LayoutModel",
     "state": {
      "_model_module": "@jupyter-widgets/base",
      "_model_module_version": "1.2.0",
      "_model_name": "LayoutModel",
      "_view_count": null,
      "_view_module": "@jupyter-widgets/base",
      "_view_module_version": "1.2.0",
      "_view_name": "LayoutView",
      "align_content": null,
      "align_items": null,
      "align_self": null,
      "border": null,
      "bottom": null,
      "display": null,
      "flex": null,
      "flex_flow": null,
      "grid_area": null,
      "grid_auto_columns": null,
      "grid_auto_flow": null,
      "grid_auto_rows": null,
      "grid_column": null,
      "grid_gap": null,
      "grid_row": null,
      "grid_template_areas": null,
      "grid_template_columns": null,
      "grid_template_rows": null,
      "height": null,
      "justify_content": null,
      "justify_items": null,
      "left": null,
      "margin": null,
      "max_height": null,
      "max_width": null,
      "min_height": null,
      "min_width": null,
      "object_fit": null,
      "object_position": null,
      "order": null,
      "overflow": null,
      "overflow_x": null,
      "overflow_y": null,
      "padding": null,
      "right": null,
      "top": null,
      "visibility": null,
      "width": null
     }
    },
    "e081c3bb232743848f39f2be593af2a1": {
     "model_module": "@jupyter-widgets/base",
     "model_module_version": "1.2.0",
     "model_name": "LayoutModel",
     "state": {
      "_model_module": "@jupyter-widgets/base",
      "_model_module_version": "1.2.0",
      "_model_name": "LayoutModel",
      "_view_count": null,
      "_view_module": "@jupyter-widgets/base",
      "_view_module_version": "1.2.0",
      "_view_name": "LayoutView",
      "align_content": null,
      "align_items": null,
      "align_self": null,
      "border": null,
      "bottom": null,
      "display": null,
      "flex": "2",
      "flex_flow": null,
      "grid_area": null,
      "grid_auto_columns": null,
      "grid_auto_flow": null,
      "grid_auto_rows": null,
      "grid_column": null,
      "grid_gap": null,
      "grid_row": null,
      "grid_template_areas": null,
      "grid_template_columns": null,
      "grid_template_rows": null,
      "height": null,
      "justify_content": null,
      "justify_items": null,
      "left": null,
      "margin": null,
      "max_height": null,
      "max_width": null,
      "min_height": null,
      "min_width": null,
      "object_fit": null,
      "object_position": null,
      "order": null,
      "overflow": null,
      "overflow_x": null,
      "overflow_y": null,
      "padding": null,
      "right": null,
      "top": null,
      "visibility": null,
      "width": null
     }
    }
   }
  }
 },
 "nbformat": 4,
 "nbformat_minor": 4
}
