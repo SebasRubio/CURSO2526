{
 "cells": [
  {
   "cell_type": "markdown",
   "metadata": {
    "id": "MjLgnjlpipDl"
   },
   "source": [
    "# Data Science Nivel 1: Análisis de Datos con Python"
   ]
  },
  {
   "cell_type": "markdown",
   "metadata": {
    "id": "1urTwh8RhH8A"
   },
   "source": [
    "Ejemplo creado por:* **V. D. Betancourt**"
   ]
  },
  {
   "cell_type": "markdown",
   "metadata": {
    "id": "vtKJbWeCipDn"
   },
   "source": [
    "## Capítulo 4. Análisis de Datos\n",
    "La transformación o manipulación de datos, puede incluir cambiar el formato de los datos,combinar datos de diferentes\n",
    "fuentes, o modificarlos de forma que sean más útiles para su análisis"
   ]
  },
  {
   "cell_type": "markdown",
   "metadata": {
    "id": "Fc6a2H5fjcQx"
   },
   "source": [
    "### Notebook. Data Wrangling"
   ]
  },
  {
   "cell_type": "markdown",
   "metadata": {
    "id": "jFMIOKgBNWfe"
   },
   "source": [
    "#### Importar"
   ]
  },
  {
   "cell_type": "code",
   "execution_count": null,
   "metadata": {
    "id": "PWJBrD6ZNY01"
   },
   "outputs": [],
   "source": [
    "# Importar Bibliotecas\n",
    "import pandas as pd\n",
    "import numpy as np\n"
   ]
  },
  {
   "cell_type": "markdown",
   "metadata": {
    "id": "wxNb_qCrMkz2"
   },
   "source": [
    "#### Carga de Datos desde GitHub"
   ]
  },
  {
   "cell_type": "code",
   "execution_count": null,
   "metadata": {
    "id": "8yLKrUJAMt_c"
   },
   "outputs": [],
   "source": [
    "# Cargar dataset\n",
    "import pandas as pd\n",
    "\n",
    "url = 'https://archive.ics.uci.edu/ml/machine-learning-databases/wine-quality/winequality-red.csv'\n",
    "df_vino = pd.read_csv(url, sep=';')\n"
   ]
  },
  {
   "cell_type": "code",
   "execution_count": null,
   "metadata": {
    "colab": {
     "base_uri": "https://localhost:8080/",
     "height": 241
    },
    "id": "i6eiFvncfWBj",
    "outputId": "8c63ca45-64aa-4690-a7ad-824b8d49dda3"
   },
   "outputs": [
    {
     "data": {
      "application/vnd.google.colaboratory.intrinsic+json": {
       "summary": "{\n  \"name\": \"df_vino\",\n  \"rows\": 1599,\n  \"fields\": [\n    {\n      \"column\": \"fixed acidity\",\n      \"properties\": {\n        \"dtype\": \"number\",\n        \"std\": 1.7410963181276953,\n        \"min\": 4.6,\n        \"max\": 15.9,\n        \"num_unique_values\": 96,\n        \"samples\": [\n          5.3,\n          12.7,\n          12.6\n        ],\n        \"semantic_type\": \"\",\n        \"description\": \"\"\n      }\n    },\n    {\n      \"column\": \"volatile acidity\",\n      \"properties\": {\n        \"dtype\": \"number\",\n        \"std\": 0.17905970415353537,\n        \"min\": 0.12,\n        \"max\": 1.58,\n        \"num_unique_values\": 143,\n        \"samples\": [\n          1.025,\n          0.4,\n          0.87\n        ],\n        \"semantic_type\": \"\",\n        \"description\": \"\"\n      }\n    },\n    {\n      \"column\": \"citric acid\",\n      \"properties\": {\n        \"dtype\": \"number\",\n        \"std\": 0.19480113740531857,\n        \"min\": 0.0,\n        \"max\": 1.0,\n        \"num_unique_values\": 80,\n        \"samples\": [\n          0.37,\n          0.0,\n          0.09\n        ],\n        \"semantic_type\": \"\",\n        \"description\": \"\"\n      }\n    },\n    {\n      \"column\": \"residual sugar\",\n      \"properties\": {\n        \"dtype\": \"number\",\n        \"std\": 1.4099280595072798,\n        \"min\": 0.9,\n        \"max\": 15.5,\n        \"num_unique_values\": 91,\n        \"samples\": [\n          11.0,\n          3.0,\n          15.5\n        ],\n        \"semantic_type\": \"\",\n        \"description\": \"\"\n      }\n    },\n    {\n      \"column\": \"chlorides\",\n      \"properties\": {\n        \"dtype\": \"number\",\n        \"std\": 0.0470653020100901,\n        \"min\": 0.012,\n        \"max\": 0.611,\n        \"num_unique_values\": 153,\n        \"samples\": [\n          0.096,\n          0.343,\n          0.159\n        ],\n        \"semantic_type\": \"\",\n        \"description\": \"\"\n      }\n    },\n    {\n      \"column\": \"free sulfur dioxide\",\n      \"properties\": {\n        \"dtype\": \"number\",\n        \"std\": 10.460156969809725,\n        \"min\": 1.0,\n        \"max\": 72.0,\n        \"num_unique_values\": 60,\n        \"samples\": [\n          11.0,\n          9.0,\n          32.0\n        ],\n        \"semantic_type\": \"\",\n        \"description\": \"\"\n      }\n    },\n    {\n      \"column\": \"total sulfur dioxide\",\n      \"properties\": {\n        \"dtype\": \"number\",\n        \"std\": 32.895324478299074,\n        \"min\": 6.0,\n        \"max\": 289.0,\n        \"num_unique_values\": 144,\n        \"samples\": [\n          68.0,\n          35.0,\n          101.0\n        ],\n        \"semantic_type\": \"\",\n        \"description\": \"\"\n      }\n    },\n    {\n      \"column\": \"density\",\n      \"properties\": {\n        \"dtype\": \"number\",\n        \"std\": 0.0018873339538425554,\n        \"min\": 0.99007,\n        \"max\": 1.00369,\n        \"num_unique_values\": 436,\n        \"samples\": [\n          0.99974,\n          1.0001,\n          0.99471\n        ],\n        \"semantic_type\": \"\",\n        \"description\": \"\"\n      }\n    },\n    {\n      \"column\": \"pH\",\n      \"properties\": {\n        \"dtype\": \"number\",\n        \"std\": 0.15438646490354277,\n        \"min\": 2.74,\n        \"max\": 4.01,\n        \"num_unique_values\": 89,\n        \"samples\": [\n          3.07,\n          3.0,\n          3.15\n        ],\n        \"semantic_type\": \"\",\n        \"description\": \"\"\n      }\n    },\n    {\n      \"column\": \"sulphates\",\n      \"properties\": {\n        \"dtype\": \"number\",\n        \"std\": 0.16950697959010996,\n        \"min\": 0.33,\n        \"max\": 2.0,\n        \"num_unique_values\": 96,\n        \"samples\": [\n          1.07,\n          1.04,\n          1.18\n        ],\n        \"semantic_type\": \"\",\n        \"description\": \"\"\n      }\n    },\n    {\n      \"column\": \"alcohol\",\n      \"properties\": {\n        \"dtype\": \"number\",\n        \"std\": 1.0656675818473946,\n        \"min\": 8.4,\n        \"max\": 14.9,\n        \"num_unique_values\": 65,\n        \"samples\": [\n          8.5,\n          9.95,\n          9.4\n        ],\n        \"semantic_type\": \"\",\n        \"description\": \"\"\n      }\n    },\n    {\n      \"column\": \"quality\",\n      \"properties\": {\n        \"dtype\": \"number\",\n        \"std\": 0,\n        \"min\": 3,\n        \"max\": 8,\n        \"num_unique_values\": 6,\n        \"samples\": [\n          5,\n          6,\n          3\n        ],\n        \"semantic_type\": \"\",\n        \"description\": \"\"\n      }\n    }\n  ]\n}",
       "type": "dataframe",
       "variable_name": "df_vino"
      },
      "text/html": [
       "\n",
       "  <div id=\"df-34bfb1ab-9b86-45d2-9260-68daf54f90fb\" class=\"colab-df-container\">\n",
       "    <div>\n",
       "<style scoped>\n",
       "    .dataframe tbody tr th:only-of-type {\n",
       "        vertical-align: middle;\n",
       "    }\n",
       "\n",
       "    .dataframe tbody tr th {\n",
       "        vertical-align: top;\n",
       "    }\n",
       "\n",
       "    .dataframe thead th {\n",
       "        text-align: right;\n",
       "    }\n",
       "</style>\n",
       "<table border=\"1\" class=\"dataframe\">\n",
       "  <thead>\n",
       "    <tr style=\"text-align: right;\">\n",
       "      <th></th>\n",
       "      <th>fixed acidity</th>\n",
       "      <th>volatile acidity</th>\n",
       "      <th>citric acid</th>\n",
       "      <th>residual sugar</th>\n",
       "      <th>chlorides</th>\n",
       "      <th>free sulfur dioxide</th>\n",
       "      <th>total sulfur dioxide</th>\n",
       "      <th>density</th>\n",
       "      <th>pH</th>\n",
       "      <th>sulphates</th>\n",
       "      <th>alcohol</th>\n",
       "      <th>quality</th>\n",
       "    </tr>\n",
       "  </thead>\n",
       "  <tbody>\n",
       "    <tr>\n",
       "      <th>0</th>\n",
       "      <td>7.4</td>\n",
       "      <td>0.70</td>\n",
       "      <td>0.00</td>\n",
       "      <td>1.9</td>\n",
       "      <td>0.076</td>\n",
       "      <td>11.0</td>\n",
       "      <td>34.0</td>\n",
       "      <td>0.9978</td>\n",
       "      <td>3.51</td>\n",
       "      <td>0.56</td>\n",
       "      <td>9.4</td>\n",
       "      <td>5</td>\n",
       "    </tr>\n",
       "    <tr>\n",
       "      <th>1</th>\n",
       "      <td>7.8</td>\n",
       "      <td>0.88</td>\n",
       "      <td>0.00</td>\n",
       "      <td>2.6</td>\n",
       "      <td>0.098</td>\n",
       "      <td>25.0</td>\n",
       "      <td>67.0</td>\n",
       "      <td>0.9968</td>\n",
       "      <td>3.20</td>\n",
       "      <td>0.68</td>\n",
       "      <td>9.8</td>\n",
       "      <td>5</td>\n",
       "    </tr>\n",
       "    <tr>\n",
       "      <th>2</th>\n",
       "      <td>7.8</td>\n",
       "      <td>0.76</td>\n",
       "      <td>0.04</td>\n",
       "      <td>2.3</td>\n",
       "      <td>0.092</td>\n",
       "      <td>15.0</td>\n",
       "      <td>54.0</td>\n",
       "      <td>0.9970</td>\n",
       "      <td>3.26</td>\n",
       "      <td>0.65</td>\n",
       "      <td>9.8</td>\n",
       "      <td>5</td>\n",
       "    </tr>\n",
       "    <tr>\n",
       "      <th>3</th>\n",
       "      <td>11.2</td>\n",
       "      <td>0.28</td>\n",
       "      <td>0.56</td>\n",
       "      <td>1.9</td>\n",
       "      <td>0.075</td>\n",
       "      <td>17.0</td>\n",
       "      <td>60.0</td>\n",
       "      <td>0.9980</td>\n",
       "      <td>3.16</td>\n",
       "      <td>0.58</td>\n",
       "      <td>9.8</td>\n",
       "      <td>6</td>\n",
       "    </tr>\n",
       "    <tr>\n",
       "      <th>4</th>\n",
       "      <td>7.4</td>\n",
       "      <td>0.70</td>\n",
       "      <td>0.00</td>\n",
       "      <td>1.9</td>\n",
       "      <td>0.076</td>\n",
       "      <td>11.0</td>\n",
       "      <td>34.0</td>\n",
       "      <td>0.9978</td>\n",
       "      <td>3.51</td>\n",
       "      <td>0.56</td>\n",
       "      <td>9.4</td>\n",
       "      <td>5</td>\n",
       "    </tr>\n",
       "  </tbody>\n",
       "</table>\n",
       "</div>\n",
       "    <div class=\"colab-df-buttons\">\n",
       "\n",
       "  <div class=\"colab-df-container\">\n",
       "    <button class=\"colab-df-convert\" onclick=\"convertToInteractive('df-34bfb1ab-9b86-45d2-9260-68daf54f90fb')\"\n",
       "            title=\"Convert this dataframe to an interactive table.\"\n",
       "            style=\"display:none;\">\n",
       "\n",
       "  <svg xmlns=\"http://www.w3.org/2000/svg\" height=\"24px\" viewBox=\"0 -960 960 960\">\n",
       "    <path d=\"M120-120v-720h720v720H120Zm60-500h600v-160H180v160Zm220 220h160v-160H400v160Zm0 220h160v-160H400v160ZM180-400h160v-160H180v160Zm440 0h160v-160H620v160ZM180-180h160v-160H180v160Zm440 0h160v-160H620v160Z\"/>\n",
       "  </svg>\n",
       "    </button>\n",
       "\n",
       "  <style>\n",
       "    .colab-df-container {\n",
       "      display:flex;\n",
       "      gap: 12px;\n",
       "    }\n",
       "\n",
       "    .colab-df-convert {\n",
       "      background-color: #E8F0FE;\n",
       "      border: none;\n",
       "      border-radius: 50%;\n",
       "      cursor: pointer;\n",
       "      display: none;\n",
       "      fill: #1967D2;\n",
       "      height: 32px;\n",
       "      padding: 0 0 0 0;\n",
       "      width: 32px;\n",
       "    }\n",
       "\n",
       "    .colab-df-convert:hover {\n",
       "      background-color: #E2EBFA;\n",
       "      box-shadow: 0px 1px 2px rgba(60, 64, 67, 0.3), 0px 1px 3px 1px rgba(60, 64, 67, 0.15);\n",
       "      fill: #174EA6;\n",
       "    }\n",
       "\n",
       "    .colab-df-buttons div {\n",
       "      margin-bottom: 4px;\n",
       "    }\n",
       "\n",
       "    [theme=dark] .colab-df-convert {\n",
       "      background-color: #3B4455;\n",
       "      fill: #D2E3FC;\n",
       "    }\n",
       "\n",
       "    [theme=dark] .colab-df-convert:hover {\n",
       "      background-color: #434B5C;\n",
       "      box-shadow: 0px 1px 3px 1px rgba(0, 0, 0, 0.15);\n",
       "      filter: drop-shadow(0px 1px 2px rgba(0, 0, 0, 0.3));\n",
       "      fill: #FFFFFF;\n",
       "    }\n",
       "  </style>\n",
       "\n",
       "    <script>\n",
       "      const buttonEl =\n",
       "        document.querySelector('#df-34bfb1ab-9b86-45d2-9260-68daf54f90fb button.colab-df-convert');\n",
       "      buttonEl.style.display =\n",
       "        google.colab.kernel.accessAllowed ? 'block' : 'none';\n",
       "\n",
       "      async function convertToInteractive(key) {\n",
       "        const element = document.querySelector('#df-34bfb1ab-9b86-45d2-9260-68daf54f90fb');\n",
       "        const dataTable =\n",
       "          await google.colab.kernel.invokeFunction('convertToInteractive',\n",
       "                                                    [key], {});\n",
       "        if (!dataTable) return;\n",
       "\n",
       "        const docLinkHtml = 'Like what you see? Visit the ' +\n",
       "          '<a target=\"_blank\" href=https://colab.research.google.com/notebooks/data_table.ipynb>data table notebook</a>'\n",
       "          + ' to learn more about interactive tables.';\n",
       "        element.innerHTML = '';\n",
       "        dataTable['output_type'] = 'display_data';\n",
       "        await google.colab.output.renderOutput(dataTable, element);\n",
       "        const docLink = document.createElement('div');\n",
       "        docLink.innerHTML = docLinkHtml;\n",
       "        element.appendChild(docLink);\n",
       "      }\n",
       "    </script>\n",
       "  </div>\n",
       "\n",
       "\n",
       "<div id=\"df-27edbe66-15f9-433c-92be-3037a7b39462\">\n",
       "  <button class=\"colab-df-quickchart\" onclick=\"quickchart('df-27edbe66-15f9-433c-92be-3037a7b39462')\"\n",
       "            title=\"Suggest charts\"\n",
       "            style=\"display:none;\">\n",
       "\n",
       "<svg xmlns=\"http://www.w3.org/2000/svg\" height=\"24px\"viewBox=\"0 0 24 24\"\n",
       "     width=\"24px\">\n",
       "    <g>\n",
       "        <path d=\"M19 3H5c-1.1 0-2 .9-2 2v14c0 1.1.9 2 2 2h14c1.1 0 2-.9 2-2V5c0-1.1-.9-2-2-2zM9 17H7v-7h2v7zm4 0h-2V7h2v10zm4 0h-2v-4h2v4z\"/>\n",
       "    </g>\n",
       "</svg>\n",
       "  </button>\n",
       "\n",
       "<style>\n",
       "  .colab-df-quickchart {\n",
       "      --bg-color: #E8F0FE;\n",
       "      --fill-color: #1967D2;\n",
       "      --hover-bg-color: #E2EBFA;\n",
       "      --hover-fill-color: #174EA6;\n",
       "      --disabled-fill-color: #AAA;\n",
       "      --disabled-bg-color: #DDD;\n",
       "  }\n",
       "\n",
       "  [theme=dark] .colab-df-quickchart {\n",
       "      --bg-color: #3B4455;\n",
       "      --fill-color: #D2E3FC;\n",
       "      --hover-bg-color: #434B5C;\n",
       "      --hover-fill-color: #FFFFFF;\n",
       "      --disabled-bg-color: #3B4455;\n",
       "      --disabled-fill-color: #666;\n",
       "  }\n",
       "\n",
       "  .colab-df-quickchart {\n",
       "    background-color: var(--bg-color);\n",
       "    border: none;\n",
       "    border-radius: 50%;\n",
       "    cursor: pointer;\n",
       "    display: none;\n",
       "    fill: var(--fill-color);\n",
       "    height: 32px;\n",
       "    padding: 0;\n",
       "    width: 32px;\n",
       "  }\n",
       "\n",
       "  .colab-df-quickchart:hover {\n",
       "    background-color: var(--hover-bg-color);\n",
       "    box-shadow: 0 1px 2px rgba(60, 64, 67, 0.3), 0 1px 3px 1px rgba(60, 64, 67, 0.15);\n",
       "    fill: var(--button-hover-fill-color);\n",
       "  }\n",
       "\n",
       "  .colab-df-quickchart-complete:disabled,\n",
       "  .colab-df-quickchart-complete:disabled:hover {\n",
       "    background-color: var(--disabled-bg-color);\n",
       "    fill: var(--disabled-fill-color);\n",
       "    box-shadow: none;\n",
       "  }\n",
       "\n",
       "  .colab-df-spinner {\n",
       "    border: 2px solid var(--fill-color);\n",
       "    border-color: transparent;\n",
       "    border-bottom-color: var(--fill-color);\n",
       "    animation:\n",
       "      spin 1s steps(1) infinite;\n",
       "  }\n",
       "\n",
       "  @keyframes spin {\n",
       "    0% {\n",
       "      border-color: transparent;\n",
       "      border-bottom-color: var(--fill-color);\n",
       "      border-left-color: var(--fill-color);\n",
       "    }\n",
       "    20% {\n",
       "      border-color: transparent;\n",
       "      border-left-color: var(--fill-color);\n",
       "      border-top-color: var(--fill-color);\n",
       "    }\n",
       "    30% {\n",
       "      border-color: transparent;\n",
       "      border-left-color: var(--fill-color);\n",
       "      border-top-color: var(--fill-color);\n",
       "      border-right-color: var(--fill-color);\n",
       "    }\n",
       "    40% {\n",
       "      border-color: transparent;\n",
       "      border-right-color: var(--fill-color);\n",
       "      border-top-color: var(--fill-color);\n",
       "    }\n",
       "    60% {\n",
       "      border-color: transparent;\n",
       "      border-right-color: var(--fill-color);\n",
       "    }\n",
       "    80% {\n",
       "      border-color: transparent;\n",
       "      border-right-color: var(--fill-color);\n",
       "      border-bottom-color: var(--fill-color);\n",
       "    }\n",
       "    90% {\n",
       "      border-color: transparent;\n",
       "      border-bottom-color: var(--fill-color);\n",
       "    }\n",
       "  }\n",
       "</style>\n",
       "\n",
       "  <script>\n",
       "    async function quickchart(key) {\n",
       "      const quickchartButtonEl =\n",
       "        document.querySelector('#' + key + ' button');\n",
       "      quickchartButtonEl.disabled = true;  // To prevent multiple clicks.\n",
       "      quickchartButtonEl.classList.add('colab-df-spinner');\n",
       "      try {\n",
       "        const charts = await google.colab.kernel.invokeFunction(\n",
       "            'suggestCharts', [key], {});\n",
       "      } catch (error) {\n",
       "        console.error('Error during call to suggestCharts:', error);\n",
       "      }\n",
       "      quickchartButtonEl.classList.remove('colab-df-spinner');\n",
       "      quickchartButtonEl.classList.add('colab-df-quickchart-complete');\n",
       "    }\n",
       "    (() => {\n",
       "      let quickchartButtonEl =\n",
       "        document.querySelector('#df-27edbe66-15f9-433c-92be-3037a7b39462 button');\n",
       "      quickchartButtonEl.style.display =\n",
       "        google.colab.kernel.accessAllowed ? 'block' : 'none';\n",
       "    })();\n",
       "  </script>\n",
       "</div>\n",
       "\n",
       "    </div>\n",
       "  </div>\n"
      ],
      "text/plain": [
       "   fixed acidity  volatile acidity  citric acid  residual sugar  chlorides  \\\n",
       "0            7.4              0.70         0.00             1.9      0.076   \n",
       "1            7.8              0.88         0.00             2.6      0.098   \n",
       "2            7.8              0.76         0.04             2.3      0.092   \n",
       "3           11.2              0.28         0.56             1.9      0.075   \n",
       "4            7.4              0.70         0.00             1.9      0.076   \n",
       "\n",
       "   free sulfur dioxide  total sulfur dioxide  density    pH  sulphates  \\\n",
       "0                 11.0                  34.0   0.9978  3.51       0.56   \n",
       "1                 25.0                  67.0   0.9968  3.20       0.68   \n",
       "2                 15.0                  54.0   0.9970  3.26       0.65   \n",
       "3                 17.0                  60.0   0.9980  3.16       0.58   \n",
       "4                 11.0                  34.0   0.9978  3.51       0.56   \n",
       "\n",
       "   alcohol  quality  \n",
       "0      9.4        5  \n",
       "1      9.8        5  \n",
       "2      9.8        5  \n",
       "3      9.8        6  \n",
       "4      9.4        5  "
      ]
     },
     "execution_count": 6,
     "metadata": {},
     "output_type": "execute_result"
    }
   ],
   "source": [
    "df_vino.head()"
   ]
  },
  {
   "cell_type": "markdown",
   "metadata": {
    "id": "Jki85ep5hhi4"
   },
   "source": [
    "El dataset **`winequality-red.csv`** contiene información sobre muestras de vino tinto, con variables químicas que pueden influir en la calidad del vino. El dataset contiene las siguientes columnas:\n",
    "\n",
    "* **`fixed acidity`**: Acidez fija. Se refiere a la cantidad de ácidos tartáricos, málicos, y cítricos presentes en el vino, que son estables y no se evaporan fácilmente.\n",
    "\n",
    "* **`volatile acidity`**: Acidez volátil. Se refiere a la cantidad de ácido acético (vinagre) en el vino, que en altas concentraciones puede llevar a un sabor desagradable.\n",
    "\n",
    "* **`citric acid`**: Ácido cítrico.\n",
    "\n",
    "* **`residual sugar`**: Azúcar residual. Es el azúcar que queda después de la fermentación, y los cloruros son medidos principalmente por la concentración de sal.\n",
    "\n",
    "* **`chlorides`**: Cloruros.\n",
    "\n",
    "* **`free sulfur dioxide`**: Dióxido de azufre libre. Se utiliza como conservante y para prevenir el crecimiento de microorganismos y la oxidación.\n",
    "\n",
    "* **`total sulfur dioxide`**: Dióxido de azufre total. Se utiliza como conservante y para prevenir el crecimiento de microorganismos y la oxidación.\n",
    "\n",
    "* **`density`**: Densidad. Está relacionada con su contenido alcohólico y de azúcar.\n",
    "\n",
    "* **`pH`**: pH (potencial de hidrógeno). Indica qué tan ácido o básico es el vino en una escala de 0 a 14.\n",
    "\n",
    "* **`sulphates`**: Sulfatos. Son aditivos que pueden contribuir al nivel de dióxido de azufre total y afectar la fermentación.\n",
    "\n",
    "* **`alcohol`**: Alcohol.\n",
    "\n",
    "* **`quality`**: Calidad (normalmente en una escala de 0 a 10).\n",
    "\n"
   ]
  },
  {
   "cell_type": "markdown",
   "metadata": {
    "id": "LQ-c3F6EhmVX"
   },
   "source": [
    "Estas columnas representan diversas mediciones químicas y propiedades del vino, que pueden utilizarse para predecir la calidad percibida del mismo, representada por la columna **`quality`**.\n",
    "\n"
   ]
  },
  {
   "cell_type": "markdown",
   "metadata": {
    "id": "yUHxYXD2h49v"
   },
   "source": [
    "#### Guardar Respaldo"
   ]
  },
  {
   "cell_type": "markdown",
   "metadata": {
    "id": "6JiYFrcph76e"
   },
   "source": [
    "Hacemos una copia del DataFrame original para tener un backup."
   ]
  },
  {
   "cell_type": "code",
   "execution_count": null,
   "metadata": {
    "id": "D2eIeXmgh7KG"
   },
   "outputs": [],
   "source": [
    "# Guardar respaldo\n",
    "df_vino_backup = df_vino.copy()\n"
   ]
  },
  {
   "cell_type": "markdown",
   "metadata": {
    "id": "RTo1AL97hiWf"
   },
   "source": [
    "#### Creación de Variables"
   ]
  },
  {
   "cell_type": "markdown",
   "metadata": {
    "id": "Vy_HaHYDxEGL"
   },
   "source": [
    "Se creará una nueva variable **`alta_calidad`** que permita identificar aquellos vinos cuya calidad sea superior a la mediana.\n",
    "\n",
    "Se obtiene la mediana de los valores en la columna **`'quality'`** del DataFrame **`df_vino`**, que representa una medida central de la calidad.\n",
    "\n",
    "Luego, se añade una nueva columna **`'alta_calidad'`** al DataFrame **`df_vino`**. Esta columna se rellena con valores binarios (0 o 1) donde 1 indica que la calidad del vino es superior a la mediana calculada y 0 indica que es igual o inferior. Esto se logra comparando cada valor en **`'quality'`** con la mediana, y luego convirtiendo el resultado booleano (**`True`** o **`False`**) a un entero (**`1`** o **`0`**) con **`astype(int)`**."
   ]
  },
  {
   "cell_type": "code",
   "execution_count": null,
   "metadata": {
    "colab": {
     "base_uri": "https://localhost:8080/"
    },
    "id": "xrNCC-LcwfrH",
    "outputId": "b9a9186f-e592-4dda-f352-b2dcc8690b1e"
   },
   "outputs": [
    {
     "name": "stdout",
     "output_type": "stream",
     "text": [
      "Mediana de la calidad: 6.0\n",
      "\n",
      "   quality  alta_calidad\n",
      "0        5             0\n",
      "1        5             0\n",
      "2        5             0\n",
      "3        6             0\n",
      "4        5             0\n",
      "5        5             0\n",
      "6        5             0\n",
      "7        7             1\n",
      "8        7             1\n",
      "9        5             0\n"
     ]
    }
   ],
   "source": [
    "import pandas as pd\n",
    "\n",
    "# Crear una variable binaria para vinos con calidad superior a la mediana\n",
    "mediana_calidad = df_vino['quality'].median()\n",
    "df_vino['alta_calidad'] = (df_vino['quality'] > mediana_calidad).astype(int)\n",
    "\n",
    "# Imprimir la mediana de la calidad para referencia\n",
    "print(f\"Mediana de la calidad: {mediana_calidad}\\n\")\n",
    "\n",
    "# Mostrar las primeras 10 filas de las columnas 'quality' y 'alta_calidad' para verificar\n",
    "print(df_vino[['quality', 'alta_calidad']].head(10))\n"
   ]
  },
  {
   "cell_type": "markdown",
   "metadata": {
    "id": "U0KQjVAdSbaY"
   },
   "source": [
    "Otra forma de presentar los resultados, consiste en usar **`value_counts()`** para obtener el conteo en **`alta_calidad`**:"
   ]
  },
  {
   "cell_type": "code",
   "execution_count": null,
   "metadata": {
    "colab": {
     "base_uri": "https://localhost:8080/"
    },
    "id": "AhFrI9F6yhFs",
    "outputId": "820667ef-18fb-45e2-8a3a-4070abd99925"
   },
   "outputs": [
    {
     "name": "stdout",
     "output_type": "stream",
     "text": [
      "Mediana de la calidad: 6.0\n",
      "\n",
      "\n",
      "Distribución de la variable 'alta_calidad':\n",
      "alta_calidad\n",
      "0    1382\n",
      "1     217\n",
      "Name: count, dtype: int64\n",
      "\n",
      "Vinos con calidad inferior a la mediana: 1382\n",
      "Vinos con calidad superior a la mediana: 217\n"
     ]
    }
   ],
   "source": [
    "# Otra forma de presentar el resultado\n",
    "# Imprimir la mediana de la calidad para referencia\n",
    "print(f\"Mediana de la calidad: {mediana_calidad}\\n\")\n",
    "\n",
    "# Distribución de los valores de 'alta_calidad'\n",
    "print(\"\\nDistribución de la variable 'alta_calidad':\")\n",
    "print(df_vino['alta_calidad'].value_counts())\n",
    "\n",
    "# Obtener los conteos de 'alta_calidad'\n",
    "conteos_alta_calidad = df_vino['alta_calidad'].value_counts()\n",
    "\n",
    "# Imprimir los resultados de manera legible\n",
    "print(f\"\\nVinos con calidad inferior a la mediana: {conteos_alta_calidad[0]}\")\n",
    "print(f\"Vinos con calidad superior a la mediana: {conteos_alta_calidad[1]}\")\n"
   ]
  },
  {
   "cell_type": "markdown",
   "metadata": {
    "id": "MSQNiipmlst0"
   },
   "source": [
    "#### Agrupamiento de Datos"
   ]
  },
  {
   "cell_type": "markdown",
   "metadata": {
    "id": "MkBD6t5Xa2hp"
   },
   "source": [
    "A continuación, se calcula el *promedio* de alcohol en el DataFrame **`df_vino`** *agrupando* los datos con **`groupby`** por la columna **`'quality'`** y aplicando la función **`mean()`** a la columna **`'alcohol'`**."
   ]
  },
  {
   "cell_type": "code",
   "execution_count": null,
   "metadata": {
    "colab": {
     "base_uri": "https://localhost:8080/"
    },
    "id": "YvxCGOxiltCr",
    "outputId": "27053d61-a301-4633-b192-98948df7087f"
   },
   "outputs": [
    {
     "name": "stdout",
     "output_type": "stream",
     "text": [
      "El promedio de alcohol por calidad de vino es:\n",
      " quality\n",
      "3     9.955000\n",
      "4    10.265094\n",
      "5     9.899706\n",
      "6    10.629519\n",
      "7    11.465913\n",
      "8    12.094444\n",
      "Name: alcohol, dtype: float64\n"
     ]
    }
   ],
   "source": [
    "import pandas as pd\n",
    "\n",
    "# Calcular el promedio de alcohol por calidad de vino\n",
    "promedio_alcohol = df_vino.groupby('quality')['alcohol'].mean()\n",
    "print(\"El promedio de alcohol por calidad de vino es:\\n\", promedio_alcohol)\n"
   ]
  },
  {
   "cell_type": "markdown",
   "metadata": {
    "id": "eVDbm2Mgl3kj"
   },
   "source": [
    "#### Renombrar Columnas\n"
   ]
  },
  {
   "cell_type": "markdown",
   "metadata": {
    "id": "fhi-3eDgZ-uC"
   },
   "source": [
    "En el siguiente código, se utiliza el método **`rename()`** para cambiar los nombres de columnas  **`'fixed acidity'`** y **`'volatile acidity'`** a **`'acidez_fija'`** y **`'acidez_volatil'`**, respectivamente."
   ]
  },
  {
   "cell_type": "code",
   "execution_count": null,
   "metadata": {
    "colab": {
     "base_uri": "https://localhost:8080/"
    },
    "id": "daFiOiUEl_ov",
    "outputId": "08a9e306-8421-4151-9c97-3b74af0ebd8f"
   },
   "outputs": [
    {
     "name": "stdout",
     "output_type": "stream",
     "text": [
      "Index(['acidez_fija', 'acidez_volatil', 'citric acid', 'residual sugar',\n",
      "       'chlorides', 'free sulfur dioxide', 'total sulfur dioxide', 'density',\n",
      "       'pH', 'sulphates', 'alcohol', 'quality', 'alta_calidad'],\n",
      "      dtype='object')\n"
     ]
    }
   ],
   "source": [
    "# Renombrar columnas para mejorar la legibilidad\n",
    "df_vino_renombrado = df_vino.rename(columns={'fixed acidity': 'acidez_fija', 'volatile acidity': 'acidez_volatil'})\n",
    "print(df_vino_renombrado.columns)\n"
   ]
  },
  {
   "cell_type": "markdown",
   "metadata": {
    "id": "nuQubjwPmEdE"
   },
   "source": [
    "#### Reemplazar Valores"
   ]
  },
  {
   "cell_type": "markdown",
   "metadata": {
    "id": "7Mbz_yxf1q0q"
   },
   "source": [
    "\n",
    "Se crea una nueva columna **`calidad_etiqueta`** en **`df_vino`**, asignando etiquetas textuales como **`'Baja'`**, **`'Media'`** y **`'Alta'`** a los valores numéricos de la columna **`'quality'`** mediante el método **`replace()`**."
   ]
  },
  {
   "cell_type": "code",
   "execution_count": null,
   "metadata": {
    "colab": {
     "base_uri": "https://localhost:8080/"
    },
    "id": "gXSgZNPSmIDB",
    "outputId": "c3158c82-fed0-49ca-c7f0-b9090d77e0cf"
   },
   "outputs": [
    {
     "name": "stdout",
     "output_type": "stream",
     "text": [
      "   quality calidad_etiqueta\n",
      "0        5            Media\n",
      "1        5            Media\n",
      "2        5            Media\n",
      "3        6            Media\n",
      "4        5            Media\n"
     ]
    }
   ],
   "source": [
    "# Reemplazar valores en la columna de calidad por etiquetas textuales\n",
    "df_vino['calidad_etiqueta'] = df_vino['quality'].replace({3: 'Baja', 4: 'Baja', 5: 'Media', 6: 'Media', 7: 'Alta', 8: 'Alta'})\n",
    "print(df_vino[['quality', 'calidad_etiqueta']].head())\n"
   ]
  },
  {
   "cell_type": "markdown",
   "metadata": {
    "id": "vF9FWIsqSpIB"
   },
   "source": [
    "Usamos **`value_counts(`**) para obtener el conteo en **`calidad_etiqueta`**:"
   ]
  },
  {
   "cell_type": "code",
   "execution_count": null,
   "metadata": {
    "colab": {
     "base_uri": "https://localhost:8080/"
    },
    "id": "IgfzgiZoRv00",
    "outputId": "63d5a145-b277-48c9-8355-3a52bfc02811"
   },
   "outputs": [
    {
     "name": "stdout",
     "output_type": "stream",
     "text": [
      "Frecuencias de la variable:\n",
      "calidad_etiqueta\n",
      "Media    1319\n",
      "Alta      217\n",
      "Baja       63\n",
      "Name: count, dtype: int64\n"
     ]
    }
   ],
   "source": [
    "# Frecuencias\n",
    "print(\"Frecuencias de la variable:\")\n",
    "print(df_vino['calidad_etiqueta'].value_counts())\n"
   ]
  },
  {
   "cell_type": "markdown",
   "metadata": {
    "id": "bY3UVhjlmLhR"
   },
   "source": [
    "#### Eliminar Filas"
   ]
  },
  {
   "cell_type": "markdown",
   "metadata": {
    "id": "1ly6UD_L3Lhl"
   },
   "source": [
    "Se obtiene el números de filas en **`df_vino`** con la función **`len()`**."
   ]
  },
  {
   "cell_type": "code",
   "execution_count": null,
   "metadata": {
    "colab": {
     "base_uri": "https://localhost:8080/"
    },
    "id": "ri4AJZok2T69",
    "outputId": "ce0bf5fd-1fdb-46f7-962f-2ca55fbac849"
   },
   "outputs": [
    {
     "name": "stdout",
     "output_type": "stream",
     "text": [
      "Número de filas antes de la eliminación: 1599\n"
     ]
    }
   ],
   "source": [
    "# Imprimir el número de filas antes de la eliminación\n",
    "print(f\"Número de filas antes de la eliminación: {len(df_vino)}\")\n"
   ]
  },
  {
   "cell_type": "markdown",
   "metadata": {
    "id": "-z95I8ZH8CA0"
   },
   "source": [
    "En un nuevo DataFrame (**`df_vino_sin_baja_calidad`**), se eliminan aquellas filas que no satisfagan la condición de que la calidad (**`quality`**) sea igual o superior a 5."
   ]
  },
  {
   "cell_type": "code",
   "execution_count": null,
   "metadata": {
    "id": "ckOZmHbM2To3"
   },
   "outputs": [],
   "source": [
    "# Eliminar filas que no cumplan que la calidad sea igual o superior a 5\n",
    "df_vino_sin_baja_calidad = df_vino[df_vino['quality'] >= 5]\n"
   ]
  },
  {
   "cell_type": "code",
   "execution_count": null,
   "metadata": {
    "colab": {
     "base_uri": "https://localhost:8080/"
    },
    "id": "N3v9PoSS2Tbu",
    "outputId": "8406e2bf-6dd0-4c88-be5f-13f3b2de3b74"
   },
   "outputs": [
    {
     "name": "stdout",
     "output_type": "stream",
     "text": [
      "Número de filas después de la eliminación: 1536\n"
     ]
    }
   ],
   "source": [
    "# Imprimir el número de filas después de la eliminación\n",
    "print(f\"Número de filas después de la eliminación: {len(df_vino_sin_baja_calidad)}\")\n"
   ]
  },
  {
   "cell_type": "markdown",
   "metadata": {
    "id": "qMgafxx-4jLD"
   },
   "source": [
    "Luego, se usa la función **`sorted()`** para ordenar los elementos de **`valores_unicos_calidad`** (orden ascendente, por defecto)."
   ]
  },
  {
   "cell_type": "code",
   "execution_count": null,
   "metadata": {
    "colab": {
     "base_uri": "https://localhost:8080/"
    },
    "id": "-299wLCk2TNf",
    "outputId": "4f68a2f2-067d-44ea-9180-31109d5e3563"
   },
   "outputs": [
    {
     "name": "stdout",
     "output_type": "stream",
     "text": [
      "Valores únicos de calidad después de la eliminación: [5, 6, 7, 8]\n"
     ]
    }
   ],
   "source": [
    "# Confirmar que se han eliminado las filas adecuadas\n",
    "valores_unicos_calidad = df_vino_sin_baja_calidad['quality'].unique()\n",
    "print(f\"Valores únicos de calidad después de la eliminación: {sorted(valores_unicos_calidad)}\")\n"
   ]
  },
  {
   "cell_type": "markdown",
   "metadata": {
    "id": "_yv7M9mVmksE"
   },
   "source": [
    "#### Eliminar Filas Duplicadas"
   ]
  },
  {
   "cell_type": "code",
   "execution_count": null,
   "metadata": {
    "colab": {
     "base_uri": "https://localhost:8080/"
    },
    "id": "tuX0Mi_978mW",
    "outputId": "6762a7c6-f7f3-4a89-f56a-3b8ebf69f78b"
   },
   "outputs": [
    {
     "name": "stdout",
     "output_type": "stream",
     "text": [
      "Número de filas antes de eliminar duplicados: 1599\n"
     ]
    }
   ],
   "source": [
    "# Imprimir el número de filas antes de eliminar duplicados\n",
    "print(f\"Número de filas antes de eliminar duplicados: {len(df_vino)}\")\n"
   ]
  },
  {
   "cell_type": "markdown",
   "metadata": {
    "id": "UgBwiyszc7xQ"
   },
   "source": [
    "Se procede a eliminar las filas duplicadas del DataFrame **`df_vino`** utilizando el método **`drop_duplicates()`**, y luego se almacena el resultado en **`df_vino_unico`**."
   ]
  },
  {
   "cell_type": "code",
   "execution_count": null,
   "metadata": {
    "id": "zgVEdF8S78Yi"
   },
   "outputs": [],
   "source": [
    "# Eliminar filas duplicadas\n",
    "df_vino_unico = df_vino.drop_duplicates()\n"
   ]
  },
  {
   "cell_type": "code",
   "execution_count": null,
   "metadata": {
    "colab": {
     "base_uri": "https://localhost:8080/"
    },
    "id": "eFex_RQt8YPi",
    "outputId": "4f485115-acde-4fd8-e64c-62dfee9e241f"
   },
   "outputs": [
    {
     "name": "stdout",
     "output_type": "stream",
     "text": [
      "Número de filas después de eliminar duplicados: 1359\n"
     ]
    }
   ],
   "source": [
    "# Imprimir el número de filas después de eliminar duplicados\n",
    "print(f\"Número de filas después de eliminar duplicados: {len(df_vino_unico)}\")\n"
   ]
  },
  {
   "cell_type": "code",
   "execution_count": null,
   "metadata": {
    "colab": {
     "base_uri": "https://localhost:8080/"
    },
    "id": "kZsO-v9475p0",
    "outputId": "3835d24b-b837-4d0a-b1be-fdde2865f012"
   },
   "outputs": [
    {
     "name": "stdout",
     "output_type": "stream",
     "text": [
      "Número de filas duplicadas que se eliminaron: 240\n"
     ]
    }
   ],
   "source": [
    "# Calcular y mostrar cuántas filas estaban duplicadas\n",
    "filas_duplicadas = len(df_vino) - len(df_vino_unico)\n",
    "print(f\"Número de filas duplicadas que se eliminaron: {filas_duplicadas}\")\n"
   ]
  },
  {
   "cell_type": "markdown",
   "metadata": {
    "id": "4MHT1lwFmsVu"
   },
   "source": [
    "#### Agrupamiento de Filas por Fecha"
   ]
  },
  {
   "cell_type": "markdown",
   "metadata": {
    "id": "m-oH-EEueaRU"
   },
   "source": [
    "El siguiente código utiliza **`pd.date_range`** para generar una secuencia de **`6`** fechas diarias a partir del 1 de enero de 2023, y crea un DataFrame **`df_tiempo`** con esta secuencia de fechas y una columna **`'Valor'`** con datos numéricos.\n",
    "\n"
   ]
  },
  {
   "cell_type": "code",
   "execution_count": null,
   "metadata": {
    "colab": {
     "base_uri": "https://localhost:8080/"
    },
    "id": "5rNsSKcuopvG",
    "outputId": "7d9908c8-9df6-4bab-c9f0-ecba8180a339"
   },
   "outputs": [
    {
     "name": "stdout",
     "output_type": "stream",
     "text": [
      "       Fecha  Valor\n",
      "0 2023-01-01      1\n",
      "1 2023-01-02      2\n",
      "2 2023-01-03      2\n",
      "3 2023-01-04      3\n",
      "4 2023-01-05      3\n",
      "5 2023-01-06      4\n"
     ]
    }
   ],
   "source": [
    "import pandas as pd\n",
    "\n",
    "# Crear un DataFrame de ejemplo con datos de tiempo\n",
    "datos_tiempo = pd.date_range('20230101', periods=6)\n",
    "df_tiempo = pd.DataFrame({'Fecha': datos_tiempo, 'Valor': [1, 2, 2, 3, 3, 4]})\n",
    "print(df_tiempo)\n"
   ]
  },
  {
   "cell_type": "markdown",
   "metadata": {
    "id": "A_B0g3L5ey0m"
   },
   "source": [
    "Luego, transforma la columna **`'Fecha'`** en una columna **`'Mes'`**, donde las fechas se convierten a formato de periodo mensual utilizando **`to_period('M')`**.\n",
    "\n"
   ]
  },
  {
   "cell_type": "code",
   "execution_count": null,
   "metadata": {
    "id": "SM7PDTSfopjp"
   },
   "outputs": [],
   "source": [
    "# Convertir la columna 'Fecha' a tipo periodo (mes)\n",
    "df_tiempo['Mes'] = df_tiempo['Fecha'].dt.to_period('M')\n",
    "#print(df_tiempo['Mes'])\n"
   ]
  },
  {
   "cell_type": "markdown",
   "metadata": {
    "id": "TyaZGWU0e7Bm"
   },
   "source": [
    "Luego, se agrupa el DataFrame por la columna **`'Mes'`** y suma los valores de la columna **`'Valor'`** asociados a cada mes. Usa **`reset_index()`** para convertir el índice resultante en una columna regular, facilitando su manipulación posterior. Finalmente, se muestran los valores sumados por mes."
   ]
  },
  {
   "cell_type": "code",
   "execution_count": null,
   "metadata": {
    "colab": {
     "base_uri": "https://localhost:8080/"
    },
    "id": "6eLOmtePopXL",
    "outputId": "e0ea0b3d-f1d8-4adc-fcde-563d40f17e61"
   },
   "outputs": [
    {
     "name": "stdout",
     "output_type": "stream",
     "text": [
      "       Mes  Valor\n",
      "0  2023-01     15\n"
     ]
    }
   ],
   "source": [
    "# Agrupar por 'Mes' y sumar solo las columnas numéricas\n",
    "df_agrupado_por_mes = df_tiempo.groupby('Mes')['Valor'].sum().reset_index()\n",
    "\n",
    "# Imprimir resultado\n",
    "print(df_agrupado_por_mes)\n"
   ]
  },
  {
   "cell_type": "markdown",
   "metadata": {
    "id": "oFxhNrSum2t5"
   },
   "source": [
    "#### Concatenar DataFrames"
   ]
  },
  {
   "cell_type": "markdown",
   "metadata": {
    "id": "dUCVuEg2gia1"
   },
   "source": [
    "El siguiente código combina dos DataFrames, **`df1`** y **`df2`**, que tienen las mismas columnas **`('A', 'B', 'C', 'D')`** pero *diferentes filas* de datos.\n",
    "\n",
    "Se utiliza **`pd.concat`** para unir **`df1`** y **`df2`** en un solo DataFrame llamado **`df_concatenado`**. El parámetro **`ignore_index=True`** se emplea para reasignar los índices en el nuevo DataFrame, asegurando que los índices sean continuos y no se repitan.\n"
   ]
  },
  {
   "cell_type": "code",
   "execution_count": null,
   "metadata": {
    "colab": {
     "base_uri": "https://localhost:8080/"
    },
    "id": "NmcSwVyZomsx",
    "outputId": "eb3ce542-ad10-426f-8611-67b57a3d9795"
   },
   "outputs": [
    {
     "name": "stdout",
     "output_type": "stream",
     "text": [
      "DataFrame df1:\n",
      "     A   B   C   D\n",
      "0  A0  B0  C0  D0\n",
      "1  A1  B1  C1  D1\n",
      "2  A2  B2  C2  D2\n",
      "3  A3  B3  C3  D3\n",
      "\n",
      "DataFrame df2:\n",
      "     A   B   C   D\n",
      "0  A4  B4  C4  D4\n",
      "1  A5  B5  C5  D5\n",
      "2  A6  B6  C6  D6\n",
      "3  A7  B7  C7  D7\n"
     ]
    }
   ],
   "source": [
    "import pandas as pd\n",
    "\n",
    "# Crear dos DataFrames para concatenar\n",
    "df1 = pd.DataFrame({'A': ['A0', 'A1', 'A2', 'A3'],\n",
    "                    'B': ['B0', 'B1', 'B2', 'B3'],\n",
    "                    'C': ['C0', 'C1', 'C2', 'C3'],\n",
    "                    'D': ['D0', 'D1', 'D2', 'D3']})\n",
    "df2 = pd.DataFrame({'A': ['A4', 'A5', 'A6', 'A7'],\n",
    "                    'B': ['B4', 'B5', 'B6', 'B7'],\n",
    "                    'C': ['C4', 'C5', 'C6', 'C7'],\n",
    "                    'D': ['D4', 'D5', 'D6', 'D7']})\n",
    "\n",
    "print(\"DataFrame df1:\\n\", df1)\n",
    "print(\"\\nDataFrame df2:\\n\", df2)\n"
   ]
  },
  {
   "cell_type": "code",
   "execution_count": null,
   "metadata": {
    "colab": {
     "base_uri": "https://localhost:8080/"
    },
    "id": "3KC09eOgm5cD",
    "outputId": "9123484d-3d1a-4035-b2c5-a443324c444b"
   },
   "outputs": [
    {
     "name": "stdout",
     "output_type": "stream",
     "text": [
      "\n",
      "DataFrame concatenado:\n",
      "     A   B   C   D\n",
      "0  A0  B0  C0  D0\n",
      "1  A1  B1  C1  D1\n",
      "2  A2  B2  C2  D2\n",
      "3  A3  B3  C3  D3\n",
      "4  A4  B4  C4  D4\n",
      "5  A5  B5  C5  D5\n",
      "6  A6  B6  C6  D6\n",
      "7  A7  B7  C7  D7\n"
     ]
    }
   ],
   "source": [
    "# Concatenar DataFrames\n",
    "df_concatenado = pd.concat([df1, df2], ignore_index=True)\n",
    "\n",
    "print(\"\\nDataFrame concatenado:\\n\", df_concatenado)\n"
   ]
  },
  {
   "cell_type": "markdown",
   "metadata": {
    "id": "O-hPyYKguEaK"
   },
   "source": [
    "Ejemplo práctico con datos financieros:"
   ]
  },
  {
   "cell_type": "markdown",
   "metadata": {
    "id": "9LNzbcjmhkqm"
   },
   "source": [
    "A continuación, se crean dos DataFrames, **`df_transacciones_q1`** con datos de transacciones del primer trimestre y **`df_transacciones_q2`** con datos del segundo trimestre. Ambos contienen columnas para el ID de transacción, ID de cliente, monto de la transacción y fecha.\n",
    "\n",
    "Luego, se utiliza **`pd.concat`** para combinar ambos DataFrames en **`df_transacciones_concatenadas`**. Se aplica **`ignore_index=True`** para que el DataFrame resultante tenga índices continuos y únicos, reasignando nuevos índices a todas las filas combinadas."
   ]
  },
  {
   "cell_type": "code",
   "execution_count": null,
   "metadata": {
    "colab": {
     "base_uri": "https://localhost:8080/"
    },
    "id": "_uQQyV5zuIWJ",
    "outputId": "4625d578-b1be-4ff7-ab7a-6a96b326e940"
   },
   "outputs": [
    {
     "name": "stdout",
     "output_type": "stream",
     "text": [
      "DataFrame df_transacciones_q1:\n",
      "   id_transaccion id_cliente  monto       fecha\n",
      "0             T1        100    200  2023-01-15\n",
      "1             T2        101    150  2023-02-20\n",
      "2             T3        102    500  2023-03-10\n",
      "3             T4        103    400  2023-03-22\n",
      "\n",
      "DataFrame df_transacciones_q2:\n",
      "   id_transaccion id_cliente  monto       fecha\n",
      "0             T5        104    300  2023-04-05\n",
      "1             T6        105    450  2023-05-15\n",
      "2             T7        106    200  2023-06-20\n",
      "3             T8        107    500  2023-06-30\n"
     ]
    }
   ],
   "source": [
    "import pandas as pd\n",
    "\n",
    "# Crear un DataFrame con transacciones del primer trimestre (q1)\n",
    "df_transacciones_q1 = pd.DataFrame({\n",
    "    'id_transaccion': ['T1', 'T2', 'T3', 'T4'],\n",
    "    'id_cliente': ['100', '101', '102', '103'],\n",
    "    'monto': [200, 150, 500, 400],\n",
    "    'fecha': ['2023-01-15', '2023-02-20', '2023-03-10', '2023-03-22']\n",
    "})\n",
    "\n",
    "# Crear otro DataFrame con transacciones del segundo trimestre (q2)\n",
    "df_transacciones_q2 = pd.DataFrame({\n",
    "    'id_transaccion': ['T5', 'T6', 'T7', 'T8'],\n",
    "    'id_cliente': ['104', '105', '106', '107'],\n",
    "    'monto': [300, 450, 200, 500],\n",
    "    'fecha': ['2023-04-05', '2023-05-15', '2023-06-20', '2023-06-30']\n",
    "})\n",
    "\n",
    "print(\"DataFrame df_transacciones_q1:\\n\", df_transacciones_q1)\n",
    "print(\"\\nDataFrame df_transacciones_q2:\\n\", df_transacciones_q2)\n"
   ]
  },
  {
   "cell_type": "code",
   "execution_count": null,
   "metadata": {
    "colab": {
     "base_uri": "https://localhost:8080/"
    },
    "id": "i_DBIgyfuItY",
    "outputId": "b8d4b2f0-8f41-4d27-e768-f4759d76f653"
   },
   "outputs": [
    {
     "name": "stdout",
     "output_type": "stream",
     "text": [
      "\n",
      "DataFrame concatenado:\n",
      "   id_transaccion id_cliente  monto       fecha\n",
      "0             T1        100    200  2023-01-15\n",
      "1             T2        101    150  2023-02-20\n",
      "2             T3        102    500  2023-03-10\n",
      "3             T4        103    400  2023-03-22\n",
      "4             T5        104    300  2023-04-05\n",
      "5             T6        105    450  2023-05-15\n",
      "6             T7        106    200  2023-06-20\n",
      "7             T8        107    500  2023-06-30\n"
     ]
    }
   ],
   "source": [
    "# Concatenar DataFrames\n",
    "df_transacciones_concatenadas = pd.concat([df_transacciones_q1, df_transacciones_q2], ignore_index=True)\n",
    "\n",
    "print(\"\\nDataFrame concatenado:\\n\", df_transacciones_concatenadas)\n"
   ]
  },
  {
   "cell_type": "markdown",
   "metadata": {
    "id": "jFHAbnBPm_Oo"
   },
   "source": [
    "#### Fusionar DataFrames"
   ]
  },
  {
   "cell_type": "markdown",
   "metadata": {
    "id": "4HkmtO0GiI-r"
   },
   "source": [
    "Se crean a continuación, los DataFrames **`df_izquierda`** y **`df_derecha`**  con una columna común **`'key'`** que actúa como identificador, y contienen datos en las columnas **`'A'`** y **`'B'`** para el primero, y **`'C'`** y ***'D'*** para el segundo.\n",
    "\n",
    "Luego, se utiliza **`pd.merge()`** para combinar **`df_izquierda`** y **`df_derecha`** utilizando la columna **`'key'`** como el criterio de unión. Esto resulta en un DataFrame **`df_fusionado`** donde cada fila contiene tanto los datos de **`df_izquierda`** como los de **`df_derecha`** para las claves coincidentes."
   ]
  },
  {
   "cell_type": "code",
   "execution_count": null,
   "metadata": {
    "colab": {
     "base_uri": "https://localhost:8080/"
    },
    "id": "zP_1p09_ooZh",
    "outputId": "39560c9b-f7d5-42ce-d052-3a09aa48ea62"
   },
   "outputs": [
    {
     "name": "stdout",
     "output_type": "stream",
     "text": [
      "DataFrame df_izquierda:\n",
      "   key   A   B\n",
      "0  K0  A0  B0\n",
      "1  K1  A1  B1\n",
      "2  K2  A2  B2\n",
      "3  K3  A3  B3\n",
      "\n",
      "DataFrame df_derecha:\n",
      "   key   C   D\n",
      "0  K0  C0  D0\n",
      "1  K1  C1  D1\n",
      "2  K2  C2  D2\n",
      "3  K3  C3  D3\n"
     ]
    }
   ],
   "source": [
    "import pandas as pd\n",
    "\n",
    "# Crear dos DataFrames para fusionar\n",
    "df_izquierda = pd.DataFrame({'key': ['K0', 'K1', 'K2', 'K3'],\n",
    "                             'A': ['A0', 'A1', 'A2', 'A3'],\n",
    "                             'B': ['B0', 'B1', 'B2', 'B3']})\n",
    "\n",
    "df_derecha = pd.DataFrame({'key': ['K0', 'K1', 'K2', 'K3'],\n",
    "                           'C': ['C0', 'C1', 'C2', 'C3'],\n",
    "                           'D': ['D0', 'D1', 'D2', 'D3']})\n",
    "\n",
    "print(\"DataFrame df_izquierda:\\n\", df_izquierda)\n",
    "print(\"\\nDataFrame df_derecha:\\n\", df_derecha)\n"
   ]
  },
  {
   "cell_type": "code",
   "execution_count": null,
   "metadata": {
    "colab": {
     "base_uri": "https://localhost:8080/"
    },
    "id": "PtXdHThIm_mR",
    "outputId": "26db538f-d356-462c-cee4-ad18e2c58a2b"
   },
   "outputs": [
    {
     "name": "stdout",
     "output_type": "stream",
     "text": [
      "\n",
      "DataFrame fusionado:\n",
      "   key   A   B   C   D\n",
      "0  K0  A0  B0  C0  D0\n",
      "1  K1  A1  B1  C1  D1\n",
      "2  K2  A2  B2  C2  D2\n",
      "3  K3  A3  B3  C3  D3\n"
     ]
    }
   ],
   "source": [
    "# Fusionar DataFrames\n",
    "df_fusionado = pd.merge(df_izquierda, df_derecha, on='key')\n",
    "\n",
    "print(\"DataFrame fusionado:\\n\", df_fusionado)\n"
   ]
  },
  {
   "cell_type": "markdown",
   "metadata": {
    "id": "w4G8DGettfUs"
   },
   "source": [
    "Ejemplo práctico con datos financieros:"
   ]
  },
  {
   "cell_type": "markdown",
   "metadata": {
    "id": "e9Os9juUjlyy"
   },
   "source": [
    "En el siguiente fragmento de código, **`df_creditos`** contiene información de créditos con campos para el ID del crédito, ID del cliente y el monto del crédito.\n",
    "\n",
    "**`df_clientes`** incluye datos de clientes como el ID del cliente, nombre del cliente y ciudad.\n",
    "\n",
    "Luego, utiliza **`pd.merge()`** para fusionar **`df_creditos`** y **`df_clientes`** usando **`'id_cliente'`** como la clave común. Esto alinea los datos de créditos y clientes basándose en el ID del cliente."
   ]
  },
  {
   "cell_type": "code",
   "execution_count": null,
   "metadata": {
    "colab": {
     "base_uri": "https://localhost:8080/"
    },
    "id": "5jwnmEp4tbUs",
    "outputId": "89314cf6-f7b0-41e2-cbe8-832d376d7761"
   },
   "outputs": [
    {
     "name": "stdout",
     "output_type": "stream",
     "text": [
      "DataFrame df_creditos:\n",
      "   id_credito id_cliente  monto_credito\n",
      "0         C1        100           5000\n",
      "1         C2        101           8000\n",
      "2         C3        102          12000\n",
      "3         C4        103          10000\n",
      "\n",
      "DataFrame df_clientes:\n",
      "   id_cliente nombre_cliente    ciudad\n",
      "0        100           Juan  Ciudad A\n",
      "1        101            Ana  Ciudad B\n",
      "2        102          Pedro  Ciudad C\n",
      "3        103          Luisa  Ciudad D\n"
     ]
    }
   ],
   "source": [
    "import pandas as pd\n",
    "\n",
    "# Crear un DataFrame con información sobre créditos\n",
    "df_creditos = pd.DataFrame({\n",
    "    'id_credito': ['C1', 'C2', 'C3', 'C4'],\n",
    "    'id_cliente': ['100', '101', '102', '103'],\n",
    "    'monto_credito': [5000, 8000, 12000, 10000]\n",
    "})\n",
    "\n",
    "# Crear otro DataFrame con información sobre los clientes\n",
    "df_clientes = pd.DataFrame({\n",
    "    'id_cliente': ['100', '101', '102', '103'],\n",
    "    'nombre_cliente': ['Juan', 'Ana', 'Pedro', 'Luisa'],\n",
    "    'ciudad': ['Ciudad A', 'Ciudad B', 'Ciudad C', 'Ciudad D']\n",
    "})\n",
    "\n",
    "print(\"DataFrame df_creditos:\\n\", df_creditos)\n",
    "print(\"\\nDataFrame df_clientes:\\n\", df_clientes)\n"
   ]
  },
  {
   "cell_type": "code",
   "execution_count": null,
   "metadata": {
    "colab": {
     "base_uri": "https://localhost:8080/"
    },
    "id": "KVHnQjydtdtD",
    "outputId": "c08663bd-8c7f-4535-f95c-f545c4d31e90"
   },
   "outputs": [
    {
     "name": "stdout",
     "output_type": "stream",
     "text": [
      "\n",
      "DataFrame fusionado:\n",
      "   id_credito id_cliente  monto_credito nombre_cliente    ciudad\n",
      "0         C1        100           5000           Juan  Ciudad A\n",
      "1         C2        101           8000            Ana  Ciudad B\n",
      "2         C3        102          12000          Pedro  Ciudad C\n",
      "3         C4        103          10000          Luisa  Ciudad D\n"
     ]
    }
   ],
   "source": [
    "# Fusionar DataFrames usando 'id_cliente' como clave\n",
    "df_fusionado = pd.merge(df_creditos, df_clientes, on='id_cliente')\n",
    "\n",
    "print(\"\\nDataFrame fusionado:\\n\", df_fusionado)\n"
   ]
  }
 ],
 "metadata": {
  "colab": {
   "provenance": [],
   "toc_visible": true
  },
  "kernelspec": {
   "display_name": "Python 3 (ipykernel)",
   "language": "python",
   "name": "python3"
  },
  "language_info": {
   "codemirror_mode": {
    "name": "ipython",
    "version": 3
   },
   "file_extension": ".py",
   "mimetype": "text/x-python",
   "name": "python",
   "nbconvert_exporter": "python",
   "pygments_lexer": "ipython3",
   "version": "3.12.9"
  }
 },
 "nbformat": 4,
 "nbformat_minor": 4
}
